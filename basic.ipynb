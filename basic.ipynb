{
 "cells": [
  {
   "cell_type": "markdown",
   "id": "6404c78d",
   "metadata": {},
   "source": [
    "Syntax and Semantics in Python"
   ]
  },
  {
   "cell_type": "markdown",
   "id": "d4850225",
   "metadata": {},
   "source": [
    "Outline: \n",
    "Single line Comments and multiline comments\n",
    "\n",
    "Definition of Syntax and Semantics\n",
    "\n",
    "Basic Syntax Rules in Python\n",
    "\n",
    "Understanding Semantics in Python\n",
    "\n",
    "Common Syntax Errors and How to Avoid Them\n",
    "\n",
    "Practical Code Examples\n",
    "\n",
    "Syntax refers to the set of rules that defines the combinations of symbols that are considered to be correctly structured programs in a language. In simpler terms, syntax is about the correct arrangement of words and symbols in a code.\n",
    "\n",
    "Semantics refers to the meaning or the interpretation of the symbols, characters, and commands in a language. It is about what the code is supposed to do when it runs."
   ]
  },
  {
   "cell_type": "code",
   "execution_count": 1,
   "id": "1df128c3",
   "metadata": {},
   "outputs": [
    {
     "name": "stdout",
     "output_type": "stream",
     "text": [
      "John\n",
      "Doe\n"
     ]
    }
   ],
   "source": [
    "##Basic rules in Python\n",
    "\n",
    "'''\n",
    "an example of multi-line comment\n",
    "'''\n",
    "\n",
    "'''\n",
    "Welcome to the python world\n",
    "This is a simple example of a multi-line comment\n",
    "'''\n",
    "\n",
    "\n",
    "##Case sensitive\n",
    "\n",
    "name = \"John\"\n",
    "Name = \"Doe\"\n",
    "\n",
    "print(name)  # Output: John\n",
    "print(Name)  # Output: Doe\n",
    "\n"
   ]
  },
  {
   "cell_type": "markdown",
   "id": "f41ed790",
   "metadata": {},
   "source": [
    "Indentation\n",
    "Indentation in Python is used to define the structure and hierarchy of the code. Unlike many other programming languages that use braces {} to delimit blocks of code, Python uses indentation to determine the grouping of statements. This means that all the statements within a block must be indented at the same level."
   ]
  },
  {
   "cell_type": "code",
   "execution_count": 2,
   "id": "08e5f067",
   "metadata": {},
   "outputs": [
    {
     "name": "stdout",
     "output_type": "stream",
     "text": [
      "Adult\n",
      "Not an adult\n"
     ]
    }
   ],
   "source": [
    "##Indentation\n",
    "## Python uses indentation to define the scope of loops, functions, and classes.\n",
    "\n",
    "age = 25\n",
    "if age > 18:\n",
    "    print(\"Adult\")\n",
    "    \n",
    "print(\"Not an adult\")  # This line is not part of the if block"
   ]
  },
  {
   "cell_type": "code",
   "execution_count": 3,
   "id": "926f9ddc",
   "metadata": {},
   "outputs": [
    {
     "name": "stdout",
     "output_type": "stream",
     "text": [
      "Hello World\n"
     ]
    }
   ],
   "source": [
    "## This is a single line comment\n",
    "print(\"Hello World\")\n"
   ]
  },
  {
   "cell_type": "code",
   "execution_count": 4,
   "id": "57ed82a1",
   "metadata": {},
   "outputs": [
    {
     "name": "stdout",
     "output_type": "stream",
     "text": [
      "153\n"
     ]
    }
   ],
   "source": [
    "###line continuation\n",
    "\n",
    "total = 1 + 2 + 3 + 4 + 5 + 6 + 7 + 8 + 9 + 10 + \\\n",
    "       11 + 12 + 13 + 14 + 15 + 16 + 17 \n",
    "       \n",
    "print(total)  # Output: 153"
   ]
  },
  {
   "cell_type": "code",
   "execution_count": 5,
   "id": "99f92d5a",
   "metadata": {},
   "outputs": [
    {
     "name": "stdout",
     "output_type": "stream",
     "text": [
      "5 10 15\n"
     ]
    }
   ],
   "source": [
    "##multiple statements on a single line\n",
    "x = 5; y = 10; z = 15\n",
    "print(x, y, z)  # Output: 5 10 15"
   ]
  },
  {
   "cell_type": "code",
   "execution_count": 6,
   "id": "a2ab677d",
   "metadata": {},
   "outputs": [],
   "source": [
    "##understanding sematic in python\n",
    "#variable assignment\n",
    "age= 25 ##age is an integer\n",
    "name = \"John\" ##name is a string\n"
   ]
  },
  {
   "cell_type": "code",
   "execution_count": 9,
   "id": "d624cd3b",
   "metadata": {},
   "outputs": [
    {
     "data": {
      "text/plain": [
       "int"
      ]
     },
     "execution_count": 9,
     "metadata": {},
     "output_type": "execute_result"
    }
   ],
   "source": [
    "type(age)  # Get the type of the variable age\n",
    " "
   ]
  },
  {
   "cell_type": "code",
   "execution_count": 10,
   "id": "d6bbe1ea",
   "metadata": {},
   "outputs": [
    {
     "data": {
      "text/plain": [
       "str"
      ]
     },
     "execution_count": 10,
     "metadata": {},
     "output_type": "execute_result"
    }
   ],
   "source": [
    "type(name)  # Get the type of the variable name "
   ]
  },
  {
   "cell_type": "code",
   "execution_count": 11,
   "id": "ed907baa",
   "metadata": {},
   "outputs": [
    {
     "name": "stdout",
     "output_type": "stream",
     "text": [
      "<class 'int'>\n",
      "<class 'str'>\n"
     ]
    }
   ],
   "source": [
    "#type inference\n",
    "variable = 10  # This is an integer\n",
    "print(type(variable))  # Output: <class 'int'>\n",
    "variable = \"Hello\"  # Now it's a string\n",
    "print(type(variable))  # Output: <class 'str'>"
   ]
  },
  {
   "cell_type": "code",
   "execution_count": 12,
   "id": "ac5f59a7",
   "metadata": {},
   "outputs": [
    {
     "name": "stdout",
     "output_type": "stream",
     "text": [
      "Adult\n"
     ]
    }
   ],
   "source": [
    "age = 25\n",
    "if age > 18:\n",
    "    print(\"Adult\")"
   ]
  },
  {
   "cell_type": "code",
   "execution_count": 13,
   "id": "30f5298a",
   "metadata": {},
   "outputs": [
    {
     "ename": "NameError",
     "evalue": "name 'b' is not defined",
     "output_type": "error",
     "traceback": [
      "\u001b[1;31m---------------------------------------------------------------------------\u001b[0m",
      "\u001b[1;31mNameError\u001b[0m                                 Traceback (most recent call last)",
      "Cell \u001b[1;32mIn[13], line 2\u001b[0m\n\u001b[0;32m      1\u001b[0m \u001b[38;5;66;03m##Name error\u001b[39;00m\n\u001b[1;32m----> 2\u001b[0m a\u001b[38;5;241m=\u001b[39m\u001b[43mb\u001b[49m\n",
      "\u001b[1;31mNameError\u001b[0m: name 'b' is not defined"
     ]
    }
   ],
   "source": [
    "##Name error\n",
    "a=b"
   ]
  },
  {
   "cell_type": "code",
   "execution_count": 14,
   "id": "7f70c7b4",
   "metadata": {},
   "outputs": [
    {
     "name": "stdout",
     "output_type": "stream",
     "text": [
      "Correct Indentation\n",
      "This line is not indented correctly\n",
      "End of block\n"
     ]
    }
   ],
   "source": [
    "##code example of identation\n",
    "if True:\n",
    "    print(\"Correct Indentation\")\n",
    "    if False:\n",
    "        print(\"Incorrect Indentation\")\n",
    "    print(\"This line is not indented correctly\")\n",
    "print(\"End of block\")"
   ]
  },
  {
   "cell_type": "markdown",
   "id": "c73590e6",
   "metadata": {},
   "source": [
    "Variables in Python"
   ]
  },
  {
   "cell_type": "markdown",
   "id": "dcced11f",
   "metadata": {},
   "source": [
    "Variables\n",
    "Variables are fundamental elements in programming used to store data that can be referenced and manipulated in a program. In Python, variables are created when you assign a value to them, and they do not need explicit declaration to reserve memory space. The declaration happens automatically when you assign a value to a variable.\n",
    "\n",
    "Outline:\n",
    "\n",
    "Introduction to Variables\n",
    "\n",
    "Declaring and Assigning Variables\n",
    "\n",
    "Naming Conventions\n",
    "\n",
    "Understanding Variable Types\n",
    "\n",
    "Type Checking and Conversion\n",
    "\n",
    "Dynamic Typing"
   ]
  },
  {
   "cell_type": "code",
   "execution_count": 15,
   "id": "dbd230e9",
   "metadata": {},
   "outputs": [],
   "source": [
    "a=100\n"
   ]
  },
  {
   "cell_type": "code",
   "execution_count": 16,
   "id": "af73a47b",
   "metadata": {},
   "outputs": [
    {
     "name": "stdout",
     "output_type": "stream",
     "text": [
      "Age: 25\n",
      "Name: John\n",
      "Height: 5.9\n",
      "Is Student: True\n"
     ]
    }
   ],
   "source": [
    "##declaring and assigning variables\n",
    "age = 25\n",
    "name = \"John\"\n",
    "height = 5.9\n",
    "is_student = True\n",
    "\n",
    "##Printing variables\n",
    "print(\"Age:\", age)\n",
    "print(\"Name:\", name)\n",
    "print(\"Height:\", height)\n",
    "print(\"Is Student:\", is_student)"
   ]
  },
  {
   "cell_type": "code",
   "execution_count": 17,
   "id": "c3d7b47e",
   "metadata": {},
   "outputs": [
    {
     "name": "stdout",
     "output_type": "stream",
     "text": [
      "Full Name: John Doe\n"
     ]
    }
   ],
   "source": [
    "##Naming conventions\n",
    "##Vairabl names should be descriptive and meaningful\n",
    "##they should not start with a letter or an underscore and should not contain special characters\n",
    "##Variable names should be in lowercase and use underscores to separate words\n",
    "first_name = \"John\"\n",
    "last_name = \"Doe\"\n",
    "full_name = first_name + \" \" + last_name\n",
    "print(\"Full Name:\", full_name)"
   ]
  },
  {
   "cell_type": "code",
   "execution_count": null,
   "id": "442cbbec",
   "metadata": {},
   "outputs": [],
   "source": [
    "##Inavlid variable names\n",
    "# 1st_name = \"John\"  # Invalid: starts with a digit\n",
    "# first-name = \"John\"  # Invalid: contains a hyphen\n",
    "# first name = \"John\"  # Invalid: contains a space"
   ]
  },
  {
   "cell_type": "code",
   "execution_count": 18,
   "id": "519206a8",
   "metadata": {},
   "outputs": [],
   "source": [
    "##case sensitivity\n",
    "name = \"Alice\"\n",
    "Name = \"Bob\"\n"
   ]
  },
  {
   "cell_type": "code",
   "execution_count": 20,
   "id": "14452221",
   "metadata": {},
   "outputs": [
    {
     "name": "stdout",
     "output_type": "stream",
     "text": [
      "<class 'int'>\n",
      "<class 'float'>\n"
     ]
    }
   ],
   "source": [
    "##understanding variable types\n",
    "##Python has several built-in data types, including:\n",
    "age = 25  # Integer\n",
    "height = 5.9  # Float\n",
    "name = \"John\"  # String\n",
    "is_student = True  # Boolean\n",
    "\n",
    "print(type(age))  # Output: <class 'int'>\n",
    "print(type(height))  # Output: <class 'float'>"
   ]
  },
  {
   "cell_type": "code",
   "execution_count": 21,
   "id": "983a11c5",
   "metadata": {},
   "outputs": [
    {
     "name": "stdout",
     "output_type": "stream",
     "text": [
      "<class 'int'>\n",
      "<class 'str'>\n"
     ]
    }
   ],
   "source": [
    "age = 25\n",
    "print(type(age))  # Output: <class 'int'>\n",
    "\n",
    "#type converson \n",
    "age_str = str(age)  # Convert integer to string\n",
    "print(type(age_str))  # Output: <class 'str'>\n",
    "age_float = float(age)  # Convert integer to float"
   ]
  },
  {
   "cell_type": "code",
   "execution_count": 22,
   "id": "54f64bcf",
   "metadata": {},
   "outputs": [
    {
     "data": {
      "text/plain": [
       "float"
      ]
     },
     "execution_count": 22,
     "metadata": {},
     "output_type": "execute_result"
    }
   ],
   "source": [
    "heightt = 5.9\n",
    "type(heightt)  # Output: <class 'float'>"
   ]
  },
  {
   "cell_type": "code",
   "execution_count": 23,
   "id": "014e31cc",
   "metadata": {},
   "outputs": [
    {
     "data": {
      "text/plain": [
       "5.0"
      ]
     },
     "execution_count": 23,
     "metadata": {},
     "output_type": "execute_result"
    }
   ],
   "source": [
    "float(int(heightt))  # Convert float to integer"
   ]
  },
  {
   "cell_type": "code",
   "execution_count": 24,
   "id": "f95b38bb",
   "metadata": {},
   "outputs": [
    {
     "name": "stdout",
     "output_type": "stream",
     "text": [
      "<class 'int'>\n",
      "<class 'float'>\n"
     ]
    }
   ],
   "source": [
    "var = 10\n",
    "print(type(var))  # Output: <class 'int'>\n",
    "\n",
    "var = 10.5\n",
    "print(type(var))  # Output: <class 'float'>\n",
    "\n"
   ]
  },
  {
   "cell_type": "code",
   "execution_count": 25,
   "id": "043a65fe",
   "metadata": {},
   "outputs": [
    {
     "name": "stdout",
     "output_type": "stream",
     "text": [
      "Name: Fredrick \n",
      "Age: 27\n"
     ]
    }
   ],
   "source": [
    "#input function\n",
    "name = input(\"Enter your name: \")\n",
    "age = int(input(\"Enter your age: \"))  # Convert input to integer\n",
    "print(\"Name:\", name)\n",
    "print(\"Age:\", age)  "
   ]
  },
  {
   "cell_type": "code",
   "execution_count": 27,
   "id": "7dd314c8",
   "metadata": {},
   "outputs": [
    {
     "name": "stdout",
     "output_type": "stream",
     "text": [
      "Result: 4500.0\n"
     ]
    }
   ],
   "source": [
    "#simple calculator\n",
    "num1 = float(input(\"Enter first number: \"))\n",
    "num2 = float(input(\"Enter second number: \"))\n",
    "operation = input(\"Enter operation (+, -, *, /): \")\n",
    "if operation == \"+\":\n",
    "    result = num1 + num2\n",
    "elif operation == \"-\":\n",
    "    result = num1 - num2\n",
    "elif operation == \"*\":\n",
    "    result = num1 * num2    \n",
    "elif operation == \"/\":\n",
    "    if num2 != 0:\n",
    "        result = num1 / num2\n",
    "    else:\n",
    "        result = \"Error: Division by zero\"\n",
    "        \n",
    "print(\"Result:\", result)  # Output: Result: <calculated value>"
   ]
  },
  {
   "cell_type": "markdown",
   "id": "0fc4a4a3",
   "metadata": {},
   "source": [
    "Data Types\n",
    "1. Definition:\n",
    "\n",
    "Data types are a classification of data which tell the compiler or interpreter how the programmer intends to use the data.\n",
    "\n",
    "They determine the type of operations that can be performed on the data, the values that the data can take, and the amount of memory needed to store the data.\n",
    "\n",
    "2. Importance of Data Types in Programming:\n",
    "\n",
    "Data types ensure that data is stored in an efficient way.\n",
    "\n",
    "They help in performing correct operations on data.\n",
    "\n",
    "Proper use of data types can prevent errors and bugs in the program.\n",
    "\n",
    "Outline:\n",
    "\n",
    "Introduction to Data Types\n",
    "\n",
    "Importance of Data Types in Programming\n",
    "\n",
    "Basic Data Types\n",
    "\n",
    "Integers\n",
    "\n",
    "Floating-point numbers\n",
    "\n",
    "Strings\n",
    "\n",
    "Booleans\n",
    "\n",
    "4. Advanced Data Types\n",
    "\n",
    "Lists\n",
    "\n",
    "Tuples\n",
    "\n",
    "Dictionaries\n",
    "\n",
    "Sets\n",
    "\n",
    "5.Type Conversion\n",
    "\n",
    "6. Practical Examples"
   ]
  },
  {
   "cell_type": "code",
   "execution_count": 28,
   "id": "f4e838a9",
   "metadata": {},
   "outputs": [
    {
     "name": "stdout",
     "output_type": "stream",
     "text": [
      "<class 'int'>\n"
     ]
    }
   ],
   "source": [
    "##integer example\n",
    "age = 25\n",
    "print(type(age))  # Output: <class 'int'>"
   ]
  },
  {
   "cell_type": "code",
   "execution_count": 29,
   "id": "4e33bd3e",
   "metadata": {},
   "outputs": [
    {
     "name": "stdout",
     "output_type": "stream",
     "text": [
      "<class 'float'>\n"
     ]
    }
   ],
   "source": [
    "##floating datatyoe\n",
    "\n",
    "height = 5.9\n",
    "print(type(height))  # Output: <class 'float'>  "
   ]
  },
  {
   "cell_type": "code",
   "execution_count": 30,
   "id": "36ba4ffa",
   "metadata": {},
   "outputs": [
    {
     "name": "stdout",
     "output_type": "stream",
     "text": [
      "<class 'str'>\n"
     ]
    }
   ],
   "source": [
    "##String datatype\n",
    "name = \"John\"\n",
    "print(type(name))  # Output: <class 'str'>"
   ]
  },
  {
   "cell_type": "code",
   "execution_count": 31,
   "id": "8ab10e5b",
   "metadata": {},
   "outputs": [
    {
     "name": "stdout",
     "output_type": "stream",
     "text": [
      "<class 'bool'>\n"
     ]
    }
   ],
   "source": [
    "##booolean datatype\n",
    "is_student = True\n",
    "print(type(is_student))  # Output: <class 'bool'>"
   ]
  },
  {
   "cell_type": "code",
   "execution_count": 32,
   "id": "bd2052fb",
   "metadata": {},
   "outputs": [
    {
     "name": "stdout",
     "output_type": "stream",
     "text": [
      "<class 'bool'>\n"
     ]
    }
   ],
   "source": [
    "bool_var = False\n",
    "print(type(bool_var))  # Output: <class 'bool'>"
   ]
  },
  {
   "cell_type": "code",
   "execution_count": 33,
   "id": "0f564bf5",
   "metadata": {},
   "outputs": [
    {
     "name": "stdout",
     "output_type": "stream",
     "text": [
      "True\n"
     ]
    }
   ],
   "source": [
    "a=10\n",
    "b=10\n",
    "print(a==b)  # Output: True"
   ]
  },
  {
   "cell_type": "markdown",
   "id": "ef50de88",
   "metadata": {},
   "source": [
    "## Deep Dive into Operators\n",
    "\n",
    "**Outline:**\n",
    "\n",
    "1. Introduction to Operators  \n",
    "2. Arithmetic Operators  \n",
    "   - Addition  \n",
    "   - Subtraction  \n",
    "   - Multiplication  \n",
    "   - Division  \n",
    "   - Floor Division  \n",
    "   - Modulus  \n",
    "   - Exponentiation  \n",
    "3. Comparison Operators  \n",
    "   - Equal to  \n",
    "   - Not equal to  \n",
    "   - Greater than  \n",
    "   - Less than  \n",
    "   - Greater than or equal to  \n",
    "   - Less than or equal to  \n",
    "4. Logical Operators  \n",
    "   - AND  \n",
    "   - OR  \n",
    "   - NOT  \n",
    "5. Practical Examples and Common Errors  \n"
   ]
  },
  {
   "cell_type": "code",
   "execution_count": 34,
   "id": "eb121404",
   "metadata": {},
   "outputs": [
    {
     "name": "stdout",
     "output_type": "stream",
     "text": [
      "Sum: 15\n",
      "Difference: 5\n",
      "Product: 50\n",
      "Quotient: 2.0\n",
      "Remainder: 0\n",
      "Exponent: 100000\n",
      "Floor Division: 2\n"
     ]
    }
   ],
   "source": [
    "##Arithmetic operators\n",
    "a = 10\n",
    "b = 5\n",
    "sum = a + b\n",
    "diff = a - b\n",
    "product = a * b\n",
    "quotient = a / b\n",
    "remainder = a % b\n",
    "exponent = a ** b\n",
    "floor_division = a // b\n",
    "print(\"Sum:\", sum)  # Output: Sum: 15\n",
    "print(\"Difference:\", diff)  # Output: Difference: 5\n",
    "print(\"Product:\", product)  # Output: Product: 50\n",
    "print(\"Quotient:\", quotient)  # Output: Quotient: 2.0\n",
    "print(\"Remainder:\", remainder)  # Output: Remainder: 0\n",
    "print(\"Exponent:\", exponent)  # Output: Exponent: 100000\n",
    "print(\"Floor Division:\", floor_division)  # Output: Floor Division: 2\n"
   ]
  },
  {
   "cell_type": "code",
   "execution_count": 35,
   "id": "591c3582",
   "metadata": {},
   "outputs": [
    {
     "name": "stdout",
     "output_type": "stream",
     "text": [
      "False\n",
      "True\n",
      "True\n",
      "False\n",
      "True\n"
     ]
    }
   ],
   "source": [
    "##comparison operators\n",
    "a = 10\n",
    "b = 5\n",
    "print(a == b)  # Output: False\n",
    "print(a != b)  # Output: True\n",
    "print(a > b)  # Output: True\n",
    "print(a < b)  # Output: False\n",
    "print(a >= b)  # Output: True"
   ]
  },
  {
   "cell_type": "code",
   "execution_count": null,
   "id": "d1141a62",
   "metadata": {},
   "outputs": [
    {
     "name": "stdout",
     "output_type": "stream",
     "text": [
      "False\n",
      "True\n",
      "False\n"
     ]
    }
   ],
   "source": [
    "##Logic operators\n",
    "a = True\n",
    "b = False\n",
    "print(a and b)  # Output: False\n",
    "print(a or b)  # Output: True\n",
    "print(not a)  # Output: False\n"
   ]
  },
  {
   "cell_type": "markdown",
   "id": "aa5f4cff",
   "metadata": {},
   "source": [
    "### Conditional Statements (if, elif, else)\n",
    "\n",
    "**Outline:**\n",
    "\n",
    "1. Introduction to Conditional Statements  \n",
    "2. if Statement  \n",
    "3. else Statement  \n",
    "4. elif Statement  \n",
    "5. Nested Conditional Statements  \n",
    "6. Practical Examples  \n",
    "7. Common Errors and Best Practices  \n"
   ]
  },
  {
   "cell_type": "code",
   "execution_count": null,
   "id": "aeaec477",
   "metadata": {},
   "outputs": [
    {
     "name": "stdout",
     "output_type": "stream",
     "text": [
      "You are an adult.\n"
     ]
    }
   ],
   "source": [
    "##if  else statement\n",
    "age = 18\n",
    "if age >= 18:\n",
    "    print(\"You are an adult.\")\n",
    "else:\n",
    "    print(\"You are a minor.\")\n"
   ]
  },
  {
   "cell_type": "code",
   "execution_count": 38,
   "id": "a21e74ca",
   "metadata": {},
   "outputs": [
    {
     "name": "stdout",
     "output_type": "stream",
     "text": [
      "You are an adult.\n"
     ]
    }
   ],
   "source": [
    "##elif statement\n",
    "age = 18\n",
    "if age < 13:\n",
    "    print(\"You are a child.\")\n",
    "elif age < 18:\n",
    "    print(\"You are a teenager.\")\n",
    "elif age < 65:\n",
    "    print(\"You are an adult.\")\n",
    "else:\n",
    "    print(\"You are a senior citizen.\")"
   ]
  },
  {
   "cell_type": "code",
   "execution_count": 39,
   "id": "fd81c72e",
   "metadata": {},
   "outputs": [
    {
     "name": "stdout",
     "output_type": "stream",
     "text": [
      "Negative number\n",
      "Odd number\n"
     ]
    }
   ],
   "source": [
    "##Nested Conditional Statements\n",
    "\n",
    "#i can place one or more if, elif, or else statements inside another if, elif, or else statement\n",
    "\n",
    "num = int(input(\"Enter a number: \"))\n",
    "\n",
    "if num > 0:\n",
    "    print(\"Positive number\")\n",
    "    if num % 2 == 0:\n",
    "        print(\"Even number\")\n",
    "    else:\n",
    "        print(\"Odd number\")\n",
    "else:\n",
    "    print(\"Negative number\")\n",
    "    if num % 2 == 0:\n",
    "        print(\"Even number\")\n",
    "    else:\n",
    "        print(\"Odd number\")\n",
    "        "
   ]
  },
  {
   "cell_type": "code",
   "execution_count": 40,
   "id": "1215ca03",
   "metadata": {},
   "outputs": [
    {
     "name": "stdout",
     "output_type": "stream",
     "text": [
      "1996 is a leap year.\n"
     ]
    }
   ],
   "source": [
    "##determine if a year is a leap year using nested conditional statements\n",
    "year = int(input(\"Enter a year: \"))\n",
    "if year % 4 == 0:\n",
    "    if year % 100 == 0:\n",
    "        if year % 400 == 0:\n",
    "            print(year, \"is a leap year.\")\n",
    "        else:\n",
    "            print(year, \"is not a leap year.\")\n",
    "    else:\n",
    "        print(year, \"is a leap year.\")"
   ]
  },
  {
   "cell_type": "code",
   "execution_count": 41,
   "id": "96ec6cfd",
   "metadata": {},
   "outputs": [
    {
     "name": "stdout",
     "output_type": "stream",
     "text": [
      "Ticket price: 5\n"
     ]
    }
   ],
   "source": [
    "##determining the ticket price based on age and student status\n",
    "age = int(input(\"Enter your age: \"))\n",
    "is_student = input(\"Are you a student? (yes/no): \").lower()\n",
    "if age < 18:\n",
    "    ticket_price = 5\n",
    "elif age >= 18 and age < 65:\n",
    "    if is_student == \"yes\":\n",
    "        ticket_price = 10\n",
    "    else:\n",
    "        ticket_price = 15\n",
    "else:\n",
    "    ticket_price = 8\n",
    "print(\"Ticket price:\", ticket_price)"
   ]
  },
  {
   "cell_type": "markdown",
   "id": "9f655b46",
   "metadata": {},
   "source": [
    "### Loops\n",
    "\n",
    "**Outline:**\n",
    "\n",
    "1. Introduction to Loops  \n",
    "2. for Loop  \n",
    "   - Iterating over a range  \n",
    "   - Iterating over a string  \n",
    "3. while Loop  \n",
    "4. Loop Control Statements  \n",
    "   - break  \n",
    "   - continue  \n",
    "5. Nested Loops  \n",
    "6. Practical Examples and Common Errors  \n"
   ]
  },
  {
   "cell_type": "code",
   "execution_count": 42,
   "id": "89d0aba4",
   "metadata": {},
   "outputs": [
    {
     "data": {
      "text/plain": [
       "range(0, 5)"
      ]
     },
     "execution_count": 42,
     "metadata": {},
     "output_type": "execute_result"
    }
   ],
   "source": [
    "range(5)"
   ]
  },
  {
   "cell_type": "code",
   "execution_count": 43,
   "id": "d7e8903b",
   "metadata": {},
   "outputs": [
    {
     "name": "stdout",
     "output_type": "stream",
     "text": [
      "0\n",
      "1\n",
      "2\n",
      "3\n",
      "4\n"
     ]
    }
   ],
   "source": [
    "##for loop\n",
    "\n",
    "for i in range(5):\n",
    "    print(i)  # Output: 0 1 2 3 4"
   ]
  },
  {
   "cell_type": "code",
   "execution_count": 44,
   "id": "5c79c1d3",
   "metadata": {},
   "outputs": [
    {
     "name": "stdout",
     "output_type": "stream",
     "text": [
      "1\n",
      "2\n",
      "3\n",
      "4\n",
      "5\n"
     ]
    }
   ],
   "source": [
    "for i in range(1, 6):\n",
    "    print(i)  # Output: 1 2 3 4 5"
   ]
  },
  {
   "cell_type": "code",
   "execution_count": 45,
   "id": "5f734cee",
   "metadata": {},
   "outputs": [
    {
     "name": "stdout",
     "output_type": "stream",
     "text": [
      "1\n",
      "3\n",
      "5\n"
     ]
    }
   ],
   "source": [
    "for i in range(1, 6, 2):\n",
    "    print(i)  # Output: 1 3 5"
   ]
  },
  {
   "cell_type": "code",
   "execution_count": 46,
   "id": "0531e281",
   "metadata": {},
   "outputs": [
    {
     "name": "stdout",
     "output_type": "stream",
     "text": [
      "1\n",
      "3\n",
      "5\n",
      "7\n",
      "9\n"
     ]
    }
   ],
   "source": [
    "for i in range(1, 10, 2):\n",
    "    print(i)  # Output: 1 3 5 7 9"
   ]
  },
  {
   "cell_type": "code",
   "execution_count": 47,
   "id": "e57f6262",
   "metadata": {},
   "outputs": [
    {
     "name": "stdout",
     "output_type": "stream",
     "text": [
      "1\n",
      "4\n",
      "7\n",
      "10\n",
      "13\n"
     ]
    }
   ],
   "source": [
    "for i in range(1, 15, 3):\n",
    "    print(i)  # Output: 1 4 7 10 13"
   ]
  },
  {
   "cell_type": "code",
   "execution_count": 48,
   "id": "9f1ed0e8",
   "metadata": {},
   "outputs": [
    {
     "name": "stdout",
     "output_type": "stream",
     "text": [
      "H\n",
      "e\n",
      "l\n",
      "l\n",
      "o\n",
      ",\n",
      " \n",
      "W\n",
      "o\n",
      "r\n",
      "l\n",
      "d\n",
      "!\n"
     ]
    }
   ],
   "source": [
    "##strings\n",
    "\n",
    "str= \"Hello, World!\"\n",
    "\n",
    "for i in str:\n",
    "    print(i)  # Output: H e l l o ,   W o r l d !   "
   ]
  },
  {
   "cell_type": "code",
   "execution_count": 49,
   "id": "0430d7be",
   "metadata": {},
   "outputs": [
    {
     "name": "stdout",
     "output_type": "stream",
     "text": [
      "0\n",
      "1\n",
      "2\n",
      "3\n",
      "4\n"
     ]
    }
   ],
   "source": [
    "##while loop\n",
    "##the while loop is used to execute a block of code repeatedly as long as a condition is true\n",
    "\n",
    "count = 0\n",
    "while count < 5:\n",
    "    print(count)\n",
    "    count += 1  # Increment count by 1\n",
    "    "
   ]
  },
  {
   "cell_type": "code",
   "execution_count": 50,
   "id": "73f2f392",
   "metadata": {},
   "outputs": [
    {
     "name": "stdout",
     "output_type": "stream",
     "text": [
      "0\n"
     ]
    }
   ],
   "source": [
    "count = 0\n",
    "\n",
    "while count%2==0:\n",
    "    print(count)\n",
    "    count += 1  # Increment count by 1"
   ]
  },
  {
   "cell_type": "code",
   "execution_count": 51,
   "id": "dee83e24",
   "metadata": {},
   "outputs": [
    {
     "name": "stdout",
     "output_type": "stream",
     "text": [
      "0\n",
      "1\n",
      "2\n",
      "3\n",
      "4\n"
     ]
    }
   ],
   "source": [
    "##lopp control statements\n",
    "##break statement\n",
    "##the break statement is used to exit a loop prematurely when a certain condition is met\n",
    "##break statement\n",
    "\n",
    "for i in range(10):\n",
    "    if i == 5:\n",
    "        break  # Exit the loop when i is 5\n",
    "    print(i)  # Output: 0 1 2 3 4"
   ]
  },
  {
   "cell_type": "code",
   "execution_count": 52,
   "id": "478da05c",
   "metadata": {},
   "outputs": [
    {
     "name": "stdout",
     "output_type": "stream",
     "text": [
      "1\n",
      "3\n",
      "5\n",
      "7\n",
      "9\n",
      "11\n",
      "13\n",
      "15\n",
      "17\n",
      "19\n",
      "21\n",
      "23\n",
      "25\n",
      "27\n",
      "29\n"
     ]
    }
   ],
   "source": [
    "##statement skip the current iteration and move to the next iteration\n",
    "for i in range(30):\n",
    "    if i % 2 == 0:\n",
    "        continue  # Skip even numbers\n",
    "    print(i)  # Output: 1 3 5 7 9 ... 29"
   ]
  },
  {
   "cell_type": "code",
   "execution_count": 53,
   "id": "c72b756b",
   "metadata": {},
   "outputs": [
    {
     "name": "stdout",
     "output_type": "stream",
     "text": [
      "0\n",
      "1\n",
      "2\n",
      "3\n",
      "4\n",
      "5\n",
      "6\n",
      "7\n",
      "8\n",
      "9\n"
     ]
    }
   ],
   "source": [
    "##passing the statement is a null operation\n",
    "for i in range(10):\n",
    "    if i==3:\n",
    "        pass  # Do nothing for i=3\n",
    "    print(i)  # Output: 0 1 2 3 4 5 6 7 8 9"
   ]
  },
  {
   "cell_type": "code",
   "execution_count": 54,
   "id": "bded2f6f",
   "metadata": {},
   "outputs": [
    {
     "name": "stdout",
     "output_type": "stream",
     "text": [
      "i: 0 j: 0\n",
      "i: 0 j: 1\n",
      "i: 1 j: 0\n",
      "i: 1 j: 1\n",
      "i: 2 j: 0\n",
      "i: 2 j: 1\n"
     ]
    }
   ],
   "source": [
    "##Nested loops\n",
    "for i in range(3):  # Outer loop\n",
    "    for j in range(2):  # Inner loop\n",
    "        print(\"i:\", i, \"j:\", j)  # Output: i: 0 j: 0, i: 0 j: 1, i: 1 j: 0, i: 1 j: 1, i: 2 j: 0, i: 2 j: 1"
   ]
  },
  {
   "cell_type": "code",
   "execution_count": 57,
   "id": "2612e3a2",
   "metadata": {},
   "outputs": [
    {
     "name": "stdout",
     "output_type": "stream",
     "text": [
      "1 is not a prime number\n",
      "2 is a prime number\n",
      "3 is a prime number\n",
      "5 is a prime number\n",
      "7 is a prime number\n",
      "11 is a prime number\n",
      "13 is a prime number\n",
      "17 is a prime number\n",
      "19 is a prime number\n",
      "23 is a prime number\n",
      "29 is a prime number\n",
      "31 is a prime number\n",
      "37 is a prime number\n",
      "41 is a prime number\n",
      "43 is a prime number\n",
      "47 is a prime number\n",
      "53 is a prime number\n",
      "59 is a prime number\n",
      "61 is a prime number\n",
      "67 is a prime number\n",
      "71 is a prime number\n",
      "73 is a prime number\n",
      "79 is a prime number\n",
      "83 is a prime number\n",
      "89 is a prime number\n",
      "97 is a prime number\n"
     ]
    }
   ],
   "source": [
    "##Calculated the sum of first N natural numbers using a while loop and loop \n",
    "\n",
    "#while loop \n",
    "\n",
    "for num in range(1, 101):\n",
    "    if num>1:\n",
    "        for i in range(2, num):\n",
    "            if (num % i) == 0:\n",
    "                break\n",
    "        else:\n",
    "            print(num, \"is a prime number\") \n",
    "    else:\n",
    "        print(num, \"is not a prime number\")\n"
   ]
  },
  {
   "cell_type": "markdown",
   "id": "915648cb",
   "metadata": {},
   "source": [
    "### Introduction to Lists\n",
    "\n",
    "- Lists are ordered, mutable collections of items.  \n",
    "- They can contain items of different data types.  \n",
    "\n",
    "**Outline:**  \n",
    "1. Introduction to Lists  \n",
    "2. Creating Lists  \n",
    "3. Accessing List Elements  \n",
    "4. Modifying List Elements \n",
    "5. List Methods \n",
    "6. Slicing Lists \n",
    "7. Iterating Over Lists\n",
    "8. List Comprehensions  \n",
    "9. Nested Lists  \n",
    "10. Practical Examples and Common Errors  \n"
   ]
  },
  {
   "cell_type": "code",
   "execution_count": 58,
   "id": "c584eca3",
   "metadata": {},
   "outputs": [
    {
     "name": "stdout",
     "output_type": "stream",
     "text": [
      "<class 'list'>\n"
     ]
    }
   ],
   "source": [
    "lst=[]\n",
    "print(type(lst))  # Output: <class 'list'>"
   ]
  },
  {
   "cell_type": "code",
   "execution_count": 60,
   "id": "9ca35f13",
   "metadata": {},
   "outputs": [
    {
     "name": "stdout",
     "output_type": "stream",
     "text": [
      "['Alice', 'Bob', 'Charlie']\n"
     ]
    }
   ],
   "source": [
    "names = [\"Alice\", \"Bob\", \"Charlie\"]\n",
    "print(names)  # Output: <class 'list'>"
   ]
  },
  {
   "cell_type": "code",
   "execution_count": 61,
   "id": "083ab900",
   "metadata": {},
   "outputs": [
    {
     "name": "stdout",
     "output_type": "stream",
     "text": [
      "[1, 'Hello', 3.14, True]\n"
     ]
    }
   ],
   "source": [
    "mixed_list = [1, \"Hello\", 3.14, True]\n",
    "print(mixed_list)  # Output: [1, \"Hello\", 3.14, True]"
   ]
  },
  {
   "cell_type": "code",
   "execution_count": 62,
   "id": "8d2c4a81",
   "metadata": {},
   "outputs": [],
   "source": [
    "###Accessing list elements\n",
    "\n",
    "fruits = [\"apple\", \"banana\", \"cherry\"]"
   ]
  },
  {
   "cell_type": "code",
   "execution_count": 64,
   "id": "2a771a7e",
   "metadata": {},
   "outputs": [
    {
     "name": "stdout",
     "output_type": "stream",
     "text": [
      "apple\n",
      "banana\n",
      "cherry\n",
      "cherry\n",
      "banana\n",
      "['banana', 'cherry']\n",
      "['apple', 'banana']\n",
      "['banana', 'cherry']\n"
     ]
    }
   ],
   "source": [
    "print(fruits[0])  # Output: apple\n",
    "print(fruits[1])  # Output: banana\n",
    "\n",
    "print(fruits[2])  # Output: cherry\n",
    "print(fruits[-1])  # Output: cherry (last element)\n",
    "\n",
    "print(fruits[-2])  # Output: banana (second last element)\n",
    "print(fruits[1:3])  # Output: ['banana', 'cherry'] (slicing)\n",
    "\n",
    "print(fruits[:2])  # Output: ['apple', 'banana'] (slicing)\n",
    "print(fruits[1:])  # Output: ['banana', 'cherry'] (slicing)\n",
    "\n"
   ]
  },
  {
   "cell_type": "code",
   "execution_count": 65,
   "id": "948131c5",
   "metadata": {},
   "outputs": [
    {
     "name": "stdout",
     "output_type": "stream",
     "text": [
      "['apple', 'orange', 'cherry']\n"
     ]
    }
   ],
   "source": [
    "#modifying list elements\n",
    "fruits = [\"apple\", \"banana\", \"cherry\"]\n",
    "fruits[1] = \"orange\"  # Change the second element\n",
    "print(fruits)  # Output: ['apple', 'orange', 'cherry']"
   ]
  },
  {
   "cell_type": "code",
   "execution_count": 66,
   "id": "5c053bc0",
   "metadata": {},
   "outputs": [],
   "source": [
    "fruits[1:] = \"apple\""
   ]
  },
  {
   "cell_type": "code",
   "execution_count": 67,
   "id": "9c72f4a1",
   "metadata": {},
   "outputs": [
    {
     "data": {
      "text/plain": [
       "['apple', 'a', 'p', 'p', 'l', 'e']"
      ]
     },
     "execution_count": 67,
     "metadata": {},
     "output_type": "execute_result"
    }
   ],
   "source": [
    "fruits"
   ]
  },
  {
   "cell_type": "code",
   "execution_count": 68,
   "id": "834feaa6",
   "metadata": {},
   "outputs": [
    {
     "name": "stdout",
     "output_type": "stream",
     "text": [
      "['apple', 'banana', 'cherry', 'orange']\n"
     ]
    }
   ],
   "source": [
    "fruits=[\"apple\", \"banana\", \"cherry\", \"orange\"]\n",
    "print(fruits)  # Output: ['apple', 'banana', 'cherry', 'orange']"
   ]
  },
  {
   "cell_type": "code",
   "execution_count": 69,
   "id": "e7b91cf8",
   "metadata": {},
   "outputs": [
    {
     "name": "stdout",
     "output_type": "stream",
     "text": [
      "['apple', 'banana', 'kiwi', 'cherry', 'orange']\n"
     ]
    }
   ],
   "source": [
    "fruits.insert(2, \"kiwi\")  # Insert \"kiwi\" at index 2\n",
    "print(fruits)  # Output: ['apple', 'banana', 'kiwi', 'cherry', 'orange']"
   ]
  },
  {
   "cell_type": "code",
   "execution_count": 70,
   "id": "76f2047a",
   "metadata": {},
   "outputs": [
    {
     "name": "stdout",
     "output_type": "stream",
     "text": [
      "['apple', 'kiwi', 'cherry', 'orange']\n"
     ]
    }
   ],
   "source": [
    "fruits.remove(\"banana\")  # Remove \"banana\" from the list\n",
    "print(fruits)  # Output: ['apple', 'kiwi', 'cherry', 'orange']"
   ]
  },
  {
   "cell_type": "code",
   "execution_count": 72,
   "id": "7f412d17",
   "metadata": {},
   "outputs": [
    {
     "name": "stdout",
     "output_type": "stream",
     "text": [
      "cherry\n",
      "['apple', 'kiwi']\n"
     ]
    }
   ],
   "source": [
    "#remove and return the last element\n",
    "last_fruit = fruits.pop()  # Remove and return the last element\n",
    "print(last_fruit)  # Output: orange\n",
    "print(fruits)  # Output: ['apple', 'kiwi', 'cherry']"
   ]
  },
  {
   "cell_type": "code",
   "execution_count": 73,
   "id": "6ccd604b",
   "metadata": {},
   "outputs": [
    {
     "name": "stdout",
     "output_type": "stream",
     "text": [
      "1\n"
     ]
    }
   ],
   "source": [
    "index = fruits.index(\"kiwi\")  # Get the index of \"kiwi\"\n",
    "print(index)  # Output: 1"
   ]
  },
  {
   "cell_type": "code",
   "execution_count": 74,
   "id": "e5c4f700",
   "metadata": {},
   "outputs": [
    {
     "name": "stdout",
     "output_type": "stream",
     "text": [
      "['apple', 'kiwi', 'Mango']\n"
     ]
    }
   ],
   "source": [
    "fruits.insert(2, \"Mango\")  # Insert \"Mango\" at index 2\n",
    "print(fruits)  # Output: ['apple', 'kiwi', 'Mango', 'cherry']"
   ]
  },
  {
   "cell_type": "code",
   "execution_count": null,
   "id": "a57d4bec",
   "metadata": {},
   "outputs": [
    {
     "name": "stdout",
     "output_type": "stream",
     "text": [
      "['Mango', 'kiwi', 'apple']\n"
     ]
    }
   ],
   "source": [
    "fruits.reverse()  # Reverse the list\n",
    "print(fruits)  # Output: ['Mango', 'kiwi', 'apple']"
   ]
  },
  {
   "cell_type": "code",
   "execution_count": 76,
   "id": "ecacf016",
   "metadata": {},
   "outputs": [
    {
     "name": "stdout",
     "output_type": "stream",
     "text": [
      "[3, 4, 5]\n",
      "[1, 2, 3, 4, 5]\n",
      "[6, 7, 8, 9, 10]\n",
      "[1, 3, 5, 7, 9]\n"
     ]
    }
   ],
   "source": [
    "#Slicing a list\n",
    "numbers = [1, 2, 3, 4, 5, 6, 7, 8, 9, 10]\n",
    "print(numbers[2:5])  # Output: [3, 4, 5]\n",
    "print(numbers[:5])  # Output: [1, 2, 3, 4, 5]\n",
    "print(numbers[5:])  # Output: [6, 7, 8, 9, 10]\n",
    "print(numbers[::2])  # Output: [1, 3, 5, 7, 9]"
   ]
  },
  {
   "cell_type": "code",
   "execution_count": 77,
   "id": "e27aa262",
   "metadata": {},
   "outputs": [
    {
     "data": {
      "text/plain": [
       "[1, 2, 3, 4, 5, 6, 7, 8, 9, 10]"
      ]
     },
     "execution_count": 77,
     "metadata": {},
     "output_type": "execute_result"
    }
   ],
   "source": [
    "numbers[::]  # Output: [1, 2, 3, 4, 5, 6, 7, 8, 9, 10]"
   ]
  },
  {
   "cell_type": "code",
   "execution_count": 78,
   "id": "9403c82b",
   "metadata": {},
   "outputs": [
    {
     "name": "stdout",
     "output_type": "stream",
     "text": [
      "Mango\n",
      "kiwi\n",
      "apple\n"
     ]
    }
   ],
   "source": [
    "###iteration over a list\n",
    "\n",
    "for fruit in fruits:\n",
    "    print(fruit)  # Output: apple kiwi cherry"
   ]
  },
  {
   "cell_type": "code",
   "execution_count": 80,
   "id": "12754cde",
   "metadata": {},
   "outputs": [
    {
     "name": "stdout",
     "output_type": "stream",
     "text": [
      "0 Mango\n",
      "1 kiwi\n",
      "2 apple\n"
     ]
    }
   ],
   "source": [
    "##iterating over a list using index\n",
    "for index, fruit in enumerate(fruits):\n",
    "    print(index, fruit)  # Output: 0 apple, 1 kiwi, 2 cherry"
   ]
  },
  {
   "cell_type": "code",
   "execution_count": null,
   "id": "0ce2e954",
   "metadata": {},
   "outputs": [
    {
     "name": "stdout",
     "output_type": "stream",
     "text": [
      "[0, 1, 4, 9, 16, 25, 36, 49, 64, 81]\n"
     ]
    }
   ],
   "source": [
    "##list comprehension\n",
    "list = []\n",
    "for i in range(10): # Generate squares of numbers from 0 to 9\n",
    "    list.append(i**2)\n",
    "    \n",
    "print(list)  # Output: [0, 1, 4, 9, 16, 25, 36, 49, 64, 81]"
   ]
  },
  {
   "cell_type": "code",
   "execution_count": 82,
   "id": "7e301000",
   "metadata": {},
   "outputs": [
    {
     "data": {
      "text/plain": [
       "[0, 1, 4, 9, 16, 25, 36, 49, 64, 81]"
      ]
     },
     "execution_count": 82,
     "metadata": {},
     "output_type": "execute_result"
    }
   ],
   "source": [
    "[i**2 for i in range(10)]  # Output: [0, 1, 4, 9, 16, 25, 36, 49, 64, 81]"
   ]
  },
  {
   "cell_type": "markdown",
   "id": "72692628",
   "metadata": {},
   "source": [
    "### List Comprehension\n",
    "\n",
    "- **Basic Syntax:**  \n",
    "  ```python\n",
    "  [expression for item in iterable]\n",
    "\n",
    "nwstwed list compre"
   ]
  },
  {
   "cell_type": "code",
   "execution_count": 83,
   "id": "5fd7c188",
   "metadata": {},
   "outputs": [
    {
     "name": "stdout",
     "output_type": "stream",
     "text": [
      "[0, 1, 4, 9, 16, 25, 36, 49, 64, 81]\n"
     ]
    }
   ],
   "source": [
    "##Basic list comprehension\n",
    "\n",
    "squares = [x**2 for x in range(10)]  # Generate squares of numbers from 0 to 9\n",
    "print(squares)  # Output: [0, 1, 4, 9, 16, 25, 36, 49, 64, 81]"
   ]
  },
  {
   "cell_type": "code",
   "execution_count": 85,
   "id": "e96d2b7e",
   "metadata": {},
   "outputs": [
    {
     "name": "stdout",
     "output_type": "stream",
     "text": [
      "[0, 4, 16, 36, 64]\n"
     ]
    }
   ],
   "source": [
    "##list comprehension with condition\n",
    "list = []\n",
    "for i in range(10):  # Generate squares of even numbers from 0 to 9\n",
    "    if i % 2 == 0:\n",
    "        list.append(i**2)\n",
    "print(list)  # Output: [0, 4, 16, 36, 64]"
   ]
  },
  {
   "cell_type": "code",
   "execution_count": 86,
   "id": "784f7f11",
   "metadata": {},
   "outputs": [
    {
     "name": "stdout",
     "output_type": "stream",
     "text": [
      "[0, 2, 4, 6, 8]\n"
     ]
    }
   ],
   "source": [
    "even_number =  [num for num in range(10) if num % 2 == 0]  # Generate squares of even numbers from 0 to 9\n",
    "print(even_number)  # Output: [0, 2, 4, 6, 8]"
   ]
  },
  {
   "cell_type": "code",
   "execution_count": 87,
   "id": "b7971f18",
   "metadata": {},
   "outputs": [
    {
     "name": "stdout",
     "output_type": "stream",
     "text": [
      "[[1, 4], [1, 5], [1, 6], [2, 4], [2, 5], [2, 6], [3, 4], [3, 5], [3, 6]]\n"
     ]
    }
   ],
   "source": [
    "##neted list comprehension\n",
    "\n",
    "lst1 = [1, 2, 3]\n",
    "lst2 = [4, 5, 6]\n",
    "\n",
    "result = [[x, y] for x in lst1 for y in lst2]\n",
    "print(result)  # Output: [[1, 4], [1, 5], [1, 6], [2, 4], [2, 5], [2, 6], [3, 4], [3, 5], [3, 6]]"
   ]
  },
  {
   "cell_type": "code",
   "execution_count": 88,
   "id": "3b9fe6d3",
   "metadata": {},
   "outputs": [
    {
     "name": "stdout",
     "output_type": "stream",
     "text": [
      "[5, 5, 6]\n"
     ]
    }
   ],
   "source": [
    "#list comprehension with function cells \n",
    "word = [\"hello\", \"world\", \"python\"]\n",
    "word_length = [len(w) for w in word]  # Get the length of each word\n",
    "print(word_length)  # Output: [5, 5, 6]"
   ]
  },
  {
   "cell_type": "markdown",
   "id": "d65e4e73",
   "metadata": {},
   "source": [
    "### Real-World Examples Using Lists in Python\n",
    "\n",
    "Lists are one of the most commonly used data structures in Python, thanks to their versatility and ease of use. Here are several practical examples that illustrate their use in real-world scenarios:\n",
    "\n",
    "**Example 1. Manage A To Do List**  \n",
    "- Create a To Do List To Keep Track Of Tasks  \n"
   ]
  },
  {
   "cell_type": "code",
   "execution_count": 89,
   "id": "be4b77be",
   "metadata": {},
   "outputs": [
    {
     "name": "stdout",
     "output_type": "stream",
     "text": [
      "task1 is in the list\n",
      "To-Do List: ['task1', 'task3', 'task4', 'task5']\n",
      "task1\n",
      "task3\n",
      "task4\n",
      "task5\n"
     ]
    }
   ],
   "source": [
    "to_do_list = [\"task1\", \"task2\", \"task3\"]\n",
    "\n",
    "##adding to task \n",
    "to_do_list.append(\"task4\")  # Add \"task4\" to the end of the list\n",
    "to_do_list.append(\"task5\")  # Add \"task5\" to the end of the list\n",
    "\n",
    "#removing a completedtask\n",
    "to_do_list.remove(\"task2\")  # Remove \"task2\" from the list\n",
    "\n",
    "##checking if a tasj is in the list\n",
    "if \"task1\" in to_do_list:\n",
    "    print(\"task1 is in the list\")\n",
    "\n",
    "print(\"To-Do List:\", to_do_list)  # Output: To-Do List: ['task1', 'task3', 'task4', 'task5']\n",
    "for task in to_do_list:\n",
    "    print(task)  # Output: task1 task3 task4 task5\n",
    "##Sorting a list"
   ]
  },
  {
   "cell_type": "code",
   "execution_count": 91,
   "id": "af4ed938",
   "metadata": {},
   "outputs": [
    {
     "ename": "TypeError",
     "evalue": "'int' object is not callable",
     "output_type": "error",
     "traceback": [
      "\u001b[1;31m---------------------------------------------------------------------------\u001b[0m",
      "\u001b[1;31mTypeError\u001b[0m                                 Traceback (most recent call last)",
      "Cell \u001b[1;32mIn[91], line 8\u001b[0m\n\u001b[0;32m      5\u001b[0m grades\u001b[38;5;241m.\u001b[39mappend(\u001b[38;5;241m95\u001b[39m)  \u001b[38;5;66;03m# Add a new grade\u001b[39;00m\n\u001b[0;32m      7\u001b[0m \u001b[38;5;66;03m#calculating the average grade\u001b[39;00m\n\u001b[1;32m----> 8\u001b[0m average_grade \u001b[38;5;241m=\u001b[39m \u001b[38;5;28;43msum\u001b[39;49m\u001b[43m(\u001b[49m\u001b[43mgrades\u001b[49m\u001b[43m)\u001b[49m \u001b[38;5;241m/\u001b[39m \u001b[38;5;28mlen\u001b[39m(grades)\n\u001b[0;32m      9\u001b[0m \u001b[38;5;28mprint\u001b[39m(\u001b[38;5;124m\"\u001b[39m\u001b[38;5;124mAverage Grade:\u001b[39m\u001b[38;5;124m\"\u001b[39m, average_grade)  \u001b[38;5;66;03m# Output: Average Grade: 88.0\u001b[39;00m\n\u001b[0;32m     11\u001b[0m \u001b[38;5;66;03m#finding th highest and lowest grade\u001b[39;00m\n",
      "\u001b[1;31mTypeError\u001b[0m: 'int' object is not callable"
     ]
    }
   ],
   "source": [
    "##organising students grade\n",
    "grades = [85, 92, 78, 90, 88]\n",
    "\n",
    "#adding a new grade\n",
    "grades.append(95)  # Add a new grade\n",
    "\n",
    "#calculating the average grade\n",
    "average_grade = sum(grades) / len(grades)\n",
    "print(\"Average Grade:\", average_grade)  # Output: Average Grade: 88.0\n",
    "\n",
    "#finding th highest and lowest grade\n",
    "highest_grade = max(grades)\n",
    "lowest_grade = min(grades)\n",
    "print(\"Highest Grade:\", highest_grade)  # Output: Highest Grade: 95\n",
    "print(\"Lowest Grade:\", lowest_grade)  # Output: Lowest Grade: 78"
   ]
  },
  {
   "cell_type": "code",
   "execution_count": 92,
   "id": "f0a0609a",
   "metadata": {},
   "outputs": [
    {
     "name": "stdout",
     "output_type": "stream",
     "text": [
      "Apple is in stock\n",
      "Inventory: ['apple', 'orange', 'grape']\n"
     ]
    }
   ],
   "source": [
    "##managing inventory\n",
    "inventory = [\"apple\", \"banana\", \"orange\"]\n",
    "\n",
    "#adding new items\n",
    "inventory.append(\"grape\")  # Add \"grape\" to the inventory\n",
    "\n",
    "#removing an item that is out of stock\n",
    "\n",
    "inventory.remove(\"banana\")  # Remove \"banana\" from the inventory\n",
    "#checking if an item is in stock\n",
    "if \"apple\" in inventory:\n",
    "    print(\"Apple is in stock\")  # Output: Apple is in stock\n",
    "else:\n",
    "    print(\"Apple is out of stock\")\n",
    "    \n",
    "#printing the inventory\n",
    "print(\"Inventory:\", inventory)  # Output: Inventory: ['apple', 'orange', 'grape']"
   ]
  },
  {
   "cell_type": "code",
   "execution_count": 95,
   "id": "ac94170d",
   "metadata": {},
   "outputs": [
    {
     "ename": "TypeError",
     "evalue": "'int' object is not callable",
     "output_type": "error",
     "traceback": [
      "\u001b[1;31m---------------------------------------------------------------------------\u001b[0m",
      "\u001b[1;31mTypeError\u001b[0m                                 Traceback (most recent call last)",
      "Cell \u001b[1;32mIn[95], line 8\u001b[0m\n\u001b[0;32m      5\u001b[0m feedback\u001b[38;5;241m.\u001b[39mappend(\u001b[38;5;124m\"\u001b[39m\u001b[38;5;124mVery satisfied\u001b[39m\u001b[38;5;124m\"\u001b[39m)  \u001b[38;5;66;03m# Add new feedback\u001b[39;00m\n\u001b[0;32m      7\u001b[0m \u001b[38;5;66;03m#counting the specific feedback\u001b[39;00m\n\u001b[1;32m----> 8\u001b[0m positive_feedback_count \u001b[38;5;241m=\u001b[39m \u001b[38;5;28;43msum\u001b[39;49m\u001b[43m(\u001b[49m\u001b[38;5;241;43m1\u001b[39;49m\u001b[43m \u001b[49m\u001b[38;5;28;43;01mfor\u001b[39;49;00m\u001b[43m \u001b[49m\u001b[43mcomment\u001b[49m\u001b[43m \u001b[49m\u001b[38;5;129;43;01min\u001b[39;49;00m\u001b[43m \u001b[49m\u001b[43mfeedback\u001b[49m\u001b[43m \u001b[49m\u001b[38;5;28;43;01mif\u001b[39;49;00m\u001b[43m \u001b[49m\u001b[38;5;124;43m\"\u001b[39;49m\u001b[38;5;124;43mGreat\u001b[39;49m\u001b[38;5;124;43m\"\u001b[39;49m\u001b[43m \u001b[49m\u001b[38;5;129;43;01min\u001b[39;49;00m\u001b[43m \u001b[49m\u001b[43mcomment\u001b[49m\u001b[38;5;241;43m.\u001b[39;49m\u001b[43mlower\u001b[49m\u001b[43m(\u001b[49m\u001b[43m)\u001b[49m\u001b[43m \u001b[49m\u001b[38;5;129;43;01mor\u001b[39;49;00m\u001b[43m \u001b[49m\u001b[38;5;124;43m\"\u001b[39;49m\u001b[38;5;124;43mExcellent\u001b[39;49m\u001b[38;5;124;43m\"\u001b[39;49m\u001b[43m \u001b[49m\u001b[38;5;129;43;01min\u001b[39;49;00m\u001b[43m \u001b[49m\u001b[43mcomment\u001b[49m\u001b[38;5;241;43m.\u001b[39;49m\u001b[43mlower\u001b[49m\u001b[43m(\u001b[49m\u001b[43m)\u001b[49m\u001b[43m)\u001b[49m\n\u001b[0;32m      9\u001b[0m \u001b[38;5;28mprint\u001b[39m(\u001b[38;5;124m\"\u001b[39m\u001b[38;5;124mPositive Feedback Count:\u001b[39m\u001b[38;5;124m\"\u001b[39m, positive_feedback_count)  \u001b[38;5;66;03m# Output: Positive Feedback Count: 2\u001b[39;00m\n\u001b[0;32m     11\u001b[0m \u001b[38;5;66;03m#prining the feedback\u001b[39;00m\n",
      "\u001b[1;31mTypeError\u001b[0m: 'int' object is not callable"
     ]
    }
   ],
   "source": [
    "##collecting user feedback\n",
    "feedback = [\"Great product\", \"Needs improvement\", \"Could be better!\", \"Excellent service\"]\n",
    "\n",
    "#adding new feedback\n",
    "feedback.append(\"Very satisfied\")  # Add new feedback\n",
    "\n",
    "#counting the specific feedback\n",
    "positive_feedback_count = sum(1 for comment in feedback if \"Great\" in comment.lower() or \"Excellent\" in comment.lower())\n",
    "print(\"Positive Feedback Count:\", positive_feedback_count)  # Output: Positive Feedback Count: 2\n",
    "\n",
    "#prining the feedback\n",
    "print(\"Feedback:\", feedback)  # Output: Feedback: ['Great product', 'Needs improvement', 'Excellent service', 'Very satisfied']\n",
    "for comment in feedback:\n",
    "    print(comment)  # Output: Great product Needs improvement Excellent service Very satisfied\n"
   ]
  },
  {
   "cell_type": "markdown",
   "id": "a471b351",
   "metadata": {},
   "source": [
    "### Sets\n",
    "\n",
    "Sets are a built-in data type in Python used to store collections of unique items. They are unordered, meaning that the elements do not follow a specific order, and they do not allow duplicate elements. Sets are useful for membership tests, eliminating duplicate entries, and performing mathematical set operations like union, intersection, difference, and symmetric difference.  \n"
   ]
  },
  {
   "cell_type": "code",
   "execution_count": 96,
   "id": "1322da3b",
   "metadata": {},
   "outputs": [
    {
     "name": "stdout",
     "output_type": "stream",
     "text": [
      "{1, 2, 3, 4, 5}\n",
      "<class 'set'>\n"
     ]
    }
   ],
   "source": [
    "##Create a set \n",
    "my_set = {1, 2, 3, 4, 5}\n",
    "print(my_set)  # Output: {1, 2, 3, 4, 5}\n",
    "my_set = {1, 2, 3, 4, 5}\n",
    "print(type(my_set))  # Output: <class 'set'>"
   ]
  },
  {
   "cell_type": "code",
   "execution_count": 97,
   "id": "c8788bcd",
   "metadata": {},
   "outputs": [
    {
     "name": "stdout",
     "output_type": "stream",
     "text": [
      "set()\n",
      "<class 'set'>\n"
     ]
    }
   ],
   "source": [
    "my_empty_set = set()  # Create an empty set\n",
    "print(my_empty_set)  # Output: set()\n",
    "print(type(my_empty_set))  # Output: <class 'set'>"
   ]
  },
  {
   "cell_type": "code",
   "execution_count": 100,
   "id": "66d22d46",
   "metadata": {},
   "outputs": [
    {
     "name": "stdout",
     "output_type": "stream",
     "text": [
      "{1, 2, 3, 4, 5, 6}\n"
     ]
    }
   ],
   "source": [
    "my_empty_set = set([1, 2, 3, 4, 5, 6])  # Create a set with elements\n",
    "print(my_empty_set)  # Output: {1, 2, 3}                                                                                                "
   ]
  },
  {
   "cell_type": "code",
   "execution_count": 101,
   "id": "1818287e",
   "metadata": {},
   "outputs": [
    {
     "name": "stdout",
     "output_type": "stream",
     "text": [
      "{1, 2, 3, 4, 5, 6}\n",
      "{1, 2, 4, 5, 6}\n"
     ]
    }
   ],
   "source": [
    "##Basic sets operations\n",
    "##adding and removing elements\n",
    "my_set.add(6)  # Add an element to the set\n",
    "print(my_set)  # Output: {1, 2, 3, 4, 5, 6}\n",
    "my_set.remove(3)  # Remove an element from the set\n",
    "print(my_set)  # Output: {1, 2, 4, 5, 6}"
   ]
  },
  {
   "cell_type": "code",
   "execution_count": 103,
   "id": "e904ff20",
   "metadata": {},
   "outputs": [
    {
     "name": "stdout",
     "output_type": "stream",
     "text": [
      "{1, 4, 5, 6}\n"
     ]
    }
   ],
   "source": [
    "my_set.discard(2)  # Discard an element from the set\n",
    "print(my_set)  # Output: {1, 4, 5, 6}"
   ]
  },
  {
   "cell_type": "code",
   "execution_count": 104,
   "id": "dcd108cc",
   "metadata": {},
   "outputs": [
    {
     "name": "stdout",
     "output_type": "stream",
     "text": [
      "1\n",
      "{4, 5, 6}\n"
     ]
    }
   ],
   "source": [
    "##pop method \n",
    "removed_element = my_set.pop()  # Remove and return an arbitrary element\n",
    "print(removed_element)  # Output: 1 (or any other element)\n",
    "print(my_set)  # Output: {4, 5, 6}"
   ]
  },
  {
   "cell_type": "code",
   "execution_count": 105,
   "id": "2cf1162b",
   "metadata": {},
   "outputs": [
    {
     "name": "stdout",
     "output_type": "stream",
     "text": [
      "set()\n"
     ]
    }
   ],
   "source": [
    "##clear all the elements in the set\n",
    "my_set.clear()  # Clear all elements from the set\n",
    "print(my_set)  # Output: set()"
   ]
  },
  {
   "cell_type": "code",
   "execution_count": 106,
   "id": "4ce6cb98",
   "metadata": {},
   "outputs": [
    {
     "name": "stdout",
     "output_type": "stream",
     "text": [
      "True\n",
      "False\n"
     ]
    }
   ],
   "source": [
    "##set membership test \n",
    "my_set = {1, 2, 3, 4, 5}\n",
    "print(3 in my_set)  # Output: True\n",
    "print(6 in my_set)  # Output: False"
   ]
  },
  {
   "cell_type": "code",
   "execution_count": 108,
   "id": "0bc62964",
   "metadata": {},
   "outputs": [
    {
     "name": "stdout",
     "output_type": "stream",
     "text": [
      "{1, 2, 3, 4, 5}\n",
      "{3}\n",
      "{1, 2}\n",
      "{1, 2, 4, 5}\n"
     ]
    }
   ],
   "source": [
    "##Mathematical set operations\n",
    "set1 = {1, 2, 3}\n",
    "set2 = {3, 4, 5}\n",
    "set3 = set1.union(set2)  # Union of two sets\n",
    "print(set3)  # Output: {1, 2, 3, 4, 5}\n",
    "\n",
    "#set intersection\n",
    "set4 = set1.intersection(set2)  # Intersection of two sets\n",
    "print(set4)  # Output: {3}\n",
    "\n",
    "#set difference\n",
    "set5 = set1.difference(set2)  # Difference of two sets\n",
    "print(set5)  # Output: {1, 2}\n",
    "\n",
    "#set symmetric difference\n",
    "set6 = set1.symmetric_difference(set2)  # Symmetric difference of two sets\n",
    "print(set6)  # Output: {1, 2, 4, 5}"
   ]
  },
  {
   "cell_type": "code",
   "execution_count": 109,
   "id": "390b2c4e",
   "metadata": {},
   "outputs": [
    {
     "name": "stdout",
     "output_type": "stream",
     "text": [
      "False\n",
      "True\n",
      "True\n"
     ]
    }
   ],
   "source": [
    "##set methods \n",
    "set1 = {1, 2, 3}\n",
    "set2 = {3, 4, 5}\n",
    "\n",
    "##is subset\n",
    "print(set1.issubset(set2))  # Output: False\n",
    "print(set1.issubset({1, 2, 3, 4, 5}))  # Output: True\n",
    "print(set2.issubset({1, 2, 3, 4, 5}))  # Output: True"
   ]
  },
  {
   "cell_type": "markdown",
   "id": "5e6b4ac6",
   "metadata": {},
   "source": [
    "Tuples in Python\n",
    "\n",
    "### Tuples\n",
    "\n",
    "**Outline:**  \n",
    "1. Introduction to Tuples  \n",
    "2. Creating Tuples  \n",
    "3. Accessing Tuple Elements  \n",
    "4. Tuple Operations  \n",
    "5. Immutable Nature of Tuples  \n",
    "6. Tuple Methods  \n",
    "7. Packing and Unpacking Tuples  \n",
    "8. Nested Tuples  \n",
    "9. Practical Examples and Common Errors  \n"
   ]
  },
  {
   "cell_type": "markdown",
   "id": "8653bc01",
   "metadata": {},
   "source": [
    "### Introduction to Tuples\n",
    "\n",
    "Tuples are ordered collections of items that are immutable. They are similar to lists, but their immutability makes them different.  \n"
   ]
  },
  {
   "cell_type": "code",
   "execution_count": 110,
   "id": "7b680a5b",
   "metadata": {},
   "outputs": [
    {
     "name": "stdout",
     "output_type": "stream",
     "text": [
      "()\n",
      "<class 'tuple'>\n"
     ]
    }
   ],
   "source": [
    "##creating a tuple \n",
    "empty_tuple = ()  # Create an empty tuple\n",
    "print(empty_tuple)  # Output: ()\n",
    "print(type(empty_tuple))  # Output: <class 'tuple'>"
   ]
  },
  {
   "cell_type": "code",
   "execution_count": 111,
   "id": "85eae7cf",
   "metadata": {},
   "outputs": [
    {
     "ename": "TypeError",
     "evalue": "'list' object is not callable",
     "output_type": "error",
     "traceback": [
      "\u001b[1;31m---------------------------------------------------------------------------\u001b[0m",
      "\u001b[1;31mTypeError\u001b[0m                                 Traceback (most recent call last)",
      "Cell \u001b[1;32mIn[111], line 1\u001b[0m\n\u001b[1;32m----> 1\u001b[0m lst \u001b[38;5;241m=\u001b[39m \u001b[38;5;28;43mlist\u001b[39;49m\u001b[43m(\u001b[49m\u001b[43m)\u001b[49m\n\u001b[0;32m      2\u001b[0m \u001b[38;5;28mprint\u001b[39m(\u001b[38;5;28mtype\u001b[39m(lst))  \u001b[38;5;66;03m# Output: <class 'list'>\u001b[39;00m\n\u001b[0;32m      3\u001b[0m tpl \u001b[38;5;241m=\u001b[39m \u001b[38;5;28mtuple\u001b[39m()\n",
      "\u001b[1;31mTypeError\u001b[0m: 'list' object is not callable"
     ]
    }
   ],
   "source": [
    "lst = list()\n",
    "print(type(lst))  # Output: <class 'list'>\n",
    "tpl = tuple()\n",
    "print(type(tpl))  # Output: <class 'tuple'>"
   ]
  },
  {
   "cell_type": "code",
   "execution_count": 112,
   "id": "e6945de1",
   "metadata": {},
   "outputs": [
    {
     "data": {
      "text/plain": [
       "(1, 2, 3, 4, 5)"
      ]
     },
     "execution_count": 112,
     "metadata": {},
     "output_type": "execute_result"
    }
   ],
   "source": [
    "numbers = tuple([1, 2, 3, 4, 5])  # Create a tuple with element\n",
    "numbers"
   ]
  },
  {
   "cell_type": "code",
   "execution_count": 113,
   "id": "b0d38035",
   "metadata": {},
   "outputs": [
    {
     "name": "stdout",
     "output_type": "stream",
     "text": [
      "(1, 'Hello', 3.14, True)\n"
     ]
    }
   ],
   "source": [
    "mixed_tuple = (1, \"Hello\", 3.14, True)  # Create a mixed tuple\n",
    "print(mixed_tuple)  # Output: (1, \"Hello\", 3.14, True)"
   ]
  },
  {
   "cell_type": "code",
   "execution_count": 114,
   "id": "00feff46",
   "metadata": {},
   "outputs": [
    {
     "data": {
      "text/plain": [
       "(1, 2, 3, 4, 5)"
      ]
     },
     "execution_count": 114,
     "metadata": {},
     "output_type": "execute_result"
    }
   ],
   "source": [
    "##Assessing tuple elements\n",
    "\n",
    "numbers\n"
   ]
  },
  {
   "cell_type": "code",
   "execution_count": 115,
   "id": "869b805d",
   "metadata": {},
   "outputs": [
    {
     "name": "stdout",
     "output_type": "stream",
     "text": [
      "3\n"
     ]
    }
   ],
   "source": [
    "print(numbers[2])"
   ]
  },
  {
   "cell_type": "code",
   "execution_count": 116,
   "id": "22572a14",
   "metadata": {},
   "outputs": [
    {
     "data": {
      "text/plain": [
       "(5, 4, 3, 2, 1)"
      ]
     },
     "execution_count": 116,
     "metadata": {},
     "output_type": "execute_result"
    }
   ],
   "source": [
    "numbers[::-1]  # Output: (5, 4, 3, 2, 1)"
   ]
  },
  {
   "cell_type": "code",
   "execution_count": 117,
   "id": "9e44da54",
   "metadata": {},
   "outputs": [
    {
     "name": "stdout",
     "output_type": "stream",
     "text": [
      "(1, 2, 3, 4, 5, 1, 'Hello', 3.14, True)\n"
     ]
    }
   ],
   "source": [
    "#tuple operations\n",
    "\n",
    "concatenation_tuple = numbers + mixed_tuple\n",
    "print(concatenation_tuple)  # Output: (1, 2, 3, 4, 5, 1, \"Hello\", 3.14, True)"
   ]
  },
  {
   "cell_type": "code",
   "execution_count": 118,
   "id": "c22135fd",
   "metadata": {},
   "outputs": [
    {
     "data": {
      "text/plain": [
       "(1, 'Hello', 3.14, True, 1, 'Hello', 3.14, True, 1, 'Hello', 3.14, True)"
      ]
     },
     "execution_count": 118,
     "metadata": {},
     "output_type": "execute_result"
    }
   ],
   "source": [
    "mixed_tuple * 3"
   ]
  },
  {
   "cell_type": "code",
   "execution_count": 119,
   "id": "8e18cc4d",
   "metadata": {},
   "outputs": [
    {
     "name": "stdout",
     "output_type": "stream",
     "text": [
      "[1, 'Krish', 3]\n"
     ]
    }
   ],
   "source": [
    "##Immutavke nature of tuples\n",
    "##Tuples are immutable, meaning their elements cannot be changed after creation \n",
    "\n",
    "lst = [1, 2, 3]\n",
    "lst[1] = \"Krish\"\n",
    "print(lst)  # Output: [1, 'Krish', 3]"
   ]
  },
  {
   "cell_type": "code",
   "execution_count": null,
   "id": "757330f3",
   "metadata": {},
   "outputs": [
    {
     "ename": "TypeError",
     "evalue": "'tuple' object does not support item assignment",
     "output_type": "error",
     "traceback": [
      "\u001b[1;31m---------------------------------------------------------------------------\u001b[0m",
      "\u001b[1;31mTypeError\u001b[0m                                 Traceback (most recent call last)",
      "Cell \u001b[1;32mIn[120], line 1\u001b[0m\n\u001b[1;32m----> 1\u001b[0m \u001b[43mnumbers\u001b[49m\u001b[43m[\u001b[49m\u001b[38;5;241;43m1\u001b[39;49m\u001b[43m]\u001b[49m\u001b[38;5;241m=\u001b[39m \u001b[38;5;124m\"\u001b[39m\u001b[38;5;124mKrish\u001b[39m\u001b[38;5;124m\"\u001b[39m  \u001b[38;5;66;03m# This will raise a TypeError\u001b[39;00m\n",
      "\u001b[1;31mTypeError\u001b[0m: 'tuple' object does not support item assignment"
     ]
    }
   ],
   "source": [
    "numbers[1]= \"Krish\"  # This will raise a TypeError\n"
   ]
  },
  {
   "cell_type": "code",
   "execution_count": 121,
   "id": "45f2393b",
   "metadata": {},
   "outputs": [
    {
     "name": "stdout",
     "output_type": "stream",
     "text": [
      "1\n"
     ]
    }
   ],
   "source": [
    "##Tuple Methods \n",
    "print(numbers.count(2))  # Output: 1 (count of 2 in the tuple)"
   ]
  },
  {
   "cell_type": "code",
   "execution_count": 124,
   "id": "b8318d46",
   "metadata": {},
   "outputs": [
    {
     "name": "stdout",
     "output_type": "stream",
     "text": [
      "1\n",
      "2\n"
     ]
    }
   ],
   "source": [
    "##Tuple Methods\n",
    "print(numbers.count(1))\n",
    "print(numbers.index(3))"
   ]
  },
  {
   "cell_type": "code",
   "execution_count": 125,
   "id": "aea8a6cf",
   "metadata": {},
   "outputs": [
    {
     "name": "stdout",
     "output_type": "stream",
     "text": [
      "(1, 'Hello', 3.14)\n"
     ]
    }
   ],
   "source": [
    "##Packing and Unpacking Tuples\n",
    "\n",
    "packed_tuple = 1, \"Hello\", 3.14\n",
    "print(packed_tuple)  # Output: (1, \"Hello\", 3.14)"
   ]
  },
  {
   "cell_type": "code",
   "execution_count": 126,
   "id": "0d8385a6",
   "metadata": {},
   "outputs": [
    {
     "name": "stdout",
     "output_type": "stream",
     "text": [
      "1\n",
      "Hello\n",
      "3.14\n"
     ]
    }
   ],
   "source": [
    "##unpacking a tuple\n",
    "a, b, c = packed_tuple\n",
    "\n",
    "print(a)  # Output: 1\n",
    "print(b)  # Output: Hello\n",
    "print(c)  # Output: 3.14"
   ]
  },
  {
   "cell_type": "markdown",
   "id": "1d853b8f",
   "metadata": {},
   "source": [
    "### Dictionaries\n",
    "\n",
    "Dictionaries are unordered collections of items. They store data in key-value pairs. Keys must be unique and immutable (e.g., strings, numbers, or tuples) while values can be of any data type.\n",
    "\n",
    "**Outline:**\n",
    "1. Introduction to Dictionaries  \n",
    "2. Creating Dictionaries  \n",
    "3. Accessing Dictionary Elements  \n",
    "4. Modifying Dictionary Elements  \n",
    "5. Dictionary Methods  \n",
    "6. Iterating Over Dictionaries  \n",
    "7. Nested Dictionaries  \n",
    "8. Dictionary Comprehensions  \n",
    "9. Practical Examples and Common Errors  \n"
   ]
  },
  {
   "cell_type": "code",
   "execution_count": 127,
   "id": "92fcc366",
   "metadata": {},
   "outputs": [
    {
     "name": "stdout",
     "output_type": "stream",
     "text": [
      "{}\n",
      "<class 'dict'>\n"
     ]
    }
   ],
   "source": [
    "##creating Dictionaries\n",
    "empty_dict = {}  # Create an empty dictionary\n",
    "print(empty_dict)  # Output: {}\n",
    "print(type(empty_dict))  # Output: <class 'dict'>"
   ]
  },
  {
   "cell_type": "code",
   "execution_count": 128,
   "id": "1324e8a8",
   "metadata": {},
   "outputs": [
    {
     "data": {
      "text/plain": [
       "{}"
      ]
     },
     "execution_count": 128,
     "metadata": {},
     "output_type": "execute_result"
    }
   ],
   "source": [
    "empty_dict = dict()  # Create an empty dictionary\n",
    "empty_dict"
   ]
  },
  {
   "cell_type": "code",
   "execution_count": 129,
   "id": "2e89942a",
   "metadata": {},
   "outputs": [
    {
     "name": "stdout",
     "output_type": "stream",
     "text": [
      "{'name': 'John', 'age': 25, 'grade': 'A'}\n"
     ]
    }
   ],
   "source": [
    "student = {\"name\": \"John\", \"age\": 25, \"grade\": \"A\"}  # Create a dictionary with key-value pairs\n",
    "print(student)  # Output: {'name': 'John', 'age': 25, 'grade': 'A'}"
   ]
  },
  {
   "cell_type": "code",
   "execution_count": 130,
   "id": "2fa9987b",
   "metadata": {},
   "outputs": [
    {
     "name": "stdout",
     "output_type": "stream",
     "text": [
      "{'name': 'John', 'age': 25, 'grade': 'A'}\n"
     ]
    }
   ],
   "source": [
    "##Error \n",
    "student = {\"name\": \"John\", \"age\": 25, \"grade\": \"A\"}  # Create a dictionary with key-value pairs\n",
    "print(student)  # Output: {'name': 'John', 'age': 25, 'grade': 'A'}"
   ]
  },
  {
   "cell_type": "code",
   "execution_count": 131,
   "id": "c49213f5",
   "metadata": {},
   "outputs": [
    {
     "name": "stdout",
     "output_type": "stream",
     "text": [
      "{'name': 'John', 'age': 25, 'grade': 'A'}\n"
     ]
    }
   ],
   "source": [
    "#Single key is always is used\n",
    "student = {\"name\": \"John\", \"age\": 25, \"grade\": \"A\"}  # Create a dictionary with key-value pairs\n",
    "print(student)  # Output: {'name': 'John', 'age': 25, 'grade': 'A'}"
   ]
  },
  {
   "cell_type": "code",
   "execution_count": 132,
   "id": "8bd949ec",
   "metadata": {},
   "outputs": [
    {
     "name": "stdout",
     "output_type": "stream",
     "text": [
      "John\n",
      "25\n",
      "A\n",
      "John\n",
      "25\n",
      "A\n"
     ]
    }
   ],
   "source": [
    "print(student[\"name\"])  # Output: John\n",
    "print(student[\"age\"])  # Output: 25\n",
    "print(student[\"grade\"])  # Output: A\n",
    "\n",
    "##Accessing dictionary elements\n",
    "print(student.get(\"name\"))  # Output: John\n",
    "print(student.get(\"age\"))  # Output: 25 \n",
    "print(student.get(\"grade\"))  # Output: A"
   ]
  },
  {
   "cell_type": "markdown",
   "id": "5856017e",
   "metadata": {},
   "source": [
    "##Modifying dictionary elements\n",
    "## Dictionary are m"
   ]
  },
  {
   "cell_type": "code",
   "execution_count": 134,
   "id": "2dfe2e90",
   "metadata": {},
   "outputs": [
    {
     "name": "stdout",
     "output_type": "stream",
     "text": [
      "{'name': 'John', 'age': 25, 'grade': 'A'}\n"
     ]
    }
   ],
   "source": [
    "##Modifying dictionary elements\n",
    "## Dictionary are mutable, meaning you can change their values after creation\n",
    "print(student)  # Output: {'name': 'John', 'age': 25, 'grade': 'A'}"
   ]
  },
  {
   "cell_type": "code",
   "execution_count": 135,
   "id": "3f80ee33",
   "metadata": {},
   "outputs": [
    {
     "name": "stdout",
     "output_type": "stream",
     "text": [
      "{'name': 'John', 'age': 26, 'grade': 'A'}\n",
      "{'name': 'John', 'age': 26, 'grade': 'B'}\n"
     ]
    }
   ],
   "source": [
    "student[\"age\"] = 26  # Change the value of the \"age\" key\n",
    "print(student)  # Output: {'name': 'John', 'age': 26, 'grade': 'A'}\n",
    "student[\"grade\"] = \"B\"  # Change the value of the \"grade\" key\n",
    "print(student)  # Output: {'name': 'John', 'age': 26, 'grade': 'B'}"
   ]
  },
  {
   "cell_type": "code",
   "execution_count": 136,
   "id": "36a55d52",
   "metadata": {},
   "outputs": [
    {
     "name": "stdout",
     "output_type": "stream",
     "text": [
      "{'name': 'John', 'age': 26}\n"
     ]
    }
   ],
   "source": [
    "del student[\"grade\"]  # Delete the \"grade\" key-value pair\n",
    "print(student)  # Output: {'name': 'John', 'age': 26}"
   ]
  },
  {
   "cell_type": "code",
   "execution_count": 138,
   "id": "babed4f4",
   "metadata": {},
   "outputs": [
    {
     "name": "stdout",
     "output_type": "stream",
     "text": [
      "dict_keys(['name', 'age'])\n",
      "dict_items([('name', 'John'), ('age', 26)])\n"
     ]
    }
   ],
   "source": [
    "##Dictionary methods \n",
    "\n",
    "keys=student.keys()  # Get all keys in the dictionary\n",
    "print(keys)  # Output: dict_keys(['name', 'age'])\n",
    "values=student.values()  # Get all values in the dictionary\n",
    "\n",
    "items=student.items()  # Get all key-value pairs in the dictionary\n",
    "print(items)  # Output: dict_items([('name', 'John'), ('age', 26)])"
   ]
  },
  {
   "cell_type": "code",
   "execution_count": 139,
   "id": "48dc43cb",
   "metadata": {},
   "outputs": [
    {
     "name": "stdout",
     "output_type": "stream",
     "text": [
      "{'name': 'John', 'age': 26}\n"
     ]
    }
   ],
   "source": [
    "##Shallow copy \n",
    "student_copy = student.copy()  # Create a shallow copy of the dictionary\n",
    "print(student_copy)  # Output: {'name': 'John', 'age': 26}"
   ]
  },
  {
   "cell_type": "code",
   "execution_count": 140,
   "id": "9b95dd2d",
   "metadata": {},
   "outputs": [
    {
     "name": "stdout",
     "output_type": "stream",
     "text": [
      "{'name': 'Alice', 'age': 26}\n",
      "{'name': 'John', 'age': 26}\n"
     ]
    }
   ],
   "source": [
    "student[\"name\"] = \"Alice\"  # Change the name in the original dictionary\n",
    "print(student)  # Output: {'name': 'Alice', 'age': 26}  \n",
    "print(student_copy)  # Output: {'name': 'John', 'age': 26}  # Copy remains unchanged"
   ]
  },
  {
   "cell_type": "code",
   "execution_count": 141,
   "id": "5156372f",
   "metadata": {},
   "outputs": [
    {
     "name": "stdout",
     "output_type": "stream",
     "text": [
      "{'name': 'Alice', 'age': 26}\n",
      "{'name': 'Alice', 'age': 26}\n"
     ]
    }
   ],
   "source": [
    "student_copy = student.copy()  # Create a shallow copy of the dictionary\n",
    "print(student_copy)  # Output: {'name': 'Alice', 'age': 26}\n",
    "print(student)  # Output: {'name': 'Alice', 'age': 26}"
   ]
  },
  {
   "cell_type": "code",
   "execution_count": 142,
   "id": "e7f23980",
   "metadata": {},
   "outputs": [
    {
     "name": "stdout",
     "output_type": "stream",
     "text": [
      "name\n",
      "age\n"
     ]
    }
   ],
   "source": [
    "##iterating over a dictionary\n",
    "##Iterating over a dictionary using keys\n",
    "\n",
    "##Iterating over keys\n",
    "for keys in student.keys():\n",
    "    print(keys)  # Output: name age"
   ]
  },
  {
   "cell_type": "code",
   "execution_count": 148,
   "id": "d1a3cb52",
   "metadata": {},
   "outputs": [
    {
     "name": "stdout",
     "output_type": "stream",
     "text": [
      "age\n",
      "age\n"
     ]
    }
   ],
   "source": [
    "##iterating over values\n",
    "for value in student.values():\n",
    "    print(keys)  # Output: John 26"
   ]
  },
  {
   "cell_type": "code",
   "execution_count": 149,
   "id": "86b01050",
   "metadata": {},
   "outputs": [
    {
     "name": "stdout",
     "output_type": "stream",
     "text": [
      "name : Alice\n",
      "age : 26\n"
     ]
    }
   ],
   "source": [
    "##Iterate over key-value pairs\n",
    "for key, value in student.items():\n",
    "    print(key, \":\", value)  # Output: name : John age : 26"
   ]
  },
  {
   "cell_type": "code",
   "execution_count": 150,
   "id": "d60340c8",
   "metadata": {},
   "outputs": [
    {
     "name": "stdout",
     "output_type": "stream",
     "text": [
      "name : Alice\n",
      "age : 26\n"
     ]
    }
   ],
   "source": [
    "##Iterate over key-value pair\n",
    "for key, value in student.items():\n",
    "    print(key, \":\", value)  # Output: name : John age : 26"
   ]
  },
  {
   "cell_type": "code",
   "execution_count": 151,
   "id": "6ca17a9e",
   "metadata": {},
   "outputs": [
    {
     "name": "stdout",
     "output_type": "stream",
     "text": [
      "{'student1': {'name': 'Alice', 'age': 20}, 'student2': {'name': 'Bob', 'age': 22}}\n"
     ]
    }
   ],
   "source": [
    "#MNested Dictionaries\n",
    "students = {\n",
    "    \"student1\": {\"name\": \"Alice\", \"age\": 20},\n",
    "    \"student2\": {\"name\": \"Bob\", \"age\": 22},\n",
    "}\n",
    "print(students)"
   ]
  },
  {
   "cell_type": "code",
   "execution_count": 152,
   "id": "5c119d3c",
   "metadata": {},
   "outputs": [
    {
     "name": "stdout",
     "output_type": "stream",
     "text": [
      "Alice\n",
      "22\n"
     ]
    }
   ],
   "source": [
    "##Access nested dictionaries elements \n",
    "print(students[\"student1\"][\"name\"])  # Output: Alice\n",
    "print(students[\"student2\"][\"age\"])  # Output: 22"
   ]
  },
  {
   "cell_type": "code",
   "execution_count": 153,
   "id": "49adcbba",
   "metadata": {},
   "outputs": [
    {
     "data": {
      "text/plain": [
       "dict_items([('student1', {'name': 'Alice', 'age': 20}), ('student2', {'name': 'Bob', 'age': 22})])"
      ]
     },
     "execution_count": 153,
     "metadata": {},
     "output_type": "execute_result"
    }
   ],
   "source": [
    "students.items()  # Output: dict_items([('student1', {'name': 'Alice', 'age': 20}), ('student2', {'name': 'Bob', 'age': 22})])"
   ]
  },
  {
   "cell_type": "code",
   "execution_count": 154,
   "id": "0465e72e",
   "metadata": {},
   "outputs": [
    {
     "name": "stdout",
     "output_type": "stream",
     "text": [
      "student1 : {'name': 'Alice', 'age': 20}\n",
      "student2 : {'name': 'Bob', 'age': 22}\n"
     ]
    }
   ],
   "source": [
    "##Iterating over key-value pairs\n",
    "for student_id, student_info in students.items():\n",
    "    print(student_id, \":\", student_info)  # Output: student1 : {'name': 'Alice', 'age': 20} student2 : {'name': 'Bob', 'age': 22}"
   ]
  },
  {
   "cell_type": "code",
   "execution_count": 155,
   "id": "ab55a61e",
   "metadata": {},
   "outputs": [
    {
     "name": "stdout",
     "output_type": "stream",
     "text": [
      "student1\n",
      "name : Alice\n",
      "age : 20\n",
      "student2\n",
      "name : Bob\n",
      "age : 22\n"
     ]
    }
   ],
   "source": [
    "##Iterating over nested dictionaries\n",
    "for student_id, student_info in students.items():\n",
    "    print(student_id)  # Output: student1 student2\n",
    "    for key, value in student_info.items():\n",
    "        print(key, \":\", value)  # Output: name : Alice age : 20 name : Bob age : 22"
   ]
  },
  {
   "cell_type": "code",
   "execution_count": 156,
   "id": "28c4612f",
   "metadata": {},
   "outputs": [
    {
     "name": "stdout",
     "output_type": "stream",
     "text": [
      "{0: 0, 1: 1, 2: 4, 3: 9, 4: 16}\n"
     ]
    }
   ],
   "source": [
    "##Dictionary Comprehension\n",
    "squares = {x: x**2 for x in range(5)}  # Create a dictionary of squares\n",
    "print(squares)  # Output: {0: 0, 1: 1, 2: 4, 3: 9, 4: 16}\n",
    "\n"
   ]
  },
  {
   "cell_type": "code",
   "execution_count": 157,
   "id": "7e958114",
   "metadata": {},
   "outputs": [
    {
     "name": "stdout",
     "output_type": "stream",
     "text": [
      "{0: 0, 2: 4, 4: 16, 6: 36, 8: 64}\n"
     ]
    }
   ],
   "source": [
    "##condition dictionary comprehension\n",
    "events={x: x**2 for x in range(10) if x%2==0}  # Create a dictionary of squares of even numbers\n",
    "print(events)  # Output: {0: 0, 2: 4, 4: 16, 6: 36, 8: 64}"
   ]
  },
  {
   "cell_type": "code",
   "execution_count": 159,
   "id": "b5872449",
   "metadata": {},
   "outputs": [
    {
     "name": "stdout",
     "output_type": "stream",
     "text": [
      "{1: 1, 2: 1, 3: 1, 4: 1, 5: 1, 6: 1, 7: 1, 8: 1, 9: 1, 10: 1}\n"
     ]
    }
   ],
   "source": [
    "##Practical example of dictionary comprehension\n",
    "\n",
    "##Use a dictionary comprehension to create a dictionary that maps numbers to their squares\n",
    "\n",
    "numbers = [1, 2, 3, 4, 5, 6, 7, 8, 9, 10]\n",
    "frequency = {}\n",
    "\n",
    "for number in numbers:\n",
    "    if number in frequency:\n",
    "        frequency[number] += 1\n",
    "    else:\n",
    "        frequency[number] = 1   \n",
    "print(frequency)  # Output: {1: 1, 2: 1, 3: 1, 4: 1, 5: 1, 6: 1, 7: 1, 8: 1, 9: 1, 10: 1}"
   ]
  },
  {
   "cell_type": "code",
   "execution_count": 160,
   "id": "15be53b4",
   "metadata": {},
   "outputs": [
    {
     "name": "stdout",
     "output_type": "stream",
     "text": [
      "{'a': 1, 'b': 2, 'c': 3, 'd': 4}\n"
     ]
    }
   ],
   "source": [
    "#Merge 2 dctionaries into one\n",
    "\n",
    "dict1 = {\"a\": 1, \"b\": 2}\n",
    "dict2 = {\"c\": 3, \"d\": 4}\n",
    "\n",
    "merged_dict = {**dict1, **dict2}  # Merge two dictionaries\n",
    "print(merged_dict)  # Output: {'a': 1, 'b': 2, 'c': 3, 'd': 4}"
   ]
  },
  {
   "cell_type": "markdown",
   "id": "b05acc74",
   "metadata": {},
   "source": [
    "## Functions in Python\n",
    "\n",
    "**Outline:**\n",
    "\n",
    "1. Introduction to Functions  \n",
    "2. Defining Functions  \n",
    "3. Calling Functions  \n",
    "4. Function Parameters  \n",
    "5. Default Parameters  \n",
    "6. Variable-Length Arguments  \n",
    "7. Return Statement  \n"
   ]
  },
  {
   "cell_type": "code",
   "execution_count": 161,
   "id": "6b13607d",
   "metadata": {},
   "outputs": [],
   "source": [
    "def function_name(parameters):\n",
    "    \"\"\"Docstring: Description of the function.\"\"\"\n",
    "    # Function body\n",
    "    return expression  # Optional return statement"
   ]
  },
  {
   "cell_type": "code",
   "execution_count": 162,
   "id": "c17c1b9c",
   "metadata": {},
   "outputs": [
    {
     "name": "stdout",
     "output_type": "stream",
     "text": [
      "24 is even\n"
     ]
    }
   ],
   "source": [
    "##why functions?\n",
    "num = 24\n",
    "if num % 2 == 0:\n",
    "    print(num, \"is even\")\n",
    "else:\n",
    "    print(num, \"is odd\")"
   ]
  },
  {
   "cell_type": "code",
   "execution_count": 164,
   "id": "cbde8ae0",
   "metadata": {},
   "outputs": [],
   "source": [
    "def even_or_odd(num):\n",
    "    \"\"\"Check if a number is even or odd.\"\"\"\n",
    "    if num % 2 == 0:\n",
    "        print(f\"{num} is even\")\n",
    "    else:\n",
    "        print(f\"{num} is odd\")"
   ]
  },
  {
   "cell_type": "code",
   "execution_count": 165,
   "id": "fc5b1723",
   "metadata": {},
   "outputs": [],
   "source": [
    "def even_or_odd(num):\n",
    "    \"\"\"Check if a number is even or odd.\"\"\"\n",
    "    if num % 2 == 0:\n",
    "        print(\"The number is even\")\n",
    "    else:\n",
    "        print(\"The number is odd\")"
   ]
  },
  {
   "cell_type": "code",
   "execution_count": 166,
   "id": "129a1ed9",
   "metadata": {},
   "outputs": [
    {
     "name": "stdout",
     "output_type": "stream",
     "text": [
      "The number is even\n"
     ]
    }
   ],
   "source": [
    "##call this function \n",
    "even_or_odd(24)  # Output: The number is even"
   ]
  },
  {
   "cell_type": "code",
   "execution_count": 167,
   "id": "07c1c359",
   "metadata": {},
   "outputs": [
    {
     "name": "stdout",
     "output_type": "stream",
     "text": [
      "15\n"
     ]
    }
   ],
   "source": [
    "## Function with multiple parameters\n",
    "\n",
    "def add_numbers(a, b):\n",
    "    \"\"\"Add two numbers.\"\"\"\n",
    "    return a + b\n",
    "\n",
    "result = add_numbers(5, 10)\n",
    "print(result)  # Output: 15"
   ]
  },
  {
   "cell_type": "code",
   "execution_count": 168,
   "id": "77b906e2",
   "metadata": {},
   "outputs": [
    {
     "name": "stdout",
     "output_type": "stream",
     "text": [
      "Hello, Alice!\n"
     ]
    }
   ],
   "source": [
    "##Defult parameters\n",
    "def greet(name):\n",
    "    print(f\"Hello, {name}!\")\n",
    "\n",
    "\n",
    "greet(\"Alice\")  # Output: Hello, Alice!"
   ]
  },
  {
   "cell_type": "code",
   "execution_count": 178,
   "id": "77054f64",
   "metadata": {},
   "outputs": [],
   "source": [
    "##variable length arguments \n",
    "##Positional and keyword arguments\n",
    "\n",
    "def print_info(*krish):\n",
    "    for number in krish: \n",
    "        print(number)"
   ]
  },
  {
   "cell_type": "code",
   "execution_count": 179,
   "id": "396b56f4",
   "metadata": {},
   "outputs": [
    {
     "name": "stdout",
     "output_type": "stream",
     "text": [
      "1\n",
      "2\n",
      "3\n",
      "4\n",
      "5\n",
      "krish\n"
     ]
    }
   ],
   "source": [
    "print_info(1, 2, 3, 4, 5, \"krish\")  # Output: 1 2 3 4 5   "
   ]
  },
  {
   "cell_type": "code",
   "execution_count": null,
   "id": "652d04d5",
   "metadata": {},
   "outputs": [],
   "source": [
    "#positional and keyword arguments\n",
    "def print_info(*args):\n",
    "    for number in args: \n",
    "        print(number)"
   ]
  },
  {
   "cell_type": "code",
   "execution_count": 181,
   "id": "c905e113",
   "metadata": {},
   "outputs": [],
   "source": [
    "#keywrod arguments\n",
    "\n",
    "def print_details(**kwargs):\n",
    "    for key, value in kwargs.items():\n",
    "        print(f\"{key}: {value}\")"
   ]
  },
  {
   "cell_type": "code",
   "execution_count": 182,
   "id": "beaa0739",
   "metadata": {},
   "outputs": [
    {
     "name": "stdout",
     "output_type": "stream",
     "text": [
      "name: Alice\n",
      "age: 25\n",
      "city: New York\n"
     ]
    }
   ],
   "source": [
    "print_details(name=\"Alice\", age=25, city=\"New York\")  # Output: name: Alice age: 25 city: New York"
   ]
  },
  {
   "cell_type": "code",
   "execution_count": null,
   "id": "d7e2c996",
   "metadata": {},
   "outputs": [],
   "source": [
    "##Variable assignment\n",
    "def print_details(*args, **kwargs): \n",
    "    for arg in args: # Iterate over positional arguments\n",
    "        print(f\" Positional argument: {arg}\")\n",
    "    for key, value in kwargs.items(): # Iterate over keyword arguments\n",
    "        print(f\"{key}: {value}\")"
   ]
  },
  {
   "cell_type": "code",
   "execution_count": 186,
   "id": "5a751ebb",
   "metadata": {},
   "outputs": [
    {
     "name": "stdout",
     "output_type": "stream",
     "text": [
      "1\n",
      "2\n",
      "3\n",
      "4\n",
      "Alice\n",
      "name: Alice\n",
      "age: 25\n",
      "city: New York\n"
     ]
    }
   ],
   "source": [
    "print_details(1,2,3,4, \"Alice\",name=\"Alice\", age=25, city=\"New York\")  # Output: name: Alice age: 25 city: New York"
   ]
  },
  {
   "cell_type": "code",
   "execution_count": 187,
   "id": "f2a66433",
   "metadata": {},
   "outputs": [
    {
     "data": {
      "text/plain": [
       "50"
      ]
     },
     "execution_count": 187,
     "metadata": {},
     "output_type": "execute_result"
    }
   ],
   "source": [
    "##Return statement\n",
    "def multiply(a, b):\n",
    "    return a * b\n",
    "\n",
    "multiply(5, 10)  # Output: 50"
   ]
  },
  {
   "cell_type": "markdown",
   "id": "57c020aa",
   "metadata": {},
   "source": [
    "Function Examples \n",
    "\n",
    "- **Example 1:** Temperature Conversion  \n",
    "- **Example 2:** Password Strength Checker  \n",
    "- **Example 3:** Calculate the Total Cost Of Items In a Shopping Cart  \n",
    "- **Example 4:** Check If a String Is Palindrome  \n",
    "- **Example 5:** Calculate the Factorials of a Number Using Recursion  \n"
   ]
  },
  {
   "cell_type": "code",
   "execution_count": 194,
   "id": "b9d8f54f",
   "metadata": {},
   "outputs": [
    {
     "name": "stdout",
     "output_type": "stream",
     "text": [
      "77.0\n",
      "25.0\n"
     ]
    }
   ],
   "source": [
    "\n",
    "#Example 1:** Temperature Conversion##\n",
    "\n",
    "def celcius_temperature(temp, unit):\n",
    "    \"\"\"Convert Celsius to Fahrenheit.\"\"\"\n",
    "    if unit==\"C\":\n",
    "        return temp * 9/5 + 32 ##Convert Celsius to Fahrenheit\n",
    "    elif unit==\"F\":\n",
    "        return (temp - 32) * 5/9 ##Convert Fahrenheit to Celsius\n",
    "    else:\n",
    "        return None \n",
    "    \n",
    "print(celcius_temperature(25, \"C\"))  # Output: 77.0\n",
    "print(celcius_temperature(77, \"F\"))  # Output: 25.0\n",
    "    "
   ]
  },
  {
   "cell_type": "code",
   "execution_count": 197,
   "id": "363a8e4f",
   "metadata": {},
   "outputs": [
    {
     "name": "stdout",
     "output_type": "stream",
     "text": [
      "True\n",
      "False\n",
      "False\n",
      "False\n",
      "True\n",
      "True\n"
     ]
    }
   ],
   "source": [
    "##*Example 2:** Password Strength Checker  \n",
    "\n",
    "def password_strength(password):\n",
    "    \"\"\"Check the strength of a password.\"\"\"\n",
    "    if len(password) < 8:\n",
    "        return False\n",
    "    if not any(char.isdigit() for char in password):\n",
    "        return False\n",
    "    if not any(char.isalpha() for char in password):\n",
    "        return False\n",
    "    if not any(char in \"!@#$%^&*()_+\" for char in password):\n",
    "        return False\n",
    "    return True\n",
    "    \n",
    "print(password_strength(\"P@ssw0rd\"))  # Output: True\n",
    "print(password_strength(\"password\"))  # Output: False\n",
    "print(password_strength(\"12345678\"))  # Output: False4\n",
    "print(password_strength(\"P@ssword\"))  # Output: False\n",
    "print(password_strength(\"P@ssw0rd123\"))  # Output: True\n",
    "print(password_strength(\"P@ssw0rd!\"))\n"
   ]
  },
  {
   "cell_type": "code",
   "execution_count": 200,
   "id": "e93f8314",
   "metadata": {},
   "outputs": [
    {
     "name": "stdout",
     "output_type": "stream",
     "text": [
      "4.25\n"
     ]
    }
   ],
   "source": [
    "##- **Example 3:** Calculate the Total Cost Of Items In a Shopping Cart  \n",
    "\n",
    "def calculate_total_cost(cart):\n",
    "    total_cost = 0\n",
    "    for item_data in cart.values():\n",
    "        total_cost += item_data[\"price\"] * item_data[\"quantity\"]\n",
    "        \n",
    "    return total_cost\n",
    "\n",
    "    \"\"\"Calculate the total cost of items in a shopping cart.\"\"\"\n",
    "\n",
    "cart = {\n",
    "    \"item1\": {\"name\": \"Apple\", \"price\": 0.5, \"quantity\": 3},\n",
    "    \"item2\": {\"name\": \"Banana\", \"price\": 0.25, \"quantity\": 5},\n",
    "    \"item3\": {\"name\": \"Orange\", \"price\": 0.75, \"quantity\": 2},\n",
    "}\n",
    "\n",
    "## Calling the function\n",
    "total_cost = calculate_total_cost(cart)\n",
    "print( total_cost)  # Output: Total Cost: 5.25"
   ]
  },
  {
   "cell_type": "code",
   "execution_count": 202,
   "id": "556617b3",
   "metadata": {},
   "outputs": [
    {
     "name": "stdout",
     "output_type": "stream",
     "text": [
      "True\n",
      "False\n"
     ]
    }
   ],
   "source": [
    "## **Example 4:** Check If a String Is Palindrome \n",
    "\n",
    "def is_palindrome(string):\n",
    "    s = string.lower().replace(\" \",\"\")  # Convert to lowercase\n",
    "    \"\"\"Check if a string is a palindrome.\"\"\"\n",
    "    return s == s[::-1]\n",
    "\n",
    "print(is_palindrome(\"A man a plan a canal Panama\"))  # Output: True\n",
    "print(is_palindrome(\"Hello\"))  # Output: False"
   ]
  },
  {
   "cell_type": "code",
   "execution_count": 203,
   "id": "36f958d7",
   "metadata": {},
   "outputs": [
    {
     "name": "stdout",
     "output_type": "stream",
     "text": [
      "120\n",
      "1\n"
     ]
    }
   ],
   "source": [
    "##- **Example 5:** Calculate the Factorials of a Number Using Recursion  \n",
    "\n",
    "def factorial(n):\n",
    "    \"\"\"Calculate the factorial of a number using recursion.\"\"\"\n",
    "    if n == 0:\n",
    "        return 1\n",
    "    else:\n",
    "        return n * factorial(n - 1)\n",
    "    \n",
    "print(factorial(5))  # Output: 120\n",
    "print(factorial(0))  # Output: 1"
   ]
  },
  {
   "cell_type": "code",
   "execution_count": null,
   "id": "b4974748",
   "metadata": {},
   "outputs": [],
   "source": [
    "##- **Example 6** A function to read a file and count the frequency of each word in the file\n",
    "\n",
    "def count_word_frequency(file_path):\n",
    "    word_count = {}\n",
    "    with open(file_path, \"r\") as file:\n",
    "        for line in file:\n",
    "            words = line.split()\n",
    "            for word in words:\n",
    "                word = word.lower().strip('.,!?;:\\'')  # Convert to lowercase\n",
    "                word_count[word] = word_count.get(word, 0) + 1\n",
    "    return word_count\n",
    "\n",
    "filepath = \"sample.txt\"  # Replace with your file path"
   ]
  },
  {
   "cell_type": "code",
   "execution_count": null,
   "id": "cb5f1a5d",
   "metadata": {},
   "outputs": [],
   "source": []
  },
  {
   "cell_type": "code",
   "execution_count": null,
   "id": "80bdd390",
   "metadata": {},
   "outputs": [],
   "source": []
  },
  {
   "cell_type": "code",
   "execution_count": null,
   "id": "45aea16d",
   "metadata": {},
   "outputs": [],
   "source": []
  },
  {
   "cell_type": "code",
   "execution_count": null,
   "metadata": {},
   "outputs": [],
   "source": []
  },
  {
   "cell_type": "code",
   "execution_count": null,
   "id": "f9118475",
   "metadata": {},
   "outputs": [],
   "source": []
  },
  {
   "cell_type": "code",
   "execution_count": null,
   "id": "274bfe3b",
   "metadata": {},
   "outputs": [],
   "source": []
  },
  {
   "cell_type": "code",
   "execution_count": null,
   "id": "37c027d0",
   "metadata": {},
   "outputs": [],
   "source": []
  }
 ],
 "metadata": {
  "kernelspec": {
   "display_name": "Python 3",
   "language": "python",
   "name": "python3"
  },
  "language_info": {
   "codemirror_mode": {
    "name": "ipython",
    "version": 3
   },
   "file_extension": ".py",
   "mimetype": "text/x-python",
   "name": "python",
   "nbconvert_exporter": "python",
   "pygments_lexer": "ipython3",
   "version": "3.9.13"
  }
 },
 "nbformat": 4,
 "nbformat_minor": 5
}
