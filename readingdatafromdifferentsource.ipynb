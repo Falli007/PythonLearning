{
 "cells": [
  {
   "cell_type": "markdown",
   "id": "fbed8d37",
   "metadata": {},
   "source": [
    "Reading Data From Different Sources"
   ]
  },
  {
   "cell_type": "code",
   "execution_count": 7,
   "id": "d1e87e26",
   "metadata": {},
   "outputs": [
    {
     "name": "stdout",
     "output_type": "stream",
     "text": [
      "Note: you may need to restart the kernel to use updated packages.\n"
     ]
    },
    {
     "name": "stderr",
     "output_type": "stream",
     "text": [
      "WARNING: Ignoring invalid distribution -atplotlib (c:\\users\\allif\\appdata\\local\\programs\\python\\python39\\lib\\site-packages)\n",
      "ERROR: Could not find a version that satisfies the requirement stringIO (from versions: none)\n",
      "\n",
      "[notice] A new release of pip is available: 25.0.1 -> 25.1.1\n",
      "[notice] To update, run: python.exe -m pip install --upgrade pip\n",
      "ERROR: No matching distribution found for stringIO\n"
     ]
    }
   ],
   "source": [
    "pip install stringIO"
   ]
  },
  {
   "cell_type": "code",
   "execution_count": 13,
   "id": "25807ee1",
   "metadata": {},
   "outputs": [],
   "source": [
    "import pandas as pd\n",
    "from io import StringIO\n",
    "\n",
    "\n",
    "data = '''{\n",
    "  \"employees_names\":    [\"John\",       \"Anna\",            \"Peter\",           \"Linda\"],\n",
    "  \"job_profile\":        [\"Team Leader\",\"Project Manager\",\"Software Engineer\",\"Data Analyst\"],\n",
    "  \"employees\":          [1,            2,                 3,                 4],\n",
    "  \"employees_salaries\": [1000,         1500,              2000,              2500]\n",
    "}'''\n",
    "\n",
    "\n",
    "#convert json to string IO\n",
    "df = pd.read_json(StringIO(data))\n"
   ]
  },
  {
   "cell_type": "code",
   "execution_count": 14,
   "id": "88ad7d73",
   "metadata": {},
   "outputs": [
    {
     "data": {
      "text/html": [
       "<div>\n",
       "<style scoped>\n",
       "    .dataframe tbody tr th:only-of-type {\n",
       "        vertical-align: middle;\n",
       "    }\n",
       "\n",
       "    .dataframe tbody tr th {\n",
       "        vertical-align: top;\n",
       "    }\n",
       "\n",
       "    .dataframe thead th {\n",
       "        text-align: right;\n",
       "    }\n",
       "</style>\n",
       "<table border=\"1\" class=\"dataframe\">\n",
       "  <thead>\n",
       "    <tr style=\"text-align: right;\">\n",
       "      <th></th>\n",
       "      <th>employees_names</th>\n",
       "      <th>job_profile</th>\n",
       "      <th>employees</th>\n",
       "      <th>employees_salaries</th>\n",
       "    </tr>\n",
       "  </thead>\n",
       "  <tbody>\n",
       "    <tr>\n",
       "      <th>0</th>\n",
       "      <td>John</td>\n",
       "      <td>Team Leader</td>\n",
       "      <td>1</td>\n",
       "      <td>1000</td>\n",
       "    </tr>\n",
       "    <tr>\n",
       "      <th>1</th>\n",
       "      <td>Anna</td>\n",
       "      <td>Project Manager</td>\n",
       "      <td>2</td>\n",
       "      <td>1500</td>\n",
       "    </tr>\n",
       "    <tr>\n",
       "      <th>2</th>\n",
       "      <td>Peter</td>\n",
       "      <td>Software Engineer</td>\n",
       "      <td>3</td>\n",
       "      <td>2000</td>\n",
       "    </tr>\n",
       "    <tr>\n",
       "      <th>3</th>\n",
       "      <td>Linda</td>\n",
       "      <td>Data Analyst</td>\n",
       "      <td>4</td>\n",
       "      <td>2500</td>\n",
       "    </tr>\n",
       "  </tbody>\n",
       "</table>\n",
       "</div>"
      ],
      "text/plain": [
       "  employees_names        job_profile  employees  employees_salaries\n",
       "0            John        Team Leader          1                1000\n",
       "1            Anna    Project Manager          2                1500\n",
       "2           Peter  Software Engineer          3                2000\n",
       "3           Linda       Data Analyst          4                2500"
      ]
     },
     "execution_count": 14,
     "metadata": {},
     "output_type": "execute_result"
    }
   ],
   "source": [
    "df"
   ]
  },
  {
   "cell_type": "code",
   "execution_count": 16,
   "metadata": {},
   "outputs": [
    {
     "data": {
      "text/plain": [
       "'{\"employees_names\":{\"0\":\"John\",\"1\":\"Anna\",\"2\":\"Peter\",\"3\":\"Linda\"},\"job_profile\":{\"0\":\"Team Leader\",\"1\":\"Project Manager\",\"2\":\"Software Engineer\",\"3\":\"Data Analyst\"},\"employees\":{\"0\":1,\"1\":2,\"2\":3,\"3\":4},\"employees_salaries\":{\"0\":1000,\"1\":1500,\"2\":2000,\"3\":2500}}'"
      ]
     },
     "execution_count": 16,
     "metadata": {},
     "output_type": "execute_result"
    }
   ],
   "source": [
    "#convert csv to json\n",
    "df.to_json() #convert json to csv"
   ]
  },
  {
   "cell_type": "code",
   "execution_count": 17,
   "id": "5039020f",
   "metadata": {},
   "outputs": [
    {
     "data": {
      "text/plain": [
       "'{\"0\":{\"employees_names\":\"John\",\"job_profile\":\"Team Leader\",\"employees\":1,\"employees_salaries\":1000},\"1\":{\"employees_names\":\"Anna\",\"job_profile\":\"Project Manager\",\"employees\":2,\"employees_salaries\":1500},\"2\":{\"employees_names\":\"Peter\",\"job_profile\":\"Software Engineer\",\"employees\":3,\"employees_salaries\":2000},\"3\":{\"employees_names\":\"Linda\",\"job_profile\":\"Data Analyst\",\"employees\":4,\"employees_salaries\":2500}}'"
      ]
     },
     "execution_count": 17,
     "metadata": {},
     "output_type": "execute_result"
    }
   ],
   "source": [
    "#convert json based on record\n",
    "df.to_json(orient='index') #convert json based on records"
   ]
  },
  {
   "cell_type": "code",
   "execution_count": 18,
   "id": "3d86324a",
   "metadata": {},
   "outputs": [],
   "source": [
    "#extracting csv from website\n",
    "\n",
    "df = pd.read_csv('https://people.sc.fsu.edu/~jburkardt/data/csv/airtravel.csv', header=None)"
   ]
  },
  {
   "cell_type": "code",
   "execution_count": 19,
   "id": "e89121cb",
   "metadata": {},
   "outputs": [
    {
     "data": {
      "text/html": [
       "<div>\n",
       "<style scoped>\n",
       "    .dataframe tbody tr th:only-of-type {\n",
       "        vertical-align: middle;\n",
       "    }\n",
       "\n",
       "    .dataframe tbody tr th {\n",
       "        vertical-align: top;\n",
       "    }\n",
       "\n",
       "    .dataframe thead th {\n",
       "        text-align: right;\n",
       "    }\n",
       "</style>\n",
       "<table border=\"1\" class=\"dataframe\">\n",
       "  <thead>\n",
       "    <tr style=\"text-align: right;\">\n",
       "      <th></th>\n",
       "      <th>0</th>\n",
       "      <th>1</th>\n",
       "      <th>2</th>\n",
       "      <th>3</th>\n",
       "    </tr>\n",
       "  </thead>\n",
       "  <tbody>\n",
       "    <tr>\n",
       "      <th>0</th>\n",
       "      <td>Month</td>\n",
       "      <td>\"1958\"</td>\n",
       "      <td>\"1959\"</td>\n",
       "      <td>\"1960\"</td>\n",
       "    </tr>\n",
       "    <tr>\n",
       "      <th>1</th>\n",
       "      <td>JAN</td>\n",
       "      <td>340</td>\n",
       "      <td>360</td>\n",
       "      <td>417</td>\n",
       "    </tr>\n",
       "    <tr>\n",
       "      <th>2</th>\n",
       "      <td>FEB</td>\n",
       "      <td>318</td>\n",
       "      <td>342</td>\n",
       "      <td>391</td>\n",
       "    </tr>\n",
       "    <tr>\n",
       "      <th>3</th>\n",
       "      <td>MAR</td>\n",
       "      <td>362</td>\n",
       "      <td>406</td>\n",
       "      <td>419</td>\n",
       "    </tr>\n",
       "    <tr>\n",
       "      <th>4</th>\n",
       "      <td>APR</td>\n",
       "      <td>348</td>\n",
       "      <td>396</td>\n",
       "      <td>461</td>\n",
       "    </tr>\n",
       "  </tbody>\n",
       "</table>\n",
       "</div>"
      ],
      "text/plain": [
       "       0        1        2        3\n",
       "0  Month   \"1958\"   \"1959\"   \"1960\"\n",
       "1    JAN      340      360      417\n",
       "2    FEB      318      342      391\n",
       "3    MAR      362      406      419\n",
       "4    APR      348      396      461"
      ]
     },
     "execution_count": 19,
     "metadata": {},
     "output_type": "execute_result"
    }
   ],
   "source": [
    "df.head()"
   ]
  },
  {
   "cell_type": "code",
   "execution_count": 20,
   "id": "40349b62",
   "metadata": {},
   "outputs": [],
   "source": [
    "##convert the airtravel data to csv\n",
    "df.to_csv('airtravel.csv', index=False, header=False)"
   ]
  },
  {
   "cell_type": "code",
   "execution_count": 22,
   "id": "abee3056",
   "metadata": {},
   "outputs": [
    {
     "name": "stderr",
     "output_type": "stream",
     "text": [
      "WARNING: Ignoring invalid distribution -atplotlib (c:\\users\\allif\\appdata\\local\\programs\\python\\python39\\lib\\site-packages)\n",
      "ERROR: Could not find a version that satisfies the requirement 1xml (from versions: none)\n",
      "\n",
      "[notice] A new release of pip is available: 25.0.1 -> 25.1.1\n",
      "[notice] To update, run: python.exe -m pip install --upgrade pip\n",
      "ERROR: No matching distribution found for 1xml\n"
     ]
    },
    {
     "name": "stdout",
     "output_type": "stream",
     "text": [
      "Requirement already satisfied: html5lib in c:\\users\\allif\\appdata\\local\\programs\\python\\python39\\lib\\site-packages (1.1)\n",
      "Requirement already satisfied: six>=1.9 in c:\\users\\allif\\appdata\\roaming\\python\\python39\\site-packages (from html5lib) (1.16.0)\n",
      "Requirement already satisfied: webencodings in c:\\users\\allif\\appdata\\local\\programs\\python\\python39\\lib\\site-packages (from html5lib) (0.5.1)\n"
     ]
    },
    {
     "name": "stderr",
     "output_type": "stream",
     "text": [
      "WARNING: Ignoring invalid distribution -atplotlib (c:\\users\\allif\\appdata\\local\\programs\\python\\python39\\lib\\site-packages)\n",
      "WARNING: Ignoring invalid distribution -atplotlib (c:\\users\\allif\\appdata\\local\\programs\\python\\python39\\lib\\site-packages)\n",
      "WARNING: Ignoring invalid distribution -atplotlib (c:\\users\\allif\\appdata\\local\\programs\\python\\python39\\lib\\site-packages)\n",
      "\n",
      "[notice] A new release of pip is available: 25.0.1 -> 25.1.1\n",
      "[notice] To update, run: python.exe -m pip install --upgrade pip\n"
     ]
    }
   ],
   "source": [
    "!pip install 1xml\n",
    "!pip install html5lib"
   ]
  },
  {
   "cell_type": "code",
   "execution_count": 24,
   "id": "7c4ae51f",
   "metadata": {},
   "outputs": [
    {
     "data": {
      "text/html": [
       "<div>\n",
       "<style scoped>\n",
       "    .dataframe tbody tr th:only-of-type {\n",
       "        vertical-align: middle;\n",
       "    }\n",
       "\n",
       "    .dataframe tbody tr th {\n",
       "        vertical-align: top;\n",
       "    }\n",
       "\n",
       "    .dataframe thead th {\n",
       "        text-align: right;\n",
       "    }\n",
       "</style>\n",
       "<table border=\"1\" class=\"dataframe\">\n",
       "  <thead>\n",
       "    <tr style=\"text-align: right;\">\n",
       "      <th></th>\n",
       "      <th>Bank Name</th>\n",
       "      <th>City</th>\n",
       "      <th>State</th>\n",
       "      <th>Cert</th>\n",
       "      <th>Acquiring Institution</th>\n",
       "      <th>Closing Date</th>\n",
       "      <th>Fund  Sort ascending</th>\n",
       "    </tr>\n",
       "  </thead>\n",
       "  <tbody>\n",
       "    <tr>\n",
       "      <th>0</th>\n",
       "      <td>Pulaski Savings Bank</td>\n",
       "      <td>Chicago</td>\n",
       "      <td>Illinois</td>\n",
       "      <td>28611</td>\n",
       "      <td>Millennium Bank</td>\n",
       "      <td>January 17, 2025</td>\n",
       "      <td>10548</td>\n",
       "    </tr>\n",
       "    <tr>\n",
       "      <th>1</th>\n",
       "      <td>The First National Bank of Lindsay</td>\n",
       "      <td>Lindsay</td>\n",
       "      <td>Oklahoma</td>\n",
       "      <td>4134</td>\n",
       "      <td>First Bank &amp; Trust Co., Duncan, OK</td>\n",
       "      <td>October 18, 2024</td>\n",
       "      <td>10547</td>\n",
       "    </tr>\n",
       "    <tr>\n",
       "      <th>2</th>\n",
       "      <td>Republic First Bank dba Republic Bank</td>\n",
       "      <td>Philadelphia</td>\n",
       "      <td>Pennsylvania</td>\n",
       "      <td>27332</td>\n",
       "      <td>Fulton Bank, National Association</td>\n",
       "      <td>April 26, 2024</td>\n",
       "      <td>10546</td>\n",
       "    </tr>\n",
       "    <tr>\n",
       "      <th>3</th>\n",
       "      <td>Citizens Bank</td>\n",
       "      <td>Sac City</td>\n",
       "      <td>Iowa</td>\n",
       "      <td>8758</td>\n",
       "      <td>Iowa Trust &amp; Savings Bank</td>\n",
       "      <td>November 3, 2023</td>\n",
       "      <td>10545</td>\n",
       "    </tr>\n",
       "    <tr>\n",
       "      <th>4</th>\n",
       "      <td>Heartland Tri-State Bank</td>\n",
       "      <td>Elkhart</td>\n",
       "      <td>Kansas</td>\n",
       "      <td>25851</td>\n",
       "      <td>Dream First Bank, N.A.</td>\n",
       "      <td>July 28, 2023</td>\n",
       "      <td>10544</td>\n",
       "    </tr>\n",
       "  </tbody>\n",
       "</table>\n",
       "</div>"
      ],
      "text/plain": [
       "                               Bank Name          City         State   Cert  \\\n",
       "0                   Pulaski Savings Bank       Chicago      Illinois  28611   \n",
       "1     The First National Bank of Lindsay       Lindsay      Oklahoma   4134   \n",
       "2  Republic First Bank dba Republic Bank  Philadelphia  Pennsylvania  27332   \n",
       "3                          Citizens Bank      Sac City          Iowa   8758   \n",
       "4               Heartland Tri-State Bank       Elkhart        Kansas  25851   \n",
       "\n",
       "                Acquiring Institution      Closing Date  Fund  Sort ascending  \n",
       "0                     Millennium Bank  January 17, 2025                 10548  \n",
       "1  First Bank & Trust Co., Duncan, OK  October 18, 2024                 10547  \n",
       "2   Fulton Bank, National Association    April 26, 2024                 10546  \n",
       "3           Iowa Trust & Savings Bank  November 3, 2023                 10545  \n",
       "4              Dream First Bank, N.A.     July 28, 2023                 10544  "
      ]
     },
     "execution_count": 24,
     "metadata": {},
     "output_type": "execute_result"
    }
   ],
   "source": [
    "##reading data from html file \n",
    "url = \"https://www.fdic.gov/bank/individual/failed/banklist.html\"\n",
    "\n",
    "#read the html file\n",
    "df = pd.read_html(url)\n",
    "\n",
    "#see the data\n",
    "df[0].head()"
   ]
  },
  {
   "cell_type": "code",
   "execution_count": 25,
   "id": "01cd7ba6",
   "metadata": {},
   "outputs": [
    {
     "data": {
      "text/html": [
       "<div>\n",
       "<style scoped>\n",
       "    .dataframe tbody tr th:only-of-type {\n",
       "        vertical-align: middle;\n",
       "    }\n",
       "\n",
       "    .dataframe tbody tr th {\n",
       "        vertical-align: top;\n",
       "    }\n",
       "\n",
       "    .dataframe thead th {\n",
       "        text-align: right;\n",
       "    }\n",
       "</style>\n",
       "<table border=\"1\" class=\"dataframe\">\n",
       "  <thead>\n",
       "    <tr style=\"text-align: right;\">\n",
       "      <th></th>\n",
       "      <th>Mobile country code</th>\n",
       "      <th>Country</th>\n",
       "      <th>ISO 3166</th>\n",
       "      <th>Mobile network codes</th>\n",
       "      <th>National MNC authority</th>\n",
       "      <th>Remarks</th>\n",
       "    </tr>\n",
       "  </thead>\n",
       "  <tbody>\n",
       "    <tr>\n",
       "      <th>0</th>\n",
       "      <td>289</td>\n",
       "      <td>A Abkhazia</td>\n",
       "      <td>GE-AB</td>\n",
       "      <td>List of mobile network codes in Abkhazia</td>\n",
       "      <td>NaN</td>\n",
       "      <td>MCC is not listed by ITU</td>\n",
       "    </tr>\n",
       "    <tr>\n",
       "      <th>1</th>\n",
       "      <td>412</td>\n",
       "      <td>Afghanistan</td>\n",
       "      <td>AF</td>\n",
       "      <td>List of mobile network codes in Afghanistan</td>\n",
       "      <td>NaN</td>\n",
       "      <td>NaN</td>\n",
       "    </tr>\n",
       "    <tr>\n",
       "      <th>2</th>\n",
       "      <td>276</td>\n",
       "      <td>Albania</td>\n",
       "      <td>AL</td>\n",
       "      <td>List of mobile network codes in Albania</td>\n",
       "      <td>NaN</td>\n",
       "      <td>NaN</td>\n",
       "    </tr>\n",
       "    <tr>\n",
       "      <th>3</th>\n",
       "      <td>603</td>\n",
       "      <td>Algeria</td>\n",
       "      <td>DZ</td>\n",
       "      <td>List of mobile network codes in Algeria</td>\n",
       "      <td>NaN</td>\n",
       "      <td>NaN</td>\n",
       "    </tr>\n",
       "    <tr>\n",
       "      <th>4</th>\n",
       "      <td>544</td>\n",
       "      <td>American Samoa (United States of America)</td>\n",
       "      <td>AS</td>\n",
       "      <td>List of mobile network codes in American Samoa</td>\n",
       "      <td>NaN</td>\n",
       "      <td>NaN</td>\n",
       "    </tr>\n",
       "  </tbody>\n",
       "</table>\n",
       "</div>"
      ],
      "text/plain": [
       "   Mobile country code                                    Country ISO 3166  \\\n",
       "0                  289                                 A Abkhazia    GE-AB   \n",
       "1                  412                                Afghanistan       AF   \n",
       "2                  276                                    Albania       AL   \n",
       "3                  603                                    Algeria       DZ   \n",
       "4                  544  American Samoa (United States of America)       AS   \n",
       "\n",
       "                             Mobile network codes National MNC authority  \\\n",
       "0        List of mobile network codes in Abkhazia                    NaN   \n",
       "1     List of mobile network codes in Afghanistan                    NaN   \n",
       "2         List of mobile network codes in Albania                    NaN   \n",
       "3         List of mobile network codes in Algeria                    NaN   \n",
       "4  List of mobile network codes in American Samoa                    NaN   \n",
       "\n",
       "                    Remarks  \n",
       "0  MCC is not listed by ITU  \n",
       "1                       NaN  \n",
       "2                       NaN  \n",
       "3                       NaN  \n",
       "4                       NaN  "
      ]
     },
     "execution_count": 25,
     "metadata": {},
     "output_type": "execute_result"
    }
   ],
   "source": [
    "#extracting the data from html file from wikipedia\n",
    "# the Wikipedia page with the Mobile Country Code listings\n",
    "url = \"https://en.wikipedia.org/wiki/Mobile_country_code\"\n",
    "\n",
    "#read the html file\n",
    "df = pd.read_html(url, match=\"Country\", header=0)\n",
    "\n",
    "#see the data\n",
    "df[0].head()\n",
    "\n"
   ]
  }
 ],
 "metadata": {
  "kernelspec": {
   "display_name": "Python 3",
   "language": "python",
   "name": "python3"
  },
  "language_info": {
   "codemirror_mode": {
    "name": "ipython",
    "version": 3
   },
   "file_extension": ".py",
   "mimetype": "text/x-python",
   "name": "python",
   "nbconvert_exporter": "python",
   "pygments_lexer": "ipython3",
   "version": "3.9.13"
  }
 },
 "nbformat": 4,
 "nbformat_minor": 5
}
