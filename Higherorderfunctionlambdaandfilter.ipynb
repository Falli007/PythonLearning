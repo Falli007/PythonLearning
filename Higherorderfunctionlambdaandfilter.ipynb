{
 "cells": [
  {
   "cell_type": "code",
   "execution_count": null,
   "id": "5c1383ed",
   "metadata": {},
   "outputs": [],
   "source": [
    "# This defines a simple function to sum two numbers.\n",
    "def sum(a,b):\n",
    "    return a + b"
   ]
  },
  {
   "cell_type": "code",
   "execution_count": 3,
   "id": "adb55647",
   "metadata": {},
   "outputs": [],
   "source": [
    "fun1 = sum"
   ]
  },
  {
   "cell_type": "code",
   "execution_count": 4,
   "id": "cb28e15b",
   "metadata": {},
   "outputs": [
    {
     "data": {
      "text/plain": [
       "<function __main__.sum(a, b)>"
      ]
     },
     "execution_count": 4,
     "metadata": {},
     "output_type": "execute_result"
    }
   ],
   "source": [
    "fun1"
   ]
  },
  {
   "cell_type": "code",
   "execution_count": 5,
   "id": "a06b62a9",
   "metadata": {},
   "outputs": [
    {
     "data": {
      "text/plain": [
       "6"
      ]
     },
     "execution_count": 5,
     "metadata": {},
     "output_type": "execute_result"
    }
   ],
   "source": [
    "fun1(1,5)"
   ]
  },
  {
   "cell_type": "code",
   "execution_count": 6,
   "id": "abb39477",
   "metadata": {},
   "outputs": [
    {
     "data": {
      "text/plain": [
       "function"
      ]
     },
     "execution_count": 6,
     "metadata": {},
     "output_type": "execute_result"
    }
   ],
   "source": [
    "type(sum)"
   ]
  },
  {
   "cell_type": "code",
   "execution_count": 7,
   "id": "9e9067c7",
   "metadata": {},
   "outputs": [],
   "source": [
    "l1 = [1, 2, 3, 4, 5]"
   ]
  },
  {
   "cell_type": "code",
   "execution_count": 8,
   "id": "5d68e3d7",
   "metadata": {},
   "outputs": [],
   "source": [
    "l1.append(sum)"
   ]
  },
  {
   "cell_type": "code",
   "execution_count": 9,
   "id": "b24cdbd6",
   "metadata": {},
   "outputs": [
    {
     "name": "stdout",
     "output_type": "stream",
     "text": [
      "[1, 2, 3, 4, 5, <function sum at 0x000002415B9770D0>]\n"
     ]
    }
   ],
   "source": [
    "print(l1)"
   ]
  },
  {
   "cell_type": "code",
   "execution_count": 15,
   "id": "cf4e60fa",
   "metadata": {},
   "outputs": [
    {
     "ename": "NameError",
     "evalue": "name 'diff' is not defined",
     "output_type": "error",
     "traceback": [
      "\u001b[1;31m---------------------------------------------------------------------------\u001b[0m",
      "\u001b[1;31mNameError\u001b[0m                                 Traceback (most recent call last)",
      "Cell \u001b[1;32mIn[15], line 2\u001b[0m\n\u001b[0;32m      1\u001b[0m d1 \u001b[38;5;241m=\u001b[39m {\u001b[38;5;124m'\u001b[39m\u001b[38;5;124msum\u001b[39m\u001b[38;5;124m'\u001b[39m : \u001b[38;5;28msum\u001b[39m,\n\u001b[1;32m----> 2\u001b[0m       \u001b[38;5;124m'\u001b[39m\u001b[38;5;124mdiff\u001b[39m\u001b[38;5;124m'\u001b[39m : \u001b[43mdiff\u001b[49m,\n\u001b[0;32m      3\u001b[0m       \u001b[38;5;124m'\u001b[39m\u001b[38;5;124mprod\u001b[39m\u001b[38;5;124m'\u001b[39m : prod,\n\u001b[0;32m      4\u001b[0m       \u001b[38;5;124m'\u001b[39m\u001b[38;5;124mlen\u001b[39m\u001b[38;5;124m'\u001b[39m : \u001b[38;5;28mlen\u001b[39m}\n",
      "\u001b[1;31mNameError\u001b[0m: name 'diff' is not defined"
     ]
    }
   ],
   "source": [
    "d1 = {'sum' : sum,\n",
    "      'diff' : diff,\n",
    "      'prod' : prod,\n",
    "      'len' : len}"
   ]
  },
  {
   "cell_type": "code",
   "execution_count": 16,
   "id": "f1495363",
   "metadata": {},
   "outputs": [
    {
     "data": {
      "text/plain": [
       "int"
      ]
     },
     "execution_count": 16,
     "metadata": {},
     "output_type": "execute_result"
    }
   ],
   "source": [
    "type(5)"
   ]
  },
  {
   "cell_type": "markdown",
   "id": "8f03786d",
   "metadata": {},
   "source": [
    "5 is an object type of integer"
   ]
  },
  {
   "cell_type": "code",
   "execution_count": 17,
   "id": "b013b582",
   "metadata": {},
   "outputs": [
    {
     "data": {
      "text/plain": [
       "<function __main__.sum(a, b)>"
      ]
     },
     "execution_count": 17,
     "metadata": {},
     "output_type": "execute_result"
    }
   ],
   "source": [
    "sum"
   ]
  },
  {
   "cell_type": "code",
   "execution_count": 18,
   "id": "c6159d84",
   "metadata": {},
   "outputs": [
    {
     "data": {
      "text/plain": [
       "function"
      ]
     },
     "execution_count": 18,
     "metadata": {},
     "output_type": "execute_result"
    }
   ],
   "source": [
    "type(sum)"
   ]
  },
  {
   "cell_type": "code",
   "execution_count": 19,
   "id": "774e2e0c",
   "metadata": {},
   "outputs": [
    {
     "name": "stdout",
     "output_type": "stream",
     "text": [
      "<class 'function'>\n"
     ]
    }
   ],
   "source": [
    "print(type(sum))"
   ]
  },
  {
   "cell_type": "markdown",
   "id": "a686d100",
   "metadata": {},
   "source": [
    "Passing as an argument to another function"
   ]
  },
  {
   "cell_type": "code",
   "execution_count": 21,
   "id": "d5abd64e",
   "metadata": {},
   "outputs": [],
   "source": [
    "def sum(a,b):\n",
    "    print(a+b)\n",
    "    "
   ]
  },
  {
   "cell_type": "code",
   "execution_count": null,
   "id": "2f5aea33",
   "metadata": {},
   "outputs": [
    {
     "name": "stdout",
     "output_type": "stream",
     "text": [
      "34\n"
     ]
    }
   ],
   "source": [
    "sum('3', '4') "
   ]
  },
  {
   "cell_type": "code",
   "execution_count": 26,
   "id": "408212cd",
   "metadata": {},
   "outputs": [],
   "source": [
    "def squareOfaNumber(x):\n",
    "    return x*x"
   ]
  },
  {
   "cell_type": "code",
   "execution_count": 27,
   "id": "cd3edbfb",
   "metadata": {},
   "outputs": [
    {
     "data": {
      "text/plain": [
       "25"
      ]
     },
     "execution_count": 27,
     "metadata": {},
     "output_type": "execute_result"
    }
   ],
   "source": [
    "squareOfaNumber(5)"
   ]
  },
  {
   "cell_type": "code",
   "execution_count": 28,
   "id": "afcb2c37",
   "metadata": {},
   "outputs": [],
   "source": [
    "def squareOfaList(l1): # takes a list and returns a new list with squares of the elements\n",
    "    l1squared = []    # empty list to hold the squares\n",
    "    for i in l1:      # iterate through the list\n",
    "        l1squared.append(squareOfaNumber(i))  # append the square of each element\n",
    "    \n",
    "    return l1squared  # return the new list with squares"
   ]
  },
  {
   "cell_type": "code",
   "execution_count": 29,
   "id": "7c707d67",
   "metadata": {},
   "outputs": [
    {
     "data": {
      "text/plain": [
       "[1, 4, 9, 16, 25]"
      ]
     },
     "execution_count": 29,
     "metadata": {},
     "output_type": "execute_result"
    }
   ],
   "source": [
    " squareOfaList([1, 2, 3, 4, 5])  # calling the function with a list of numbers"
   ]
  },
  {
   "cell_type": "code",
   "execution_count": 30,
   "id": "776f0c34",
   "metadata": {},
   "outputs": [],
   "source": [
    "def squareRootOfaNumber(x):\n",
    "    return x**0.5  # returns the square root of the number"
   ]
  },
  {
   "cell_type": "code",
   "execution_count": 31,
   "id": "0fc4862f",
   "metadata": {},
   "outputs": [
    {
     "data": {
      "text/plain": [
       "4.0"
      ]
     },
     "execution_count": 31,
     "metadata": {},
     "output_type": "execute_result"
    }
   ],
   "source": [
    "squareRootOfaNumber(16)  # calling the function with a number"
   ]
  },
  {
   "cell_type": "code",
   "execution_count": 38,
   "id": "48cba699",
   "metadata": {},
   "outputs": [],
   "source": [
    "def CubeRootOfaNumber(x):\n",
    "    return x**3 # returns the cube root of the number  "
   ]
  },
  {
   "cell_type": "code",
   "execution_count": 39,
   "id": "7a08241a",
   "metadata": {},
   "outputs": [],
   "source": [
    "def squareOfaList(l1,functionwhichyouwanttoapply):\n",
    "    lisquared = []  # empty list to hold the squares\n",
    "    for i in l1:  # iterate through the list\n",
    "        lisquared.append(functionwhichyouwanttoapply(i))  # apply the function to each element and append to the new list\n",
    "        \n",
    "    return lisquared  # return the new list with squares"
   ]
  },
  {
   "cell_type": "code",
   "execution_count": 40,
   "id": "189d0f29",
   "metadata": {},
   "outputs": [
    {
     "data": {
      "text/plain": [
       "[1, 8, 27, 64]"
      ]
     },
     "execution_count": 40,
     "metadata": {},
     "output_type": "execute_result"
    }
   ],
   "source": [
    "squareOfaList([1, 2, 3, 4], CubeRootOfaNumber)  # calling the function with a list of numbers"
   ]
  },
  {
   "cell_type": "markdown",
   "id": "e8788f6f",
   "metadata": {},
   "source": [
    "##Write a pogram to get a list and return each and every element as a positive/abs value"
   ]
  },
  {
   "cell_type": "code",
   "execution_count": 41,
   "id": "2be4fb86",
   "metadata": {},
   "outputs": [],
   "source": [
    "import math"
   ]
  },
  {
   "cell_type": "code",
   "execution_count": 49,
   "id": "10d834cb",
   "metadata": {},
   "outputs": [],
   "source": [
    "def factorialOfANumber(x): # takes a number and returns its absolute value\n",
    "    return math.factorial(x)  # returns the factorial of the number"
   ]
  },
  {
   "cell_type": "code",
   "execution_count": 47,
   "id": "1e5d827f",
   "metadata": {},
   "outputs": [],
   "source": [
    "def OperationOnAList(l1, func):\n",
    "    l1Modified = []  # empty list to hold the modified elements\n",
    "    for i in l1:  # iterate through the list\n",
    "        l1Modified.append(func(i))  # apply the function to each element and append to the new list\n",
    "        \n",
    "    return l1Modified  # return the new list with modified elements"
   ]
  },
  {
   "cell_type": "code",
   "execution_count": 50,
   "id": "b3442fc7",
   "metadata": {},
   "outputs": [
    {
     "data": {
      "text/plain": [
       "[1, 2, 6, 24]"
      ]
     },
     "execution_count": 50,
     "metadata": {},
     "output_type": "execute_result"
    }
   ],
   "source": [
    "OperationOnAList([1, 2, 3, 4], factorialOfANumber)  # calling the function with a list of numbers"
   ]
  },
  {
   "cell_type": "markdown",
   "id": "851e622a",
   "metadata": {},
   "source": [
    "To only pick out the positive values "
   ]
  },
  {
   "cell_type": "code",
   "execution_count": 60,
   "id": "dcf26a52",
   "metadata": {},
   "outputs": [],
   "source": [
    "def positive(x):  # takes a number and returns its absolute value\n",
    "    return x>=0  # returns True if the number is positive, False otherwise"
   ]
  },
  {
   "cell_type": "code",
   "execution_count": 64,
   "id": "c73f37ce",
   "metadata": {},
   "outputs": [],
   "source": [
    "def FilterMyList(l1, func):\n",
    "    l1Modified = []  # empty list to hold the modified elements\n",
    "    for i in l1:    # iterate through the list\n",
    "        if(func(i)): # check if the element satisfies the condition defined by the function\n",
    "            l1Modified.append(i)  # append the element to the new list if it satisfies the condition\n",
    "        \n",
    "    return l1Modified  # return the new list with modified elements"
   ]
  },
  {
   "cell_type": "code",
   "execution_count": 65,
   "id": "cb43f314",
   "metadata": {},
   "outputs": [
    {
     "data": {
      "text/plain": [
       "[1, 2, 3, 10]"
      ]
     },
     "execution_count": 65,
     "metadata": {},
     "output_type": "execute_result"
    }
   ],
   "source": [
    "FilterMyList([1, 2, 3,-5,-10, 10], positive)  # calling the function with a list of numbers"
   ]
  },
  {
   "cell_type": "code",
   "execution_count": null,
   "id": "5c79496e",
   "metadata": {},
   "outputs": [],
   "source": []
  },
  {
   "cell_type": "code",
   "execution_count": 66,
   "id": "7228e898",
   "metadata": {},
   "outputs": [],
   "source": [
    "def sum(a, b):\n",
    "    return a + b"
   ]
  },
  {
   "cell_type": "code",
   "execution_count": 71,
   "id": "09a91176",
   "metadata": {},
   "outputs": [],
   "source": [
    "def greet(name):\n",
    "    return f\"Hello, {name}!\""
   ]
  },
  {
   "cell_type": "code",
   "execution_count": 72,
   "id": "270d5e45",
   "metadata": {},
   "outputs": [],
   "source": [
    "def hello():\n",
    "    return greet(\"World\")"
   ]
  },
  {
   "cell_type": "code",
   "execution_count": 73,
   "id": "810a8bb3",
   "metadata": {},
   "outputs": [
    {
     "data": {
      "text/plain": [
       "'Hello, World!'"
      ]
     },
     "execution_count": 73,
     "metadata": {},
     "output_type": "execute_result"
    }
   ],
   "source": [
    "hello()"
   ]
  },
  {
   "cell_type": "code",
   "execution_count": null,
   "id": "6e60b47f",
   "metadata": {},
   "outputs": [],
   "source": []
  },
  {
   "cell_type": "code",
   "execution_count": 77,
   "id": "a4985c52",
   "metadata": {},
   "outputs": [],
   "source": [
    "def factorial():\n",
    "    return math.factorial\n",
    "    "
   ]
  },
  {
   "cell_type": "code",
   "execution_count": 78,
   "id": "cdb147cd",
   "metadata": {},
   "outputs": [],
   "source": [
    "def FindFactorial(num):\n",
    "    f = factorial()  # calls the factorial function\n",
    "    return f(num)  # calls the factorial function and passes the number to it\n",
    "    "
   ]
  },
  {
   "cell_type": "code",
   "execution_count": 79,
   "id": "03248755",
   "metadata": {},
   "outputs": [
    {
     "data": {
      "text/plain": [
       "120"
      ]
     },
     "execution_count": 79,
     "metadata": {},
     "output_type": "execute_result"
    }
   ],
   "source": [
    "FindFactorial(5)  # calling the function with a number to find its factorial"
   ]
  },
  {
   "cell_type": "code",
   "execution_count": null,
   "id": "f9323fe1",
   "metadata": {},
   "outputs": [],
   "source": []
  },
  {
   "cell_type": "code",
   "execution_count": 80,
   "id": "15a85cfd",
   "metadata": {},
   "outputs": [],
   "source": [
    "def shout(text):\n",
    "    return text.upper() + \"!\"  # converts the text to uppercase and adds an exclamation mark\n",
    "\n",
    "def whisper(text):\n",
    "    return text.lower() + \"...\"  # converts the text to lowercase and adds ellipsis\n",
    "\n",
    "def greet(func):\n",
    "    return func(\"Mayank\")"
   ]
  },
  {
   "cell_type": "code",
   "execution_count": 81,
   "id": "d04e1b33",
   "metadata": {},
   "outputs": [
    {
     "data": {
      "text/plain": [
       "'MAYANK!'"
      ]
     },
     "execution_count": 81,
     "metadata": {},
     "output_type": "execute_result"
    }
   ],
   "source": [
    "greet(shout)  # calling the greet function with the shout function"
   ]
  },
  {
   "cell_type": "code",
   "execution_count": null,
   "id": "6efa2567",
   "metadata": {},
   "outputs": [],
   "source": []
  },
  {
   "cell_type": "code",
   "execution_count": 83,
   "id": "a3996891",
   "metadata": {},
   "outputs": [
    {
     "data": {
      "text/plain": [
       "<function __main__.squareRoot.<locals>.square(y)>"
      ]
     },
     "execution_count": 83,
     "metadata": {},
     "output_type": "execute_result"
    }
   ],
   "source": [
    "def squareRoot(x):\n",
    "    \n",
    "    def square(y):\n",
    "        return y * y\n",
    "    \n",
    "    return square # returns the square of the number\n",
    "\n",
    "squareRoot(16)  # calling the function with a number to find its square root"
   ]
  }
 ],
 "metadata": {
  "kernelspec": {
   "display_name": "Python 3",
   "language": "python",
   "name": "python3"
  },
  "language_info": {
   "codemirror_mode": {
    "name": "ipython",
    "version": 3
   },
   "file_extension": ".py",
   "mimetype": "text/x-python",
   "name": "python",
   "nbconvert_exporter": "python",
   "pygments_lexer": "ipython3",
   "version": "3.9.13"
  }
 },
 "nbformat": 4,
 "nbformat_minor": 5
}
