{
 "cells": [
  {
   "cell_type": "markdown",
   "id": "d7bd2b49",
   "metadata": {},
   "source": [
    "Lambda Function"
   ]
  },
  {
   "cell_type": "code",
   "execution_count": 1,
   "id": "c5a375ec",
   "metadata": {},
   "outputs": [],
   "source": [
    "def square(x):\n",
    "    return x * x"
   ]
  },
  {
   "cell_type": "code",
   "execution_count": 4,
   "id": "ca72d11b",
   "metadata": {},
   "outputs": [],
   "source": [
    "def cube(x):\n",
    "    return x * x * x"
   ]
  },
  {
   "cell_type": "code",
   "execution_count": 6,
   "id": "c59f55f3",
   "metadata": {},
   "outputs": [],
   "source": [
    "def squareRoot(x):\n",
    "    return x ** 0.5  # returns the square root of the number"
   ]
  },
  {
   "cell_type": "code",
   "execution_count": 2,
   "id": "4c613ba3",
   "metadata": {},
   "outputs": [],
   "source": [
    "def ApplyOnList(l1, func):\n",
    "    l2 = []\n",
    "    for i in l1:\n",
    "        l2.append(func(i))\n",
    "    return l2"
   ]
  },
  {
   "cell_type": "code",
   "execution_count": 3,
   "id": "38bd26a5",
   "metadata": {},
   "outputs": [
    {
     "data": {
      "text/plain": [
       "[1, 4, 9, 16]"
      ]
     },
     "execution_count": 3,
     "metadata": {},
     "output_type": "execute_result"
    }
   ],
   "source": [
    "ApplyOnList([1, 2, 3, 4], square)"
   ]
  },
  {
   "cell_type": "code",
   "execution_count": 5,
   "id": "0bccbdc6",
   "metadata": {},
   "outputs": [
    {
     "data": {
      "text/plain": [
       "[1, 8, 27, 64]"
      ]
     },
     "execution_count": 5,
     "metadata": {},
     "output_type": "execute_result"
    }
   ],
   "source": [
    "ApplyOnList([1, 2, 3, 4], cube)"
   ]
  },
  {
   "cell_type": "code",
   "execution_count": 7,
   "id": "edf13e54",
   "metadata": {},
   "outputs": [
    {
     "data": {
      "text/plain": [
       "[1.0, 1.4142135623730951, 1.7320508075688772, 2.0]"
      ]
     },
     "execution_count": 7,
     "metadata": {},
     "output_type": "execute_result"
    }
   ],
   "source": [
    "ApplyOnList([1, 2, 3, 4], squareRoot)"
   ]
  },
  {
   "cell_type": "code",
   "execution_count": null,
   "id": "95e84aa7",
   "metadata": {},
   "outputs": [],
   "source": []
  },
  {
   "cell_type": "code",
   "execution_count": 8,
   "id": "e17f01ae",
   "metadata": {},
   "outputs": [],
   "source": [
    "def square(x):\n",
    "    return x * x"
   ]
  },
  {
   "cell_type": "code",
   "execution_count": 9,
   "id": "40695d29",
   "metadata": {},
   "outputs": [],
   "source": [
    "sqLambda = lambda x: x * x # lambda function for square"
   ]
  },
  {
   "cell_type": "code",
   "execution_count": 10,
   "id": "c59f4d7a",
   "metadata": {},
   "outputs": [
    {
     "data": {
      "text/plain": [
       "100"
      ]
     },
     "execution_count": 10,
     "metadata": {},
     "output_type": "execute_result"
    }
   ],
   "source": [
    "sqLambda(10)  # returns 100"
   ]
  },
  {
   "cell_type": "code",
   "execution_count": 11,
   "id": "3998b824",
   "metadata": {},
   "outputs": [
    {
     "data": {
      "text/plain": [
       "[1, 4, 9, 16]"
      ]
     },
     "execution_count": 11,
     "metadata": {},
     "output_type": "execute_result"
    }
   ],
   "source": [
    "ApplyOnList([1, 2, 3, 4], sqLambda)  # applies the square lambda function to the list"
   ]
  },
  {
   "cell_type": "code",
   "execution_count": 12,
   "id": "46c5f7f2",
   "metadata": {},
   "outputs": [
    {
     "data": {
      "text/plain": [
       "[1, 4, 9, 16]"
      ]
     },
     "execution_count": 12,
     "metadata": {},
     "output_type": "execute_result"
    }
   ],
   "source": [
    "ApplyOnList([1, 2, 3, 4], lambda x: x * x)  # applies the cube lambda function to the list"
   ]
  },
  {
   "cell_type": "code",
   "execution_count": 13,
   "id": "c6129f57",
   "metadata": {},
   "outputs": [
    {
     "data": {
      "text/plain": [
       "[1.0, 1.4142135623730951, 1.7320508075688772, 2.0]"
      ]
     },
     "execution_count": 13,
     "metadata": {},
     "output_type": "execute_result"
    }
   ],
   "source": [
    "ApplyOnList([1, 2, 3, 4], lambda x: x * x * x)  # applies the cube lambda function to the list\n",
    "ApplyOnList([1, 2, 3, 4], lambda x: x ** 0.5)  # applies the square root lambda function to the list\n"
   ]
  },
  {
   "cell_type": "markdown",
   "id": "f2ad1f11",
   "metadata": {},
   "source": [
    "##Map Function"
   ]
  },
  {
   "cell_type": "code",
   "execution_count": 16,
   "id": "e5dfb8ee",
   "metadata": {},
   "outputs": [],
   "source": [
    "def square(x):\n",
    "    return x * x"
   ]
  },
  {
   "cell_type": "code",
   "execution_count": 17,
   "id": "0df41c96",
   "metadata": {},
   "outputs": [],
   "source": [
    "def ApplyOnList(func, lst):\n",
    "    \n",
    "    l2 = []\n",
    "    \n",
    "    for i in lst:\n",
    "        l2.append(func(i))\n",
    "        \n",
    "    return [func(x) for x in lst]"
   ]
  },
  {
   "cell_type": "code",
   "execution_count": 18,
   "id": "40641760",
   "metadata": {},
   "outputs": [
    {
     "data": {
      "text/plain": [
       "(1, 4, 9, 16)"
      ]
     },
     "execution_count": 18,
     "metadata": {},
     "output_type": "execute_result"
    }
   ],
   "source": [
    "tuple(map(square, [1, 2, 3, 4]))  # applies the square function to the list using map"
   ]
  },
  {
   "cell_type": "code",
   "execution_count": 19,
   "id": "7b562e05",
   "metadata": {},
   "outputs": [
    {
     "data": {
      "text/plain": [
       "(1, 8, 27, 64)"
      ]
     },
     "execution_count": 19,
     "metadata": {},
     "output_type": "execute_result"
    }
   ],
   "source": [
    "tuple(map(lambda x : x*x*x, [1, 2, 3, 4]))  # applies the cube lambda function to the list using map"
   ]
  },
  {
   "cell_type": "code",
   "execution_count": 20,
   "id": "b7376d78",
   "metadata": {},
   "outputs": [
    {
     "data": {
      "text/plain": [
       "(2, 3, 4, 5)"
      ]
     },
     "execution_count": 20,
     "metadata": {},
     "output_type": "execute_result"
    }
   ],
   "source": [
    "tuple(map(lambda x: x+1, [1, 2, 3, 4]))  # applies the increment lambda function to the list using map"
   ]
  },
  {
   "cell_type": "markdown",
   "id": "3cbda09b",
   "metadata": {},
   "source": [
    "Filter"
   ]
  },
  {
   "cell_type": "code",
   "execution_count": 21,
   "id": "4a0c9a78",
   "metadata": {},
   "outputs": [],
   "source": [
    "def FilterMyList(func, l1):\n",
    "    l2 = []\n",
    "    for i in l1:\n",
    "        if func(i):\n",
    "            l2.append(i)\n",
    "    return l2"
   ]
  },
  {
   "cell_type": "code",
   "execution_count": 22,
   "id": "b9203ac5",
   "metadata": {},
   "outputs": [],
   "source": [
    "def isEven(x):\n",
    "    return x % 2 == 0"
   ]
  },
  {
   "cell_type": "code",
   "execution_count": 23,
   "id": "845ec889",
   "metadata": {},
   "outputs": [
    {
     "data": {
      "text/plain": [
       "[2, 4]"
      ]
     },
     "execution_count": 23,
     "metadata": {},
     "output_type": "execute_result"
    }
   ],
   "source": [
    "FilterMyList(isEven, [1, 2, 3, 4])  # filters the list to only even numbers"
   ]
  },
  {
   "cell_type": "code",
   "execution_count": 24,
   "id": "456d9c3a",
   "metadata": {},
   "outputs": [],
   "source": [
    "f1 = filter(isEven, [1, 2, 3, 4])  # filters the list to only even numbers using filter"
   ]
  },
  {
   "cell_type": "code",
   "execution_count": 25,
   "id": "716cfc0f",
   "metadata": {},
   "outputs": [
    {
     "data": {
      "text/plain": [
       "[2, 4]"
      ]
     },
     "execution_count": 25,
     "metadata": {},
     "output_type": "execute_result"
    }
   ],
   "source": [
    "list(f1)  # converts the filter object to a list"
   ]
  },
  {
   "cell_type": "code",
   "execution_count": null,
   "id": "912e7e36",
   "metadata": {},
   "outputs": [
    {
     "data": {
      "text/plain": [
       "[50, 70, 84]"
      ]
     },
     "execution_count": 27,
     "metadata": {},
     "output_type": "execute_result"
    }
   ],
   "source": [
    "list(filter(lambda x: x>10, [1, 2, 3, 4, 50, 70, 84])) # filters the list to only numbers greater than 10 using filter"
   ]
  },
  {
   "cell_type": "markdown",
   "id": "ded62f7e",
   "metadata": {},
   "source": [
    "Reduce Function"
   ]
  },
  {
   "cell_type": "code",
   "execution_count": 29,
   "id": "522fa052",
   "metadata": {},
   "outputs": [],
   "source": [
    "import functools\n",
    "from functools import reduce"
   ]
  },
  {
   "cell_type": "code",
   "execution_count": 30,
   "id": "ef5dd85b",
   "metadata": {},
   "outputs": [
    {
     "data": {
      "text/plain": [
       "10"
      ]
     },
     "execution_count": 30,
     "metadata": {},
     "output_type": "execute_result"
    }
   ],
   "source": [
    "reduce(lambda x, y: x + y, [1, 2, 3, 4])  # reduces the list by summing all elements"
   ]
  },
  {
   "cell_type": "code",
   "execution_count": 31,
   "id": "0bbb3395",
   "metadata": {},
   "outputs": [
    {
     "data": {
      "text/plain": [
       "24"
      ]
     },
     "execution_count": 31,
     "metadata": {},
     "output_type": "execute_result"
    }
   ],
   "source": [
    "reduce(lambda x, y: x * y, [1, 2, 3, 4]) # reduces the list by multiplying all elements"
   ]
  }
 ],
 "metadata": {
  "kernelspec": {
   "display_name": "Python 3",
   "language": "python",
   "name": "python3"
  },
  "language_info": {
   "codemirror_mode": {
    "name": "ipython",
    "version": 3
   },
   "file_extension": ".py",
   "mimetype": "text/x-python",
   "name": "python",
   "nbconvert_exporter": "python",
   "pygments_lexer": "ipython3",
   "version": "3.9.13"
  }
 },
 "nbformat": 4,
 "nbformat_minor": 5
}
