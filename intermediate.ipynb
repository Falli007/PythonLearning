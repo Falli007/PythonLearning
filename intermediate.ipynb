{
 "cells": [
  {
   "cell_type": "markdown",
   "id": "28914f51",
   "metadata": {},
   "source": [
    "### Importing Modules in Python: Modules and Packages\n",
    "\n",
    "In Python, modules and packages help organize and reuse code. Here's a comprehensive guide on how to import them.\n"
   ]
  },
  {
   "cell_type": "code",
   "execution_count": 1,
   "id": "74e7a316",
   "metadata": {},
   "outputs": [
    {
     "data": {
      "text/plain": [
       "2.0"
      ]
     },
     "execution_count": 1,
     "metadata": {},
     "output_type": "execute_result"
    }
   ],
   "source": [
    "import math\n",
    "math.sqrt(4)"
   ]
  },
  {
   "cell_type": "code",
   "execution_count": 2,
   "id": "32c88601",
   "metadata": {},
   "outputs": [
    {
     "name": "stdout",
     "output_type": "stream",
     "text": [
      "4.0\n",
      "7.483314773547883\n",
      "10.0\n"
     ]
    }
   ],
   "source": [
    "from math import sqrt\n",
    "print(sqrt(16))\n",
    "print(sqrt(56))\n",
    "print(sqrt(100))"
   ]
  },
  {
   "cell_type": "code",
   "execution_count": 3,
   "id": "a91f0ff6",
   "metadata": {},
   "outputs": [
    {
     "data": {
      "text/plain": [
       "array([1, 2, 3])"
      ]
     },
     "execution_count": 3,
     "metadata": {},
     "output_type": "execute_result"
    }
   ],
   "source": [
    "import numpy as np\n",
    "np.array([1, 2, 3])"
   ]
  },
  {
   "cell_type": "code",
   "execution_count": 6,
   "id": "1bb52035",
   "metadata": {},
   "outputs": [
    {
     "name": "stdout",
     "output_type": "stream",
     "text": [
      "5.0\n",
      "3.141592653589793\n"
     ]
    }
   ],
   "source": [
    "from math import *\n",
    "print(sqrt(25))\n",
    "print(pi)"
   ]
  },
  {
   "cell_type": "code",
   "execution_count": 9,
   "id": "1bc1bf98",
   "metadata": {},
   "outputs": [
    {
     "name": "stdout",
     "output_type": "stream",
     "text": [
      "array('i', [1, 2, 3])\n"
     ]
    }
   ],
   "source": [
    "import array \n",
    "arr = array.array('i', [1, 2, 3])   \n",
    "print(arr)"
   ]
  },
  {
   "cell_type": "code",
   "execution_count": 10,
   "id": "4987548f",
   "metadata": {},
   "outputs": [
    {
     "name": "stdout",
     "output_type": "stream",
     "text": [
      "4.0\n",
      "3.141592653589793\n"
     ]
    }
   ],
   "source": [
    "import math\n",
    "print(math.sqrt(16))\n",
    "print(math.pi)"
   ]
  },
  {
   "cell_type": "code",
   "execution_count": 11,
   "id": "0fc3dfd3",
   "metadata": {},
   "outputs": [
    {
     "name": "stdout",
     "output_type": "stream",
     "text": [
      "5\n",
      "apple\n"
     ]
    }
   ],
   "source": [
    "import random \n",
    "print(random.randint(1, 10))\n",
    "print(random.choice(['apple', 'banana', 'cherry']))"
   ]
  },
  {
   "cell_type": "code",
   "execution_count": 12,
   "id": "ff2592dc",
   "metadata": {},
   "outputs": [
    {
     "name": "stdout",
     "output_type": "stream",
     "text": [
      "c:\\Users\\allif\\Downloads\\PYthon learning\n",
      "['basic.ipynb', 'intermmeediate.ipynb', 'sample.txt']\n",
      "True\n"
     ]
    }
   ],
   "source": [
    "#file director access\n",
    "import os\n",
    "print(os.getcwd())  # Get current working directory\n",
    "print(os.listdir('.'))  # List files in current directory\n",
    "print(os.path.exists('sample.txt'))  # Check if file exists\n"
   ]
  },
  {
   "cell_type": "code",
   "execution_count": 13,
   "id": "072c7882",
   "metadata": {},
   "outputs": [
    {
     "ename": "FileNotFoundError",
     "evalue": "[Errno 2] No such file or directory: 'source.txt'",
     "output_type": "error",
     "traceback": [
      "\u001b[1;31m---------------------------------------------------------------------------\u001b[0m",
      "\u001b[1;31mFileNotFoundError\u001b[0m                         Traceback (most recent call last)",
      "Cell \u001b[1;32mIn[13], line 3\u001b[0m\n\u001b[0;32m      1\u001b[0m \u001b[38;5;66;03m## High level file operations\u001b[39;00m\n\u001b[0;32m      2\u001b[0m \u001b[38;5;28;01mimport\u001b[39;00m \u001b[38;5;21;01mshutil\u001b[39;00m\n\u001b[1;32m----> 3\u001b[0m \u001b[43mshutil\u001b[49m\u001b[38;5;241;43m.\u001b[39;49m\u001b[43mcopy\u001b[49m\u001b[43m(\u001b[49m\u001b[38;5;124;43m'\u001b[39;49m\u001b[38;5;124;43msource.txt\u001b[39;49m\u001b[38;5;124;43m'\u001b[39;49m\u001b[43m,\u001b[49m\u001b[43m \u001b[49m\u001b[38;5;124;43m'\u001b[39;49m\u001b[38;5;124;43mdestination.txt\u001b[39;49m\u001b[38;5;124;43m'\u001b[39;49m\u001b[43m)\u001b[49m  \u001b[38;5;66;03m# Copy file\u001b[39;00m\n\u001b[0;32m      4\u001b[0m shutil\u001b[38;5;241m.\u001b[39mmove(\u001b[38;5;124m'\u001b[39m\u001b[38;5;124msource.txt\u001b[39m\u001b[38;5;124m'\u001b[39m, \u001b[38;5;124m'\u001b[39m\u001b[38;5;124mdestination.txt\u001b[39m\u001b[38;5;124m'\u001b[39m)  \u001b[38;5;66;03m# Move file\u001b[39;00m\n",
      "File \u001b[1;32mc:\\Users\\allif\\AppData\\Local\\Programs\\Python\\Python39\\lib\\shutil.py:427\u001b[0m, in \u001b[0;36mcopy\u001b[1;34m(src, dst, follow_symlinks)\u001b[0m\n\u001b[0;32m    425\u001b[0m \u001b[38;5;28;01mif\u001b[39;00m os\u001b[38;5;241m.\u001b[39mpath\u001b[38;5;241m.\u001b[39misdir(dst):\n\u001b[0;32m    426\u001b[0m     dst \u001b[38;5;241m=\u001b[39m os\u001b[38;5;241m.\u001b[39mpath\u001b[38;5;241m.\u001b[39mjoin(dst, os\u001b[38;5;241m.\u001b[39mpath\u001b[38;5;241m.\u001b[39mbasename(src))\n\u001b[1;32m--> 427\u001b[0m \u001b[43mcopyfile\u001b[49m\u001b[43m(\u001b[49m\u001b[43msrc\u001b[49m\u001b[43m,\u001b[49m\u001b[43m \u001b[49m\u001b[43mdst\u001b[49m\u001b[43m,\u001b[49m\u001b[43m \u001b[49m\u001b[43mfollow_symlinks\u001b[49m\u001b[38;5;241;43m=\u001b[39;49m\u001b[43mfollow_symlinks\u001b[49m\u001b[43m)\u001b[49m\n\u001b[0;32m    428\u001b[0m copymode(src, dst, follow_symlinks\u001b[38;5;241m=\u001b[39mfollow_symlinks)\n\u001b[0;32m    429\u001b[0m \u001b[38;5;28;01mreturn\u001b[39;00m dst\n",
      "File \u001b[1;32mc:\\Users\\allif\\AppData\\Local\\Programs\\Python\\Python39\\lib\\shutil.py:264\u001b[0m, in \u001b[0;36mcopyfile\u001b[1;34m(src, dst, follow_symlinks)\u001b[0m\n\u001b[0;32m    262\u001b[0m     os\u001b[38;5;241m.\u001b[39msymlink(os\u001b[38;5;241m.\u001b[39mreadlink(src), dst)\n\u001b[0;32m    263\u001b[0m \u001b[38;5;28;01melse\u001b[39;00m:\n\u001b[1;32m--> 264\u001b[0m     \u001b[38;5;28;01mwith\u001b[39;00m \u001b[38;5;28;43mopen\u001b[39;49m\u001b[43m(\u001b[49m\u001b[43msrc\u001b[49m\u001b[43m,\u001b[49m\u001b[43m \u001b[49m\u001b[38;5;124;43m'\u001b[39;49m\u001b[38;5;124;43mrb\u001b[39;49m\u001b[38;5;124;43m'\u001b[39;49m\u001b[43m)\u001b[49m \u001b[38;5;28;01mas\u001b[39;00m fsrc:\n\u001b[0;32m    265\u001b[0m         \u001b[38;5;28;01mtry\u001b[39;00m:\n\u001b[0;32m    266\u001b[0m             \u001b[38;5;28;01mwith\u001b[39;00m \u001b[38;5;28mopen\u001b[39m(dst, \u001b[38;5;124m'\u001b[39m\u001b[38;5;124mwb\u001b[39m\u001b[38;5;124m'\u001b[39m) \u001b[38;5;28;01mas\u001b[39;00m fdst:\n\u001b[0;32m    267\u001b[0m                 \u001b[38;5;66;03m# macOS\u001b[39;00m\n",
      "\u001b[1;31mFileNotFoundError\u001b[0m: [Errno 2] No such file or directory: 'source.txt'"
     ]
    }
   ],
   "source": [
    "## High level file operations\n",
    "import shutil\n",
    "shutil.copy('source.txt', 'destination.txt')  # Copy file\n",
    "shutil.move('source.txt', 'destination.txt')  # Move file"
   ]
  },
  {
   "cell_type": "code",
   "execution_count": 14,
   "id": "70882f4a",
   "metadata": {},
   "outputs": [
    {
     "name": "stdout",
     "output_type": "stream",
     "text": [
      "{\"name\": \"John\", \"age\": 30, \"city\": \"New York\"}\n",
      "<class 'str'>\n"
     ]
    }
   ],
   "source": [
    "##Data Serialization\n",
    "import json \n",
    "data = {'name': 'John', 'age': 30, 'city': 'New York'}\n",
    "json_string = json.dumps(data)  # Convert to JSON string\n",
    "print(json_string)\n",
    "print(type(json_string))"
   ]
  },
  {
   "cell_type": "code",
   "execution_count": 15,
   "id": "a740131e",
   "metadata": {},
   "outputs": [
    {
     "name": "stdout",
     "output_type": "stream",
     "text": [
      "['Name', 'Age', 'City']\n",
      "['John', '30', 'New York']\n",
      "['Anna', '22', 'London']\n",
      "['Mike', '32', 'San Francisco']\n"
     ]
    }
   ],
   "source": [
    "#CSV file operations\n",
    "\n",
    "import csv\n",
    "\n",
    "# Create a CSV file and write data to it\n",
    "with open('data.csv', mode='w', newline='') as file:\n",
    "    writer = csv.writer(file)\n",
    "    writer.writerow(['Name', 'Age', 'City'])\n",
    "    writer.writerow(['John', 30, 'New York'])\n",
    "    writer.writerow(['Anna', 22, 'London'])\n",
    "    writer.writerow(['Mike', 32, 'San Francisco'])\n",
    "\n",
    "# Read data from the CSV file\n",
    "with open('data.csv', mode='r') as file:\n",
    "    reader = csv.reader(file)\n",
    "    for row in reader:\n",
    "        print(row)"
   ]
  },
  {
   "cell_type": "code",
   "execution_count": 16,
   "id": "e2a37e46",
   "metadata": {},
   "outputs": [
    {
     "name": "stdout",
     "output_type": "stream",
     "text": [
      "Current date and time: 2025-05-16 16:54:07.245532\n"
     ]
    }
   ],
   "source": [
    "## date time \n",
    "from datetime import datetime, timedelta\n",
    "\n",
    "now = datetime.now()\n",
    "print(\"Current date and time:\", now)"
   ]
  },
  {
   "cell_type": "code",
   "execution_count": 17,
   "id": "a52f652e",
   "metadata": {},
   "outputs": [
    {
     "name": "stdout",
     "output_type": "stream",
     "text": [
      "2025-05-16 16:57:49.525198\n",
      "Yesterday: 2025-05-15 16:57:49.525198\n"
     ]
    }
   ],
   "source": [
    "## datetime\n",
    "from datetime import datetime, timedelta\n",
    "\n",
    "now = datetime.now()\n",
    "print(now)\n",
    "\n",
    "yesterday = now - timedelta(days=1)\n",
    "print(\"Yesterday:\", yesterday)"
   ]
  },
  {
   "cell_type": "code",
   "execution_count": 18,
   "id": "41556059",
   "metadata": {},
   "outputs": [
    {
     "name": "stdout",
     "output_type": "stream",
     "text": [
      "1747411142.345757\n",
      "1747411144.347065\n"
     ]
    }
   ],
   "source": [
    "import time\n",
    "print(time.time())  # Current time in seconds since epoch\n",
    "time.sleep(2)  # Sleep for 2 seconds\n",
    "print(time.time())  # Current time in seconds since epoch"
   ]
  },
  {
   "cell_type": "code",
   "execution_count": 19,
   "id": "e52b17d4",
   "metadata": {},
   "outputs": [
    {
     "name": "stdout",
     "output_type": "stream",
     "text": [
      "Matches: ['123', '456']\n"
     ]
    }
   ],
   "source": [
    "## Regular Expressions\n",
    "import re\n",
    "\n",
    "pattern = r'\\d+'\n",
    "text = \"There are 123 apples and 456 oranges.\"\n",
    "matches = re.findall(pattern, text)\n",
    "print(\"Matches:\", matches)"
   ]
  },
  {
   "cell_type": "code",
   "execution_count": 20,
   "id": "a3879a20",
   "metadata": {},
   "outputs": [
    {
     "name": "stdout",
     "output_type": "stream",
     "text": [
      "Deposited: 500\n",
      "Current balance: 1500\n"
     ]
    }
   ],
   "source": [
    "##modelling a bank accoint \n",
    "\n",
    "\n",
    "##defining a class for bank account\n",
    "\n",
    "class BankAccount:\n",
    "    def __init__(self, account_number, balance=0):\n",
    "        self.account_number = account_number\n",
    "        self.balance = balance\n",
    "\n",
    "    def deposit(self, amount):\n",
    "        if amount > 0:\n",
    "            self.balance += amount\n",
    "            print(f\"Deposited: {amount}\")\n",
    "        else:\n",
    "            print(\"Deposit amount must be positive.\")\n",
    "\n",
    "    def withdraw(self, amount):\n",
    "        if 0 < amount <= self.balance:\n",
    "            self.balance -= amount\n",
    "            print(f\"Withdrawn: {amount}\")\n",
    "        else:\n",
    "            print(\"Withdrawal amount exceeds balance or is invalid.\")\n",
    "\n",
    "    def get_balance(self):\n",
    "        return self.balance\n",
    "    \n",
    "## create an account \n",
    "\n",
    "account = BankAccount(\"123456789\", 1000)\n",
    "account.deposit(500)\n",
    "\n",
    "print(\"Current balance:\", account.get_balance())\n"
   ]
  },
  {
   "cell_type": "code",
   "execution_count": 21,
   "id": "bac53d8c",
   "metadata": {},
   "outputs": [
    {
     "name": "stdout",
     "output_type": "stream",
     "text": [
      "Withdrawn: 200\n",
      "Current balance: 1300\n"
     ]
    }
   ],
   "source": [
    "account.withdraw(200)\n",
    "print(\"Current balance:\", account.get_balance())"
   ]
  },
  {
   "cell_type": "markdown",
   "id": "cb1fda32",
   "metadata": {},
   "source": [
    "### Inheritance in Python\n",
    "\n",
    "Inheritance is a fundamental concept in Object-Oriented Programming (OOP) that allows a class to inherit attributes and methods from another class. This covers single inheritance and multiple inheritance, demonstrating how to create and use them in Python.\n"
   ]
  },
  {
   "cell_type": "code",
   "execution_count": 22,
   "id": "7706a2b1",
   "metadata": {},
   "outputs": [],
   "source": [
    "##Inheritance\n",
    "##Parent class\n",
    "\n",
    "class Car:\n",
    "    def __init__(self, windows, doors, enginetype):\n",
    "        self.windows = windows\n",
    "        self.doors = doors\n",
    "        self.enginetype = enginetype    \n",
    "        \n",
    "    def drive(self):\n",
    "        print(\"Driving the car\")"
   ]
  },
  {
   "cell_type": "code",
   "execution_count": 23,
   "id": "97f7a06f",
   "metadata": {},
   "outputs": [
    {
     "name": "stdout",
     "output_type": "stream",
     "text": [
      "Driving the car\n"
     ]
    }
   ],
   "source": [
    "car1 = Car(4, 4, \"V6\")\n",
    "car1.drive()"
   ]
  },
  {
   "cell_type": "code",
   "execution_count": 24,
   "id": "96455dc0",
   "metadata": {},
   "outputs": [],
   "source": [
    "class Tesla(Car):\n",
    "    def __init__(self, windows, doors, enginetype, autopilot):\n",
    "        super().__init__(windows, doors, enginetype)\n",
    "        self.autopilot = autopilot\n",
    "\n",
    "    def drive(self):\n",
    "        print(\"Driving the Tesla with autopilot:\", self.autopilot)"
   ]
  },
  {
   "cell_type": "code",
   "execution_count": 31,
   "id": "1d6ee206",
   "metadata": {},
   "outputs": [
    {
     "name": "stdout",
     "output_type": "stream",
     "text": [
      "Dog's name: Buddy\n",
      "Dog's owner: Alice\n"
     ]
    }
   ],
   "source": [
    "##Multiple Inheritance\n",
    "##when a class inherits from multiple classes\n",
    "## Base class \n",
    "\n",
    "class Animal:\n",
    "    def __init__(self, name):\n",
    "        self.name = name\n",
    "\n",
    "    def speak(self):\n",
    "        print(\"Subclass speak method not implemented\")\n",
    "\n",
    "##BAse class 2\n",
    "class Pet:\n",
    "    def __init__(self, owner):\n",
    "        self.owner = owner\n",
    "\n",
    "## Derived class\n",
    "class Dog(Animal, Pet):\n",
    "    def __init__(self, name, owner):\n",
    "        Animal.__init__(self, name)\n",
    "        Pet.__init__(self, owner)\n",
    "\n",
    "##create an object \n",
    "dog = Dog(\"Buddy\", \"Alice\")\n",
    "print(\"Dog's name:\", dog.name)\n",
    "print(\"Dog's owner:\", dog.owner)\n"
   ]
  },
  {
   "cell_type": "markdown",
   "id": "b22f0f76",
   "metadata": {},
   "source": [
    "### Polymorphism\n",
    "\n",
    "Polymorphism is a core concept in Object-Oriented Programming (OOP) that allows objects of different classes to be treated as objects of a common superclass. It provides a way to perform a single action in different forms. Polymorphism is typically achieved through method overriding and interfaces.  \n"
   ]
  },
  {
   "cell_type": "markdown",
   "id": "bfc80bd5",
   "metadata": {},
   "source": [
    "### Method Overriding\n",
    "\n",
    "Method overriding allows a child class to provide a specific implementation of a method that is already defined in its parent class.\n"
   ]
  },
  {
   "cell_type": "code",
   "execution_count": 33,
   "id": "35c43cff",
   "metadata": {},
   "outputs": [
    {
     "name": "stdout",
     "output_type": "stream",
     "text": [
      "Woof! Woof!\n",
      "Woof! Woof!\n"
     ]
    }
   ],
   "source": [
    "##Base class\n",
    "\n",
    "class Animal:\n",
    "    def speak(self):\n",
    "        return \"Sound of the animal\"\n",
    "    \n",
    "class Cat(Animal):\n",
    "    def speak(self):\n",
    "        return \"Woof! Woof!\"\n",
    "    \n",
    "dog = Dog()\n",
    "cat = Cat()\n",
    "print(dog.speak())  # Output: Woof! Woof!\n",
    "print(cat.speak())  # Output: Meow! Meow!"
   ]
  },
  {
   "cell_type": "code",
   "execution_count": 34,
   "id": "92308a29",
   "metadata": {},
   "outputs": [
    {
     "ename": "TypeError",
     "evalue": "__init__() takes 2 positional arguments but 3 were given",
     "output_type": "error",
     "traceback": [
      "\u001b[1;31m---------------------------------------------------------------------------\u001b[0m",
      "\u001b[1;31mTypeError\u001b[0m                                 Traceback (most recent call last)",
      "Cell \u001b[1;32mIn[34], line 29\u001b[0m\n\u001b[0;32m     26\u001b[0m \u001b[38;5;28;01mdef\u001b[39;00m \u001b[38;5;21mprint_area\u001b[39m(shape):\n\u001b[0;32m     27\u001b[0m     \u001b[38;5;28mprint\u001b[39m(\u001b[38;5;124m\"\u001b[39m\u001b[38;5;124mArea:\u001b[39m\u001b[38;5;124m\"\u001b[39m, shape\u001b[38;5;241m.\u001b[39marea())\n\u001b[1;32m---> 29\u001b[0m rectangle \u001b[38;5;241m=\u001b[39m \u001b[43mRectangle\u001b[49m\u001b[43m(\u001b[49m\u001b[38;5;241;43m5\u001b[39;49m\u001b[43m,\u001b[49m\u001b[43m \u001b[49m\u001b[38;5;241;43m10\u001b[39;49m\u001b[43m)\u001b[49m\n\u001b[0;32m     30\u001b[0m circle \u001b[38;5;241m=\u001b[39m Circle(\u001b[38;5;241m7\u001b[39m)\n\u001b[0;32m     32\u001b[0m print_area(rectangle)  \u001b[38;5;66;03m# Output: Area: 50\u001b[39;00m\n",
      "\u001b[1;31mTypeError\u001b[0m: __init__() takes 2 positional arguments but 3 were given"
     ]
    }
   ],
   "source": [
    "### Polymorphism with functions and methods\n",
    "class Shape:\n",
    "    def area(self):\n",
    "        return \"The area of the shape is not defined\"\n",
    "\n",
    "## Derived class\n",
    "class Rectangle(Shape):\n",
    "    def __init__(self, radius):\n",
    "        self.width = width\n",
    "        self.height = height\n",
    "\n",
    "    def area(self):\n",
    "        return 3.14 * self.radius * self.radius\n",
    "    \n",
    "##Derived class 2\n",
    "\n",
    "class Circle(Shape):\n",
    "    def __init__(self, width, height):\n",
    "        self.radius = radius\n",
    "        \n",
    "    def area(self):\n",
    "        return 3.14 * self.radius * self.radius\n",
    "    \n",
    "##functn that demonstrates polymorphism\n",
    "\n",
    "def print_area(shape):\n",
    "    print(\"Area:\", shape.area())\n",
    "    \n",
    "rectangle = Rectangle(5, 10)\n",
    "circle = Circle(7)\n",
    "\n",
    "print_area(rectangle)  # Output: Area: 50\n",
    "print_area(circle)    # Output: Area: 153.86\n",
    "    \n",
    "\n"
   ]
  },
  {
   "cell_type": "markdown",
   "id": "8b219aa9",
   "metadata": {},
   "source": [
    "\n",
    "### Polymorphism\n",
    "\n",
    "Polymorphism is a core concept in Object-Oriented Programming (OOP) that allows objects of different classes to be treated as objects of a common superclass. It provides a way to perform a single action in different forms. Polymorphism is typically achieved through method overriding and interfaces.  \n",
    "\n",
    "### Method Overriding\n",
    "\n",
    "Method overriding allows a child class to provide a specific implementation of a method that is already defined in its parent class.\n"
   ]
  },
  {
   "cell_type": "code",
   "execution_count": 3,
   "id": "5b3afe8c",
   "metadata": {},
   "outputs": [
    {
     "name": "stdout",
     "output_type": "stream",
     "text": [
      "Woof! Woof!\n",
      "Meow! Meow!\n",
      "Woof! Woof!\n"
     ]
    }
   ],
   "source": [
    "#Polymorphism with functions and methods\n",
    "\n",
    "##Base class\n",
    "\n",
    "class Animal:\n",
    "    def speak(self):\n",
    "        return \"Sound of the animal\"\n",
    "    \n",
    "##Derived class\n",
    "class Dog(Animal):\n",
    "    def speak(self):\n",
    "        return \"Woof! Woof!\"\n",
    "    \n",
    "##Derived class 2\n",
    "class Cat(Animal):\n",
    "    def speak(self):\n",
    "        return \"Meow! Meow!\"\n",
    "    \n",
    "    \n",
    "##Function that demonstrates polymorphism\n",
    "def animal_sound(animal):\n",
    "    print(animal.speak())\n",
    "\n",
    "\n",
    "    \n",
    "dog = Dog()\n",
    "cat = Cat()\n",
    "\n",
    "print(dog.speak())  # Output: Woof! Woof!\n",
    "print(cat.speak())  # Output: Meow! Meow!\n",
    "animal_sound(dog)  # Output: Woof! Woof!"
   ]
  },
  {
   "cell_type": "code",
   "execution_count": 4,
   "id": "d9b90bba",
   "metadata": {},
   "outputs": [
    {
     "name": "stdout",
     "output_type": "stream",
     "text": [
      "Area: 50\n",
      "Area: 153.86\n"
     ]
    }
   ],
   "source": [
    "##Polymorphism with functions and methods\n",
    "##Base class\n",
    "\n",
    "class Shape:\n",
    "    def area(self):\n",
    "        return \"The area of the shape is not defined\"\n",
    "    \n",
    "## Derived class\n",
    "class Rectangle(Shape):\n",
    "    def __init__(self, width, height):\n",
    "        self.width = width\n",
    "        self.height = height\n",
    "\n",
    "    def area(self):\n",
    "        return self.width * self.height\n",
    "\n",
    "##Derived class 2\n",
    "class Circle(Shape):\n",
    "    def __init__(self, radius):\n",
    "        self.radius = radius\n",
    "        \n",
    "    def area(self):\n",
    "        return 3.14 * self.radius * self.radius\n",
    "    \n",
    "##Function that demonstrates polymorphism\n",
    "def print_area(shape):\n",
    "    print(\"Area:\", shape.area())\n",
    "\n",
    "\n",
    "rectangle = Rectangle(5, 10)\n",
    "circle = Circle(7)\n",
    "\n",
    "print_area(rectangle)  # Output: Area: 50\n",
    "print_area(circle)    # Output: Area: 153.86"
   ]
  },
  {
   "cell_type": "code",
   "execution_count": 6,
   "id": "db3cdccb",
   "metadata": {},
   "outputs": [
    {
     "name": "stdout",
     "output_type": "stream",
     "text": [
      "Car engine started\n",
      "Bike engine started\n"
     ]
    }
   ],
   "source": [
    "##Polymorphism with Abstract Classes\n",
    "from abc import ABC, abstractmethod\n",
    "\n",
    "#to define an abstract class, we need to import the ABC module\n",
    "#and the abstractmethod decorator from the abc module\n",
    "#Abstract class\n",
    "class Vechile(ABC):\n",
    "    @abstractmethod\n",
    "    def start_engine(self):\n",
    "        pass\n",
    "\n",
    "##Derived class\n",
    "class Car(Vechile):\n",
    "    def start_engine(self):\n",
    "        print(\"Car engine started\")\n",
    "        \n",
    "##Derived class 2\n",
    "class Bike(Vechile):\n",
    "    def start_engine(self):\n",
    "        print(\"Bike engine started\")    \n",
    "        \n",
    "##create an object of car and motorcycle\n",
    "\n",
    "car = Car()\n",
    "bike = Bike()\n",
    "\n",
    "car.start_engine()  # Output: Car engine started\n",
    "bike.start_engine()  # Output: Bike engine started\n"
   ]
  },
  {
   "cell_type": "code",
   "execution_count": 25,
   "id": "406f32b2",
   "metadata": {},
   "outputs": [
    {
     "data": {
      "text/plain": [
       "30"
      ]
     },
     "execution_count": 25,
     "metadata": {},
     "output_type": "execute_result"
    }
   ],
   "source": [
    "##Encapsulation with Getters and Setters Methods\n",
    "### Public, Protected, and Private Attributes\n",
    "\n",
    "class Person:\n",
    "    def __init__(self, name, age, gender):\n",
    "        self.__name = name  # Public attribute\n",
    "        self.__age = age   # Protected attribute\n",
    "        self.gender = gender\n",
    "        \n",
    "def get_name(person):\n",
    "    return person._Person__age  # Accessing private attribute using name mangling\n",
    "\n",
    "person = Person(\"John\", 30, \"Male\")\n",
    "get_name(person)  # Output: John\n",
    "        \n",
    "\n"
   ]
  },
  {
   "cell_type": "code",
   "execution_count": 26,
   "id": "f90655ef",
   "metadata": {},
   "outputs": [
    {
     "data": {
      "text/plain": [
       "['_Person__age',\n",
       " '_Person__name',\n",
       " '__class__',\n",
       " '__delattr__',\n",
       " '__dict__',\n",
       " '__dir__',\n",
       " '__doc__',\n",
       " '__eq__',\n",
       " '__format__',\n",
       " '__ge__',\n",
       " '__getattribute__',\n",
       " '__gt__',\n",
       " '__hash__',\n",
       " '__init__',\n",
       " '__init_subclass__',\n",
       " '__le__',\n",
       " '__lt__',\n",
       " '__module__',\n",
       " '__ne__',\n",
       " '__new__',\n",
       " '__reduce__',\n",
       " '__reduce_ex__',\n",
       " '__repr__',\n",
       " '__setattr__',\n",
       " '__sizeof__',\n",
       " '__str__',\n",
       " '__subclasshook__',\n",
       " '__weakref__',\n",
       " 'gender']"
      ]
     },
     "execution_count": 26,
     "metadata": {},
     "output_type": "execute_result"
    }
   ],
   "source": [
    "dir(person)  # List all attributes and methods of the object"
   ]
  },
  {
   "cell_type": "code",
   "execution_count": 21,
   "id": "3ae9a578",
   "metadata": {},
   "outputs": [
    {
     "data": {
      "text/plain": [
       "['_Person__age',\n",
       " '_Person__name',\n",
       " '__class__',\n",
       " '__delattr__',\n",
       " '__dict__',\n",
       " '__dir__',\n",
       " '__doc__',\n",
       " '__eq__',\n",
       " '__format__',\n",
       " '__ge__',\n",
       " '__getattribute__',\n",
       " '__gt__',\n",
       " '__hash__',\n",
       " '__init__',\n",
       " '__init_subclass__',\n",
       " '__le__',\n",
       " '__lt__',\n",
       " '__module__',\n",
       " '__ne__',\n",
       " '__new__',\n",
       " '__reduce__',\n",
       " '__reduce_ex__',\n",
       " '__repr__',\n",
       " '__setattr__',\n",
       " '__sizeof__',\n",
       " '__str__',\n",
       " '__subclasshook__',\n",
       " '__weakref__',\n",
       " 'gender']"
      ]
     },
     "execution_count": 21,
     "metadata": {},
     "output_type": "execute_result"
    }
   ],
   "source": [
    "##Abstract Base Class\n",
    "person = Person(\"Alice\", 30, \"Male\")\n",
    "dir(person)  # List all attributes and methods of the object"
   ]
  },
  {
   "cell_type": "code",
   "execution_count": 22,
   "id": "10d42e82",
   "metadata": {},
   "outputs": [
    {
     "data": {
      "text/plain": [
       "['_Person__age',\n",
       " '_Person__name',\n",
       " '__class__',\n",
       " '__delattr__',\n",
       " '__dict__',\n",
       " '__dir__',\n",
       " '__doc__',\n",
       " '__eq__',\n",
       " '__format__',\n",
       " '__ge__',\n",
       " '__getattribute__',\n",
       " '__gt__',\n",
       " '__hash__',\n",
       " '__init__',\n",
       " '__init_subclass__',\n",
       " '__le__',\n",
       " '__lt__',\n",
       " '__module__',\n",
       " '__ne__',\n",
       " '__new__',\n",
       " '__reduce__',\n",
       " '__reduce_ex__',\n",
       " '__repr__',\n",
       " '__setattr__',\n",
       " '__sizeof__',\n",
       " '__str__',\n",
       " '__subclasshook__',\n",
       " '__weakref__',\n",
       " 'gender']"
      ]
     },
     "execution_count": 22,
     "metadata": {},
     "output_type": "execute_result"
    }
   ],
   "source": [
    "dir(person)  # List all attributes and methods of the object"
   ]
  },
  {
   "cell_type": "code",
   "execution_count": 30,
   "id": "5484288e",
   "metadata": {},
   "outputs": [
    {
     "name": "stdout",
     "output_type": "stream",
     "text": [
      "Bob\n"
     ]
    }
   ],
   "source": [
    "class Person:\n",
    "    def __init__(self, name, age, gender):\n",
    "        self._name = name  # Public attribute\n",
    "        self.__age = age   # Protected attribute\n",
    "        self.gender = gender\n",
    "        \n",
    "class Employee(Person):\n",
    "    def __init__(self, name, age, gender):\n",
    "        super().__init__(name, age, gender)\n",
    "        \n",
    "employee = Employee(\"Bob\", 25,\"Male\")\n",
    "\n",
    "print(employee._name)  # Output: Bob"
   ]
  },
  {
   "cell_type": "code",
   "execution_count": 31,
   "id": "4d801ad9",
   "metadata": {},
   "outputs": [
    {
     "data": {
      "text/plain": [
       "['_Person__age',\n",
       " '__class__',\n",
       " '__delattr__',\n",
       " '__dict__',\n",
       " '__dir__',\n",
       " '__doc__',\n",
       " '__eq__',\n",
       " '__format__',\n",
       " '__ge__',\n",
       " '__getattribute__',\n",
       " '__gt__',\n",
       " '__hash__',\n",
       " '__init__',\n",
       " '__init_subclass__',\n",
       " '__le__',\n",
       " '__lt__',\n",
       " '__module__',\n",
       " '__ne__',\n",
       " '__new__',\n",
       " '__reduce__',\n",
       " '__reduce_ex__',\n",
       " '__repr__',\n",
       " '__setattr__',\n",
       " '__sizeof__',\n",
       " '__str__',\n",
       " '__subclasshook__',\n",
       " '__weakref__',\n",
       " '_name',\n",
       " 'gender']"
      ]
     },
     "execution_count": 31,
     "metadata": {},
     "output_type": "execute_result"
    }
   ],
   "source": [
    "dir(employee)  # List all attributes and methods of the object"
   ]
  },
  {
   "cell_type": "code",
   "execution_count": 32,
   "id": "8413e517",
   "metadata": {},
   "outputs": [
    {
     "name": "stdout",
     "output_type": "stream",
     "text": [
      "Alice\n",
      "30\n",
      "Bob\n",
      "35\n"
     ]
    }
   ],
   "source": [
    "##encapsulation with getters and setters\n",
    "class Person:\n",
    "    def __init__(self, name, age):\n",
    "        self.__name = name  # Private attribute\n",
    "        self.__age = age    # Private attribute\n",
    "\n",
    "    # Getter for name\n",
    "    def get_name(self):\n",
    "        return self.__name\n",
    "\n",
    "    # Setter for name\n",
    "    def set_name(self, name):\n",
    "        self.__name = name\n",
    "\n",
    "    # Getter for age\n",
    "    def get_age(self):\n",
    "        return self.__age\n",
    "\n",
    "    # Setter for age\n",
    "    def set_age(self, age):\n",
    "        if age > 0:\n",
    "            self.__age = age\n",
    "        else:\n",
    "            print(\"Age must be positive.\")\n",
    "            \n",
    "person = Person(\"Alice\", 30)\n",
    "\n",
    "print(person.get_name())  # Output: Alice\n",
    "print(person.get_age())   # Output: 30\n",
    "\n",
    "person.set_name(\"Bob\")\n",
    "print(person.get_name())  # Output: Bob\n",
    "\n",
    "person.set_age(35)\n",
    "print(person.get_age())   # Output: 35\n",
    "\n"
   ]
  },
  {
   "cell_type": "code",
   "execution_count": null,
   "id": "4ff0991b",
   "metadata": {},
   "outputs": [
    {
     "name": "stdout",
     "output_type": "stream",
     "text": [
      "Driving the vehicle\n",
      "Car engine started\n"
     ]
    }
   ],
   "source": [
    "##Abstract Base Class\n",
    "##Abstraction is a concept of hiding the complex implementation details and showing only the essential features of the object.\n",
    "##Abstract Base Class\n",
    "from abc import ABC, abstractmethod\n",
    "\n",
    "class Vechile(ABC):\n",
    "    def drive(self):\n",
    "        print(\"Driving the vehicle\")\n",
    "        \n",
    "    @abstractmethod\n",
    "    def start_engine(self):\n",
    "        pass\n",
    "    \n",
    "class Car(Vechile):\n",
    "    def start_engine(self):\n",
    "        print(\"Car engine started\")\n",
    "        \n",
    "def operate_vehicle(vehicle):\n",
    "    vehicle.drive()\n",
    "    vehicle.start_engine()\n",
    "\n",
    "\n",
    "car = Car()\n",
    "operate_vehicle(car)  # Output: Driving the vehicle\n",
    "                       #         Car engine started"
   ]
  },
  {
   "cell_type": "code",
   "execution_count": 36,
   "id": "4ac9ffae",
   "metadata": {},
   "outputs": [
    {
     "data": {
      "text/plain": [
       "'\\n__init__ is a constructor method that is called when an object is created.\\n__str__ is a method that is called when we use the str() function on an object or when we print the object.\\n__repr__ is a method that is called when we use the repr() function on an object.   \\n__add__ is a method that is called when we use the + operator on two objects.\\n__sub__ is a method that is called when we use the - operator on two objects.\\n__mul__ is a method that is called when we use the * operator on two objects.\\n__truediv__ is a method that is called when we use the / operator on two objects.\\n__floordiv__ is a method that is called when we use the // operator on two objects.\\n__mod__ is a method that is called when we use the % operator on two objects.\\n__pow__ is a method that is called when we use the ** operator on two objects.\\n__lt__ is a method that is called when we use the < operator on two objects.\\n__le__ is a method that is called when we use the <= operator on two objects.\\n__eq__ is a method that is called when we use the == operator on two objects.\\n__ne__ is a method that is called when we use the != operator on two objects.\\n__gt__ is a method that is called when we use the > operator on two objects.\\n__ge__ is a method that is called when we use the >= operator on two objects.\\n__len__ is a method that is called when we use the len() function on an object.\\n__getitem__ is a method that is called when we use the [] operator on an object.\\n__setitem__ is a method that is called when we use the [] operator on an object to set a value.\\n__delitem__ is a method that is called when we use the del operator on an object.\\n__iter__ is a method that is called when we use the iter() function on an object.\\n__next__ is a method that is called when we use the next() function on an object.\\n__contains__ is a method that is called when we use the in operator on an object.\\n__call__ is a method that is called when we use the () operator on an object.\\n__enter__ is a method that is called when we use the with statement on an object.\\n'"
      ]
     },
     "execution_count": 36,
     "metadata": {},
     "output_type": "execute_result"
    }
   ],
   "source": [
    "##Magic methods\n",
    "#magic methods are special methods in Python that start and end with double underscores.\n",
    "#They are also known as dunder methods.\n",
    "#Magic methods allow us to define the behavior of objects for built-in operations such as addition, subtraction, and string representation.\n",
    "\n",
    "'''\n",
    "__init__ is a constructor method that is called when an object is created.\n",
    "__str__ is a method that is called when we use the str() function on an object or when we print the object.\n",
    "__repr__ is a method that is called when we use the repr() function on an object.   \n",
    "__add__ is a method that is called when we use the + operator on two objects.\n",
    "__sub__ is a method that is called when we use the - operator on two objects.\n",
    "__mul__ is a method that is called when we use the * operator on two objects.\n",
    "__truediv__ is a method that is called when we use the / operator on two objects.\n",
    "__floordiv__ is a method that is called when we use the // operator on two objects.\n",
    "__mod__ is a method that is called when we use the % operator on two objects.\n",
    "__pow__ is a method that is called when we use the ** operator on two objects.\n",
    "__lt__ is a method that is called when we use the < operator on two objects.\n",
    "__le__ is a method that is called when we use the <= operator on two objects.\n",
    "__eq__ is a method that is called when we use the == operator on two objects.\n",
    "__ne__ is a method that is called when we use the != operator on two objects.\n",
    "__gt__ is a method that is called when we use the > operator on two objects.\n",
    "__ge__ is a method that is called when we use the >= operator on two objects.\n",
    "__len__ is a method that is called when we use the len() function on an object.\n",
    "__getitem__ is a method that is called when we use the [] operator on an object.\n",
    "__setitem__ is a method that is called when we use the [] operator on an object to set a value.\n",
    "__delitem__ is a method that is called when we use the del operator on an object.\n",
    "__iter__ is a method that is called when we use the iter() function on an object.\n",
    "__next__ is a method that is called when we use the next() function on an object.\n",
    "__contains__ is a method that is called when we use the in operator on an object.\n",
    "__call__ is a method that is called when we use the () operator on an object.\n",
    "__enter__ is a method that is called when we use the with statement on an object.\n",
    "'''\n"
   ]
  },
  {
   "cell_type": "code",
   "execution_count": 37,
   "id": "86123702",
   "metadata": {},
   "outputs": [
    {
     "data": {
      "text/plain": [
       "['__class__',\n",
       " '__delattr__',\n",
       " '__dict__',\n",
       " '__dir__',\n",
       " '__doc__',\n",
       " '__eq__',\n",
       " '__format__',\n",
       " '__ge__',\n",
       " '__getattribute__',\n",
       " '__gt__',\n",
       " '__hash__',\n",
       " '__init__',\n",
       " '__init_subclass__',\n",
       " '__le__',\n",
       " '__lt__',\n",
       " '__module__',\n",
       " '__ne__',\n",
       " '__new__',\n",
       " '__reduce__',\n",
       " '__reduce_ex__',\n",
       " '__repr__',\n",
       " '__setattr__',\n",
       " '__sizeof__',\n",
       " '__str__',\n",
       " '__subclasshook__',\n",
       " '__weakref__']"
      ]
     },
     "execution_count": 37,
     "metadata": {},
     "output_type": "execute_result"
    }
   ],
   "source": [
    "class Person:\n",
    "    pass\n",
    "\n",
    "person = Person()\n",
    "dir(person)  # List all attributes and methods of the object"
   ]
  },
  {
   "cell_type": "code",
   "execution_count": 39,
   "id": "9d954dba",
   "metadata": {},
   "outputs": [
    {
     "name": "stdout",
     "output_type": "stream",
     "text": [
      "Alice\n",
      "30\n",
      "{'name': 'Alice', 'age': 30}\n",
      "<class '__main__.Person'>\n"
     ]
    }
   ],
   "source": [
    "##basic methods\n",
    "class Person:\n",
    "    def __init__(self, name, age):\n",
    "        self.name = name\n",
    "        self.age = age\n",
    "person = Person(\"Alice\", 30)\n",
    "print(person.name)  # Output: Alice\n",
    "print(person.age)   # Output: 30\n",
    "print(person.__dict__)  # Output: {'name': 'Alice', 'age': 30}\n",
    "print(person.__class__)  # Output: <class '__main__.Person'>\n",
    "\n",
    "    "
   ]
  },
  {
   "cell_type": "code",
   "execution_count": 41,
   "id": "6f75248b",
   "metadata": {},
   "outputs": [
    {
     "name": "stdout",
     "output_type": "stream",
     "text": [
      "Person(name=Alice, 30 years old\n",
      "Person(Alice, age=30)\n"
     ]
    }
   ],
   "source": [
    "##basic methods\n",
    "class Person:\n",
    "    def __init__(self, name, age):\n",
    "        self.name = name\n",
    "        self.age = age\n",
    "\n",
    "    def __str__(self):\n",
    "        return f\"Person(name={self.name}, {self.age} years old\"\n",
    "\n",
    "    def __repr__(self):\n",
    "        return f\"Person({self.name}, age={self.age})\"\n",
    "\n",
    "person = Person(\"Alice\", 30)\n",
    "print(str(person))  # Output: Person(name=Alice, age=30)\n",
    "print(repr(person))  # Output: Person(Alice, age=30)"
   ]
  },
  {
   "cell_type": "code",
   "execution_count": 42,
   "id": "315bd695",
   "metadata": {},
   "outputs": [],
   "source": [
    "##Custom Exception (Raise  and throw an exception)\n",
    "class CustomError(Exception):\n",
    "    pass\n",
    "\n",
    "class dobException(Exception):\n",
    "    pass\n"
   ]
  },
  {
   "cell_type": "markdown",
   "id": "6a40da42",
   "metadata": {},
   "source": [
    "Custom Exception"
   ]
  },
  {
   "cell_type": "code",
   "execution_count": 46,
   "id": "a6c00304",
   "metadata": {},
   "outputs": [
    {
     "name": "stdout",
     "output_type": "stream",
     "text": [
      "You are not eligible to vote\n"
     ]
    }
   ],
   "source": [
    "year = int(input(\"Enter your year of birth: \"))\n",
    "age = 2023 - year\n",
    "\n",
    "try:\n",
    "   if age <=30 and age<=20:\n",
    "    print(\"You are eligible to vote\")\n",
    "   else:\n",
    "    raise dobException\n",
    "\n",
    "except dobException:\n",
    "    print(\"You are not eligible to vote\")\n",
    "\n"
   ]
  },
  {
   "cell_type": "markdown",
   "id": "bd964e9e",
   "metadata": {},
   "source": [
    "Operator Overloading in Python"
   ]
  },
  {
   "cell_type": "code",
   "execution_count": 47,
   "id": "6feecd7a",
   "metadata": {},
   "outputs": [
    {
     "name": "stdout",
     "output_type": "stream",
     "text": [
      "Vector(6, 8)\n",
      "Vector(-2, -2)\n",
      "Vector(4, 6)\n"
     ]
    }
   ],
   "source": [
    "class Vector:\n",
    "    def __init__(self, x, y):\n",
    "        self.x = x\n",
    "        self.y = y\n",
    "\n",
    "    def __add__(self, other):\n",
    "        return Vector(self.x + other.x, self.y + other.y)\n",
    "\n",
    "    def __sub__(self, other):\n",
    "        return Vector(self.x - other.x, self.y - other.y)\n",
    "\n",
    "    def __mul__(self, scalar):\n",
    "        return Vector(self.x * scalar, self.y * scalar)\n",
    "\n",
    "    def __str__(self):\n",
    "        return f\"Vector({self.x}, {self.y})\"    \n",
    "\n",
    "##create two vector objects\n",
    "v1 = Vector(2, 3)\n",
    "v2 = Vector(4, 5)\n",
    "v3 = v1 + v2\n",
    "v4 = v1 - v2\n",
    "v5 = v1 * 2\n",
    "print(v3)  # Output: Vector(6, 8)\n",
    "print(v4)  # Output: Vector(-2, -2) \n",
    "print(v5)  # Output: Vector(4, 6)\n",
    "\n"
   ]
  },
  {
   "cell_type": "code",
   "execution_count": 1,
   "id": "fe50c755",
   "metadata": {},
   "outputs": [
    {
     "name": "stdout",
     "output_type": "stream",
     "text": [
      "6 + 8i\n",
      "-2 + -2i\n",
      "4 + 6i\n",
      "2 + 3i\n",
      "4 + 5i\n",
      "ComplexNumber(2, 3)\n",
      "ComplexNumber(4, 5)\n"
     ]
    }
   ],
   "source": [
    "## Overloading Operators for complex numbers\n",
    "\n",
    "\n",
    "class ComplexNumber:\n",
    "    def __init__(self, real, imag):\n",
    "        self.real = real\n",
    "        self.imag = imag\n",
    "\n",
    "    def __add__(self, other):\n",
    "        return ComplexNumber(self.real + other.real, self.imag + other.imag)\n",
    "\n",
    "    def __sub__(self, other):\n",
    "        return ComplexNumber(self.real - other.real, self.imag - other.imag)\n",
    "\n",
    "    def __mul__(self, scalar):\n",
    "        return ComplexNumber(self.real * scalar, self.imag * scalar)\n",
    "\n",
    "    def __str__(self):\n",
    "        return f\"{self.real} + {self.imag}i\"\n",
    "    \n",
    "    def __repr__(self):\n",
    "        return f\"ComplexNumber({self.real}, {self.imag})\"\n",
    "    \n",
    "##create two complex number objects\n",
    "c1 = ComplexNumber(2, 3)\n",
    "c2 = ComplexNumber(4, 5)\n",
    "\n",
    "#use the overloaded operators\n",
    "print(c1 + c2)  # Output: 6 + 8i\n",
    "print(c1 - c2)  # Output: -2 - 2i   \n",
    "print(c1 * 2)   # Output: 4 + 6i\n",
    "print(c1)  # Output: 2 + 3i\n",
    "print(c2)  # Output: 4 + 5i\n",
    "print(c1.__repr__())  # Output: ComplexNumber(2, 3)\n",
    "print(c2.__repr__())  # Output: ComplexNumber(4, 5)"
   ]
  },
  {
   "cell_type": "code",
   "execution_count": 2,
   "id": "6616be0f",
   "metadata": {},
   "outputs": [
    {
     "name": "stdout",
     "output_type": "stream",
     "text": [
      "1\n",
      "2\n",
      "3\n",
      "4\n",
      "5\n"
     ]
    }
   ],
   "source": [
    "my_list = [1, 2, 3, 4, 5]\n",
    "for i in my_list:\n",
    "    print(i)"
   ]
  },
  {
   "cell_type": "code",
   "execution_count": 3,
   "id": "b8442bc2",
   "metadata": {},
   "outputs": [
    {
     "data": {
      "text/plain": [
       "list"
      ]
     },
     "execution_count": 3,
     "metadata": {},
     "output_type": "execute_result"
    }
   ],
   "source": [
    "type(my_list)  # Output: <class 'list'>"
   ]
  },
  {
   "cell_type": "code",
   "execution_count": 4,
   "id": "af682f45",
   "metadata": {},
   "outputs": [
    {
     "name": "stdout",
     "output_type": "stream",
     "text": [
      "[1, 2, 3, 4, 5]\n"
     ]
    }
   ],
   "source": [
    "print(my_list)  # Output: 1"
   ]
  },
  {
   "cell_type": "code",
   "execution_count": 6,
   "id": "9af6b1ae",
   "metadata": {},
   "outputs": [
    {
     "name": "stdout",
     "output_type": "stream",
     "text": [
      "<class 'list_iterator'>\n"
     ]
    }
   ],
   "source": [
    "##iterators\n",
    "\n",
    "iterator = iter(my_list)\n",
    "print(type(iterator))  # Output: 1"
   ]
  },
  {
   "cell_type": "code",
   "execution_count": 7,
   "id": "1a1f4b72",
   "metadata": {},
   "outputs": [
    {
     "data": {
      "text/plain": [
       "<list_iterator at 0x1eb97a57700>"
      ]
     },
     "execution_count": 7,
     "metadata": {},
     "output_type": "execute_result"
    }
   ],
   "source": [
    "iterator "
   ]
  },
  {
   "cell_type": "code",
   "execution_count": 8,
   "id": "dda3abfd",
   "metadata": {},
   "outputs": [
    {
     "data": {
      "text/plain": [
       "1"
      ]
     },
     "execution_count": 8,
     "metadata": {},
     "output_type": "execute_result"
    }
   ],
   "source": [
    "##Iterators\n",
    "next(iterator)  # Output: 1\n"
   ]
  },
  {
   "cell_type": "code",
   "execution_count": 9,
   "id": "dbc7258d",
   "metadata": {},
   "outputs": [
    {
     "data": {
      "text/plain": [
       "<list_iterator at 0x1eb97a57700>"
      ]
     },
     "execution_count": 9,
     "metadata": {},
     "output_type": "execute_result"
    }
   ],
   "source": [
    "iterator"
   ]
  },
  {
   "cell_type": "code",
   "execution_count": 10,
   "id": "ca08ab8c",
   "metadata": {},
   "outputs": [],
   "source": [
    "iterator = iter(my_list)"
   ]
  },
  {
   "cell_type": "code",
   "execution_count": null,
   "id": "782970f5",
   "metadata": {},
   "outputs": [
    {
     "name": "stdout",
     "output_type": "stream",
     "text": [
      "1\n"
     ]
    }
   ],
   "source": [
    "try:\n",
    "    print(next(iterator))\n",
    "except StopIteration:\n",
    "    print(\"End of iterator\")"
   ]
  },
  {
   "cell_type": "code",
   "execution_count": 12,
   "id": "6a2b2774",
   "metadata": {},
   "outputs": [
    {
     "name": "stdout",
     "output_type": "stream",
     "text": [
      "H\n",
      "e\n"
     ]
    }
   ],
   "source": [
    "my_string = \"Hello, World!\"\n",
    "string_iterator = iter(my_string)\n",
    "\n",
    "print(next(string_iterator))  # Output: H\n",
    "print(next(string_iterator))  # Output: e\n"
   ]
  },
  {
   "cell_type": "code",
   "execution_count": 13,
   "id": "c3eb497d",
   "metadata": {},
   "outputs": [],
   "source": [
    "##Generators\n",
    "\n",
    "def squares(n):\n",
    "    for i in range(3):\n",
    "        return i **2"
   ]
  },
  {
   "cell_type": "code",
   "execution_count": 16,
   "id": "cbac200b",
   "metadata": {},
   "outputs": [
    {
     "data": {
      "text/plain": [
       "0"
      ]
     },
     "execution_count": 16,
     "metadata": {},
     "output_type": "execute_result"
    }
   ],
   "source": [
    "squares(16)"
   ]
  },
  {
   "cell_type": "code",
   "execution_count": 20,
   "id": "b52e50f3",
   "metadata": {},
   "outputs": [],
   "source": [
    "##Generators\n",
    "\n",
    "def squares(n):\n",
    "    for i in range(3):\n",
    "        yield i **2"
   ]
  },
  {
   "cell_type": "code",
   "execution_count": 21,
   "id": "3d349a19",
   "metadata": {},
   "outputs": [
    {
     "name": "stdout",
     "output_type": "stream",
     "text": [
      "0\n",
      "1\n",
      "4\n"
     ]
    }
   ],
   "source": [
    "for i in squares(16):\n",
    "    print(i)"
   ]
  },
  {
   "cell_type": "code",
   "execution_count": 22,
   "id": "2e1a81c6",
   "metadata": {},
   "outputs": [
    {
     "data": {
      "text/plain": [
       "<generator object squares at 0x000001EB98EE76D0>"
      ]
     },
     "execution_count": 22,
     "metadata": {},
     "output_type": "execute_result"
    }
   ],
   "source": [
    "a = squares(16)\n",
    "a"
   ]
  },
  {
   "cell_type": "code",
   "execution_count": 23,
   "id": "c28a488c",
   "metadata": {},
   "outputs": [
    {
     "data": {
      "text/plain": [
       "0"
      ]
     },
     "execution_count": 23,
     "metadata": {},
     "output_type": "execute_result"
    }
   ],
   "source": [
    "next(a)  # Output: 0"
   ]
  },
  {
   "cell_type": "code",
   "execution_count": 24,
   "id": "34fb13ae",
   "metadata": {},
   "outputs": [],
   "source": [
    "def my_generator():\n",
    "    yield 1\n",
    "    yield 2\n",
    "    yield 3 "
   ]
  },
  {
   "cell_type": "code",
   "execution_count": 25,
   "id": "59d41d07",
   "metadata": {},
   "outputs": [
    {
     "data": {
      "text/plain": [
       "<generator object my_generator at 0x000001EB98F08200>"
      ]
     },
     "execution_count": 25,
     "metadata": {},
     "output_type": "execute_result"
    }
   ],
   "source": [
    "gen = my_generator()\n",
    "gen"
   ]
  },
  {
   "cell_type": "code",
   "execution_count": 26,
   "id": "8d00b96a",
   "metadata": {},
   "outputs": [
    {
     "data": {
      "text/plain": [
       "1"
      ]
     },
     "execution_count": 26,
     "metadata": {},
     "output_type": "execute_result"
    }
   ],
   "source": [
    "next(gen)"
   ]
  },
  {
   "cell_type": "code",
   "execution_count": null,
   "id": "893c55f8",
   "metadata": {},
   "outputs": [
    {
     "name": "stdout",
     "output_type": "stream",
     "text": [
      "2\n",
      "3\n"
     ]
    }
   ],
   "source": [
    "for val in gen:\n",
    "    print(val)  # Output: 2, 3"
   ]
  },
  {
   "cell_type": "code",
   "execution_count": 28,
   "id": "41839a7f",
   "metadata": {},
   "outputs": [],
   "source": [
    "##Practical: Reading Large Files\n",
    "\n",
    "def read_large_file(file_path):\n",
    "    with open(file_path, 'r') as file:\n",
    "        for line in file:\n",
    "            yield line"
   ]
  },
  {
   "cell_type": "code",
   "execution_count": 29,
   "id": "60fc12c6",
   "metadata": {},
   "outputs": [],
   "source": [
    "file_path = 'large_file.txt'\n",
    "\n",
    "for line in read_large_file(file_path):\n",
    "    print(line.strip())"
   ]
  },
  {
   "cell_type": "markdown",
   "id": "91d8eaa2",
   "metadata": {},
   "source": [
    "### Decorators\n",
    "\n",
    "Decorators are a powerful and flexible feature in Python that allows you to modify the behavior of a function or class method. They are commonly used to add functionality to functions or methods without modifying their actual code. This session covers the basics of decorators, including how to create and use them.\n"
   ]
  },
  {
   "cell_type": "code",
   "execution_count": null,
   "id": "51d98fe3",
   "metadata": {},
   "outputs": [],
   "source": [
    "\n",
    "### Function copy\n",
    "### closures\n",
    "### decorators"
   ]
  },
  {
   "cell_type": "code",
   "execution_count": 30,
   "id": "30dbeb7a",
   "metadata": {},
   "outputs": [
    {
     "name": "stdout",
     "output_type": "stream",
     "text": [
      "Welcome to Python programming!\n"
     ]
    }
   ],
   "source": [
    "##Function Copy\n",
    "\n",
    "def welcome():\n",
    "    print(\"Welcome to Python programming!\")\n",
    "\n",
    "welcome()"
   ]
  },
  {
   "cell_type": "code",
   "execution_count": 32,
   "id": "7651b93e",
   "metadata": {},
   "outputs": [
    {
     "data": {
      "text/plain": [
       "<function __main__.welcome()>"
      ]
     },
     "execution_count": 32,
     "metadata": {},
     "output_type": "execute_result"
    }
   ],
   "source": [
    "wel=welcome\n",
    "wel"
   ]
  },
  {
   "cell_type": "code",
   "execution_count": 33,
   "id": "74bdec73",
   "metadata": {},
   "outputs": [
    {
     "name": "stdout",
     "output_type": "stream",
     "text": [
      "Welcome to Python programming!\n"
     ]
    }
   ],
   "source": [
    "wel=welcome\n",
    "wel()"
   ]
  },
  {
   "cell_type": "code",
   "execution_count": 37,
   "id": "2a9d446d",
   "metadata": {},
   "outputs": [
    {
     "name": "stdout",
     "output_type": "stream",
     "text": [
      "Welcome to Python programming!\n",
      "Welcome to Python programming!\n",
      "None\n",
      "Welcome to Python programming!\n",
      "None\n"
     ]
    }
   ],
   "source": [
    "def welcome():\n",
    "    print(\"Welcome to Python programming!\")\n",
    "\n",
    "welcome()\n",
    "\n",
    "\n",
    "wel=welcome\n",
    "print(wel())\n",
    "del welcome\n",
    "print(wel()) "
   ]
  },
  {
   "cell_type": "code",
   "execution_count": 44,
   "id": "c4fe5661",
   "metadata": {},
   "outputs": [],
   "source": [
    "##closures\n",
    "\n",
    "def main_welcome(message):\n",
    "\n",
    "    def sub_welcome_method():\n",
    "        print(\"Welcome to Python programming!\")\n",
    "        print(message)\n",
    "    \n",
    "        print(\"Please learn these concepts properly\")        \n",
    "    return sub_welcome_method()"
   ]
  },
  {
   "cell_type": "code",
   "execution_count": 45,
   "id": "c1b62ccb",
   "metadata": {},
   "outputs": [
    {
     "name": "stdout",
     "output_type": "stream",
     "text": [
      "Welcome to Python programming!\n",
      "Welcome Everyone!\n",
      "Please learn these concepts properly\n"
     ]
    }
   ],
   "source": [
    "main_welcome(\"Welcome Everyone!\")"
   ]
  },
  {
   "cell_type": "code",
   "execution_count": 48,
   "id": "0f7e5760",
   "metadata": {},
   "outputs": [],
   "source": [
    "def main_welcome(func):\n",
    "    \n",
    "    def sub_welcome_method():\n",
    "        print(\"Welcome to Python programming!\")\n",
    "        func()\n",
    "    \n",
    "        print(\"Please learn these concepts properly\")        \n",
    "    return sub_welcome_method()"
   ]
  },
  {
   "cell_type": "code",
   "execution_count": 50,
   "id": "9f905358",
   "metadata": {},
   "outputs": [
    {
     "name": "stdout",
     "output_type": "stream",
     "text": [
      "Welcome to Python programming!\n",
      "\n",
      "Please learn these concepts properly\n"
     ]
    }
   ],
   "source": [
    "main_welcome(print)"
   ]
  },
  {
   "cell_type": "code",
   "execution_count": 54,
   "id": "cbf1064a",
   "metadata": {},
   "outputs": [],
   "source": [
    "def main_welcome(func,lst):\n",
    "    \n",
    "    def sub_welcome_method():\n",
    "        print(\"Welcome to Python programming!\")\n",
    "        print(func(lst))\n",
    "    \n",
    "        print(\"Please learn these concepts properly\")        \n",
    "    return sub_welcome_method()"
   ]
  },
  {
   "cell_type": "code",
   "execution_count": 56,
   "id": "a4e81331",
   "metadata": {},
   "outputs": [
    {
     "name": "stdout",
     "output_type": "stream",
     "text": [
      "Welcome to Python programming!\n",
      "5\n",
      "Please learn these concepts properly\n"
     ]
    }
   ],
   "source": [
    "main_welcome(len,[1, 2, 3, 4, 5])"
   ]
  },
  {
   "cell_type": "code",
   "execution_count": 57,
   "id": "15464c17",
   "metadata": {},
   "outputs": [
    {
     "data": {
      "text/plain": [
       "5"
      ]
     },
     "execution_count": 57,
     "metadata": {},
     "output_type": "execute_result"
    }
   ],
   "source": [
    "len([1, 2, 3, 4, 5])  # Output: 5"
   ]
  },
  {
   "cell_type": "code",
   "execution_count": 58,
   "id": "3c89c9a2",
   "metadata": {},
   "outputs": [],
   "source": [
    "##Decorators\n",
    "\n",
    "def main_welcome(func):\n",
    "    def sub_welcome_method():\n",
    "        print(\"Welcome to Python programming!\")\n",
    "        func()\n",
    "    \n",
    "        print(\"Please learn these concepts properly\")        \n",
    "    return sub_welcome_method()"
   ]
  },
  {
   "cell_type": "code",
   "execution_count": 59,
   "id": "c81132ae",
   "metadata": {},
   "outputs": [
    {
     "name": "stdout",
     "output_type": "stream",
     "text": [
      "This is a Python programming course.\n"
     ]
    }
   ],
   "source": [
    "def course_introduction():\n",
    "    print(\"This is a Python programming course.\")\n",
    "    \n",
    "course_introduction()"
   ]
  },
  {
   "cell_type": "code",
   "execution_count": 60,
   "id": "2b7d540c",
   "metadata": {},
   "outputs": [
    {
     "name": "stdout",
     "output_type": "stream",
     "text": [
      "Welcome to Python programming!\n",
      "This is a Python programming course.\n",
      "Please learn these concepts properly\n"
     ]
    }
   ],
   "source": [
    "main_welcome(course_introduction)"
   ]
  },
  {
   "cell_type": "code",
   "execution_count": 61,
   "id": "7e123b3e",
   "metadata": {},
   "outputs": [
    {
     "name": "stdout",
     "output_type": "stream",
     "text": [
      "Welcome to Python programming!\n",
      "This is a Python programming course.\n",
      "Please learn these concepts properly\n"
     ]
    }
   ],
   "source": [
    "@main_welcome\n",
    "def course_introduction():\n",
    "    print(\"This is a Python programming course.\")"
   ]
  },
  {
   "cell_type": "code",
   "execution_count": 62,
   "id": "7c9a9032",
   "metadata": {},
   "outputs": [],
   "source": [
    "##decorators with arguments\n",
    "\n",
    "def my_decorator(func):\n",
    "    def wrapper(*args, **kwargs):\n",
    "        print(\"Before function call\")\n",
    "        func()\n",
    "        print(\"After function call\")\n",
    "        \n",
    "    return result"
   ]
  },
  {
   "cell_type": "code",
   "execution_count": 65,
   "id": "218f3e36",
   "metadata": {},
   "outputs": [],
   "source": [
    "##decorators with arguments\n",
    "\n",
    "def my_decorator(func):\n",
    "    def wrapper(*args, **kwargs):\n",
    "        print(\"Before function call\")\n",
    "        func()\n",
    "        print(\"After function call\")\n",
    "        \n",
    "    return wrapper"
   ]
  },
  {
   "cell_type": "code",
   "execution_count": null,
   "id": "df7ed504",
   "metadata": {},
   "outputs": [],
   "source": [
    "@my_decorator\n",
    "def say_hello():\n",
    "    print(\"Hello, World!\")"
   ]
  },
  {
   "cell_type": "code",
   "execution_count": 67,
   "id": "ed8241bd",
   "metadata": {},
   "outputs": [
    {
     "name": "stdout",
     "output_type": "stream",
     "text": [
      "Before function call\n",
      "Hello, World!\n",
      "After function call\n"
     ]
    }
   ],
   "source": [
    "say_hello()  # Output: Before function call"
   ]
  },
  {
   "cell_type": "code",
   "execution_count": 68,
   "id": "92754623",
   "metadata": {},
   "outputs": [],
   "source": [
    "##Decorators with arguments\n",
    "def repeat(n):\n",
    "    def decorator(func):\n",
    "        def wrapper(*args, **kwargs):\n",
    "            for _ in range(n):\n",
    "                func(*args, **kwargs)\n",
    "        return wrapper\n",
    "    return decorator"
   ]
  },
  {
   "cell_type": "code",
   "execution_count": 71,
   "id": "6331cd8e",
   "metadata": {},
   "outputs": [],
   "source": [
    "@repeat(3)\n",
    "def say_hello(name):\n",
    "    print(f\"Hello, {name}!\")"
   ]
  },
  {
   "cell_type": "code",
   "execution_count": 72,
   "id": "846f9db8",
   "metadata": {},
   "outputs": [
    {
     "ename": "TypeError",
     "evalue": "say_hello() missing 1 required positional argument: 'name'",
     "output_type": "error",
     "traceback": [
      "\u001b[1;31m---------------------------------------------------------------------------\u001b[0m",
      "\u001b[1;31mTypeError\u001b[0m                                 Traceback (most recent call last)",
      "Cell \u001b[1;32mIn[72], line 1\u001b[0m\n\u001b[1;32m----> 1\u001b[0m \u001b[43msay_hello\u001b[49m\u001b[43m(\u001b[49m\u001b[43m)\u001b[49m  \u001b[38;5;66;03m# Output: Before function call\u001b[39;00m\n",
      "Cell \u001b[1;32mIn[68], line 6\u001b[0m, in \u001b[0;36mrepeat.<locals>.decorator.<locals>.wrapper\u001b[1;34m(*args, **kwargs)\u001b[0m\n\u001b[0;32m      4\u001b[0m \u001b[38;5;28;01mdef\u001b[39;00m \u001b[38;5;21mwrapper\u001b[39m(\u001b[38;5;241m*\u001b[39margs, \u001b[38;5;241m*\u001b[39m\u001b[38;5;241m*\u001b[39mkwargs):\n\u001b[0;32m      5\u001b[0m     \u001b[38;5;28;01mfor\u001b[39;00m _ \u001b[38;5;129;01min\u001b[39;00m \u001b[38;5;28mrange\u001b[39m(n):\n\u001b[1;32m----> 6\u001b[0m         func(\u001b[38;5;241m*\u001b[39margs, \u001b[38;5;241m*\u001b[39m\u001b[38;5;241m*\u001b[39mkwargs)\n",
      "\u001b[1;31mTypeError\u001b[0m: say_hello() missing 1 required positional argument: 'name'"
     ]
    }
   ],
   "source": [
    "say_hello()  # Output: Before function call"
   ]
  }
 ],
 "metadata": {
  "kernelspec": {
   "display_name": "Python 3",
   "language": "python",
   "name": "python3"
  },
  "language_info": {
   "codemirror_mode": {
    "name": "ipython",
    "version": 3
   },
   "file_extension": ".py",
   "mimetype": "text/x-python",
   "name": "python",
   "nbconvert_exporter": "python",
   "pygments_lexer": "ipython3",
   "version": "3.9.13"
  }
 },
 "nbformat": 4,
 "nbformat_minor": 5
}
